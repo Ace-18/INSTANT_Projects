{
 "cells": [
  {
   "cell_type": "code",
   "execution_count": 3,
   "id": "f9a952c4",
   "metadata": {
    "ExecuteTime": {
     "end_time": "2022-08-03T18:14:41.597217Z",
     "start_time": "2022-08-03T18:14:41.066815Z"
    }
   },
   "outputs": [],
   "source": [
    "import cv2"
   ]
  },
  {
   "cell_type": "code",
   "execution_count": 4,
   "id": "d95904d6",
   "metadata": {
    "ExecuteTime": {
     "end_time": "2022-08-03T18:14:42.285753Z",
     "start_time": "2022-08-03T18:14:42.232746Z"
    }
   },
   "outputs": [],
   "source": [
    "face_cascade=cv2.CascadeClassifier(cv2.data.haarcascades+'haarcascade_frontalface_default.xml')\n"
   ]
  },
  {
   "cell_type": "code",
   "execution_count": 5,
   "id": "8c4ca8dc",
   "metadata": {
    "ExecuteTime": {
     "end_time": "2022-08-03T18:14:42.755534Z",
     "start_time": "2022-08-03T18:14:42.738547Z"
    }
   },
   "outputs": [],
   "source": [
    "#For Eye detection\n",
    "#eye_cascade=cv2.CascadeClassifier(cv2.data.haarcascades+'haarcascade_eye.xml')"
   ]
  },
  {
   "cell_type": "code",
   "execution_count": 7,
   "id": "d89af2ff",
   "metadata": {
    "ExecuteTime": {
     "end_time": "2022-08-03T18:15:25.280357Z",
     "start_time": "2022-08-03T18:15:13.446844Z"
    }
   },
   "outputs": [],
   "source": [
    "cap=cv2.VideoCapture(0)\n",
    "\n",
    "while True:\n",
    "    \n",
    "    ret,frame=cap.read()\n",
    "    \n",
    "    gray=cv2.cvtColor(frame,cv2.COLOR_BGR2GRAY)\n",
    "    faces=face_cascade.detectMultiScale(gray,1.3,5)\n",
    "    \n",
    "    f=frame.copy()\n",
    "    \n",
    "    for (x,y,w,h) in faces:\n",
    "        cv2.rectangle(f,(x,y),(x+w,y+h),(255,0,0),2)\n",
    "        \n",
    "        \n",
    "    cv2.namedWindow(\"Image\", cv2.WINDOW_NORMAL)\n",
    "    cv2.imshow('Image',f)\n",
    "    \n",
    "    \n",
    "    \n",
    "    if cv2.waitKey(1) == ord('a'):\n",
    "        break\n",
    "        \n",
    "\n",
    "cap.release()    \n",
    "cv2.destroyAllWindows()"
   ]
  }
 ],
 "metadata": {
  "kernelspec": {
   "display_name": "Python 3 (ipykernel)",
   "language": "python",
   "name": "python3"
  },
  "language_info": {
   "codemirror_mode": {
    "name": "ipython",
    "version": 3
   },
   "file_extension": ".py",
   "mimetype": "text/x-python",
   "name": "python",
   "nbconvert_exporter": "python",
   "pygments_lexer": "ipython3",
   "version": "3.9.6"
  }
 },
 "nbformat": 4,
 "nbformat_minor": 5
}
