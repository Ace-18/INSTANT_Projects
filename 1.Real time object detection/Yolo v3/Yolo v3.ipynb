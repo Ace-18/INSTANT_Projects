{
 "cells": [
  {
   "cell_type": "code",
   "execution_count": 1,
   "id": "78e5d601",
   "metadata": {
    "ExecuteTime": {
     "end_time": "2022-10-23T19:28:29.082283Z",
     "start_time": "2022-10-23T19:28:28.712169Z"
    }
   },
   "outputs": [],
   "source": [
    "import numpy as np\n",
    "import cv2"
   ]
  },
  {
   "cell_type": "code",
   "execution_count": 2,
   "id": "4c4d8a60",
   "metadata": {
    "ExecuteTime": {
     "end_time": "2022-10-23T19:28:29.799886Z",
     "start_time": "2022-10-23T19:28:29.751378Z"
    }
   },
   "outputs": [
    {
     "data": {
      "text/plain": [
       "81"
      ]
     },
     "execution_count": 2,
     "metadata": {},
     "output_type": "execute_result"
    }
   ],
   "source": [
    "with open('coco.names.txt') as t:\n",
    "    class_names=t.read().split('\\n')\n",
    "\n",
    "len(class_names)"
   ]
  },
  {
   "cell_type": "markdown",
   "id": "34443881",
   "metadata": {},
   "source": [
    "The wights and cfg files were downloaded from: https://pjreddie.com/darknet/yolo/"
   ]
  },
  {
   "cell_type": "code",
   "execution_count": 3,
   "id": "1fce42c7",
   "metadata": {
    "ExecuteTime": {
     "end_time": "2022-10-23T19:28:31.643941Z",
     "start_time": "2022-10-23T19:28:31.637947Z"
    }
   },
   "outputs": [],
   "source": [
    "# YOLOv3-320 was used in this notebook so slow performance for real-time might be noticed. \n",
    "# For faster performance use YOLOv3-tiny instead (might lead in decrease in accuracy)\n",
    "\n",
    "model_config='yolov3.cfg.txt'\n",
    "\n",
    "model_weights='yolov3.weights'"
   ]
  },
  {
   "cell_type": "code",
   "execution_count": 4,
   "id": "a9283f7a",
   "metadata": {
    "ExecuteTime": {
     "end_time": "2022-10-23T19:28:36.999311Z",
     "start_time": "2022-10-23T19:28:32.133503Z"
    }
   },
   "outputs": [],
   "source": [
    "net=cv2.dnn.readNetFromDarknet(model_config,model_weights)\n",
    "\n",
    "net.setPreferableBackend(cv2.dnn.DNN_BACKEND_OPENCV)\n",
    "net.setPreferableTarget(cv2.dnn.DNN_TARGET_CPU)"
   ]
  },
  {
   "cell_type": "code",
   "execution_count": 6,
   "id": "ca8c84df",
   "metadata": {
    "ExecuteTime": {
     "end_time": "2022-10-23T19:28:39.231952Z",
     "start_time": "2022-10-23T19:28:39.207950Z"
    }
   },
   "outputs": [],
   "source": [
    "def find_objects(outputs,img,threshold=0.5,nms_threshold=0.3):\n",
    "    height,width,channels=img.shape\n",
    "    bbox=[]\n",
    "    classIds=[]\n",
    "    confids=[]\n",
    "    \n",
    "    for output in outputs:\n",
    "        for detection in output:\n",
    "            scores=detection[5:]\n",
    "            classId=np.argmax(scores)\n",
    "            confidence=scores[classId]\n",
    "            \n",
    "            if confidence>threshold:\n",
    "                w,h= int(detection[2]*width),int(detection[3]*height)\n",
    "                x,y= int(detection[0]*width - w/2),int(detection[1]*height - h/2)\n",
    "                \n",
    "                bbox.append([x,y,w,h])\n",
    "                classIds.append(classId)\n",
    "                confids.append(float(confidence))\n",
    "    \n",
    "    indices=cv2.dnn.NMSBoxes(bbox,confids,threshold,nms_threshold)\n",
    "     \n",
    "    for i in indices:\n",
    "        box=bbox[i]\n",
    "        x,y,w,h=box\n",
    "        cv2.rectangle(img,(x,y),(x+w,y+h),(255,0,255),2)\n",
    "        cv2.putText(img,f'{class_names[classIds[i]].upper()} {confids[i]*100:.1f}%', \n",
    "                    (x,y-10),cv2.FONT_HERSHEY_SIMPLEX, 0.4,(255,0,255),2)\n",
    "        \n",
    "       "
   ]
  },
  {
   "cell_type": "code",
   "execution_count": 39,
   "id": "d2a9d768",
   "metadata": {
    "ExecuteTime": {
     "end_time": "2022-10-23T19:24:34.964109Z",
     "start_time": "2022-10-23T19:24:34.886118Z"
    }
   },
   "outputs": [],
   "source": [
    "#Testing on an image \n",
    "\n",
    "img=cv2.imread('')#Enter image path\n",
    "\n",
    "blob=cv2.dnn.blobFromImage(img,1/255,(320,320),[0,0,0],crop=False)\n",
    "net.setInput(blob)\n",
    "    \n",
    "outputs=net.getUnconnectedOutLayersNames()\n",
    "outputs=net.forward(outputs)\n",
    "    \n",
    "find_objects(outputs,img)\n",
    "\n",
    "cv2.imshow('Image',img)\n",
    "cv2.namedWindow(\"Image\", cv2.WINDOW_NORMAL)\n",
    "cv2.waitKey(0)         \n",
    "cv2.destroyAllWindows()"
   ]
  },
  {
   "cell_type": "code",
   "execution_count": 8,
   "id": "e967f0b7",
   "metadata": {
    "ExecuteTime": {
     "end_time": "2022-10-23T19:31:05.817280Z",
     "start_time": "2022-10-23T19:29:42.396323Z"
    }
   },
   "outputs": [],
   "source": [
    "cap=cv2.VideoCapture(0)\n",
    "\n",
    "while True:\n",
    "    _,img=cap.read() \n",
    "    \n",
    "    blob=cv2.dnn.blobFromImage(img,1/255,(320,320),[0,0,0],crop=False)\n",
    "    net.setInput(blob)\n",
    "    \n",
    "    outputs=net.getUnconnectedOutLayersNames()\n",
    "    outputs=net.forward(outputs)\n",
    "    \n",
    "    find_objects(outputs,img)\n",
    "    \n",
    "    cv2.imshow('Image',img)\n",
    "    cv2.namedWindow(\"Image\", cv2.WINDOW_NORMAL)\n",
    "    \n",
    "    if cv2.waitKey(1) == ord('a'):\n",
    "        break\n",
    "        \n",
    "cap.release()    \n",
    "cv2.destroyAllWindows()"
   ]
  }
 ],
 "metadata": {
  "kernelspec": {
   "display_name": "Python 3 (ipykernel)",
   "language": "python",
   "name": "python3"
  },
  "language_info": {
   "codemirror_mode": {
    "name": "ipython",
    "version": 3
   },
   "file_extension": ".py",
   "mimetype": "text/x-python",
   "name": "python",
   "nbconvert_exporter": "python",
   "pygments_lexer": "ipython3",
   "version": "3.9.6"
  }
 },
 "nbformat": 4,
 "nbformat_minor": 5
}
