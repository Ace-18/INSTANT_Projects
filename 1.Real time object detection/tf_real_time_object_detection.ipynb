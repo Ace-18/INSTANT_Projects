{
 "cells": [
  {
   "cell_type": "code",
   "execution_count": 1,
   "id": "4238e0b5",
   "metadata": {
    "ExecuteTime": {
     "end_time": "2022-08-21T23:29:31.398427Z",
     "start_time": "2022-08-21T23:29:25.166909Z"
    }
   },
   "outputs": [],
   "source": [
    "from tfod import *"
   ]
  },
  {
   "cell_type": "code",
   "execution_count": 2,
   "id": "5089b793",
   "metadata": {
    "ExecuteTime": {
     "end_time": "2022-08-21T23:29:31.414401Z",
     "start_time": "2022-08-21T23:29:31.404411Z"
    }
   },
   "outputs": [],
   "source": [
    "classfile='coco.names.txt'\n",
    "\n",
    "model_url='http://download.tensorflow.org/models/object_detection/tf2/20200711/ssd_mobilenet_v2_320x320_coco17_tpu-8.tar.gz'"
   ]
  },
  {
   "cell_type": "code",
   "execution_count": 3,
   "id": "d77f494f",
   "metadata": {
    "ExecuteTime": {
     "end_time": "2022-08-21T23:29:31.429392Z",
     "start_time": "2022-08-21T23:29:31.421398Z"
    }
   },
   "outputs": [],
   "source": [
    "detector= Detector()"
   ]
  },
  {
   "cell_type": "code",
   "execution_count": 4,
   "id": "a294a18f",
   "metadata": {
    "ExecuteTime": {
     "end_time": "2022-08-21T23:29:36.583391Z",
     "start_time": "2022-08-21T23:29:31.447384Z"
    }
   },
   "outputs": [],
   "source": [
    "detector.downloadModel(model_url)"
   ]
  },
  {
   "cell_type": "code",
   "execution_count": 5,
   "id": "d599845d",
   "metadata": {
    "ExecuteTime": {
     "end_time": "2022-08-21T23:29:36.631366Z",
     "start_time": "2022-08-21T23:29:36.588388Z"
    }
   },
   "outputs": [
    {
     "name": "stdout",
     "output_type": "stream",
     "text": [
      "92 92\n"
     ]
    }
   ],
   "source": [
    "detector.readClass(classfile)"
   ]
  },
  {
   "cell_type": "code",
   "execution_count": 6,
   "id": "98d1c9c8",
   "metadata": {
    "ExecuteTime": {
     "end_time": "2022-08-21T23:30:01.529451Z",
     "start_time": "2022-08-21T23:29:36.636361Z"
    }
   },
   "outputs": [
    {
     "name": "stdout",
     "output_type": "stream",
     "text": [
      "model loaded\n"
     ]
    }
   ],
   "source": [
    "detector.load_model()"
   ]
  },
  {
   "cell_type": "code",
   "execution_count": 7,
   "id": "b8a034a1",
   "metadata": {
    "ExecuteTime": {
     "end_time": "2022-08-21T23:30:01.544442Z",
     "start_time": "2022-08-21T23:30:01.532453Z"
    }
   },
   "outputs": [],
   "source": [
    "ima='download.jfif'"
   ]
  },
  {
   "cell_type": "code",
   "execution_count": 8,
   "id": "6584d25c",
   "metadata": {
    "ExecuteTime": {
     "end_time": "2022-08-21T23:30:32.743110Z",
     "start_time": "2022-08-21T23:30:01.551439Z"
    }
   },
   "outputs": [],
   "source": [
    "detector.predict_img(ima)"
   ]
  },
  {
   "cell_type": "code",
   "execution_count": 10,
   "id": "03266c77",
   "metadata": {
    "ExecuteTime": {
     "end_time": "2022-08-21T23:34:16.240784Z",
     "start_time": "2022-08-21T23:31:31.742485Z"
    }
   },
   "outputs": [],
   "source": [
    "cap=cv2.VideoCapture(0)\n",
    "\n",
    "while True:\n",
    "    \n",
    "    ret,frame=cap.read()\n",
    "    \n",
    "    f=frame.copy()\n",
    "    \n",
    "    f=detector.predict(frame)\n",
    "    cv2.namedWindow(\"Image\", cv2.WINDOW_NORMAL)\n",
    "    cv2.imshow('Image',f)\n",
    "    \n",
    "    if cv2.waitKey(1) == ord('a'):\n",
    "        break\n",
    "        \n",
    "cap.release()    \n",
    "cv2.destroyAllWindows()"
   ]
  },
  {
   "cell_type": "code",
   "execution_count": null,
   "id": "88bea9cd",
   "metadata": {},
   "outputs": [],
   "source": []
  }
 ],
 "metadata": {
  "kernelspec": {
   "display_name": "Python 3 (ipykernel)",
   "language": "python",
   "name": "python3"
  },
  "language_info": {
   "codemirror_mode": {
    "name": "ipython",
    "version": 3
   },
   "file_extension": ".py",
   "mimetype": "text/x-python",
   "name": "python",
   "nbconvert_exporter": "python",
   "pygments_lexer": "ipython3",
   "version": "3.9.6"
  }
 },
 "nbformat": 4,
 "nbformat_minor": 5
}
