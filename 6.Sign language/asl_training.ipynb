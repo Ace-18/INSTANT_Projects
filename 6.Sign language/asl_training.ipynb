{
 "cells": [
  {
   "cell_type": "code",
   "execution_count": 2,
   "id": "ce234431",
   "metadata": {
    "ExecuteTime": {
     "end_time": "2022-09-18T00:01:58.654592Z",
     "start_time": "2022-09-18T00:01:52.546191Z"
    }
   },
   "outputs": [],
   "source": [
    "import numpy as np\n",
    "import pandas as pd\n",
    "import cv2\n",
    "import matplotlib.pyplot as plt\n",
    "import seaborn as sns\n",
    "\n",
    "from os import listdir  \n",
    "from os.path import join"
   ]
  },
  {
   "cell_type": "code",
   "execution_count": 44,
   "id": "dfe39a16",
   "metadata": {
    "ExecuteTime": {
     "end_time": "2022-09-18T00:12:54.497394Z",
     "start_time": "2022-09-18T00:12:54.489406Z"
    }
   },
   "outputs": [],
   "source": [
    "def show(i):                \n",
    "    cv2.namedWindow(\"Image\", cv2.WINDOW_NORMAL)\n",
    "    cv2.imshow('Image',i)\n",
    "    cv2.waitKey(0)\n",
    "    cv2.destroyAllWindows()"
   ]
  },
  {
   "cell_type": "code",
   "execution_count": 3,
   "id": "e950841d",
   "metadata": {
    "ExecuteTime": {
     "end_time": "2022-09-18T00:01:59.566455Z",
     "start_time": "2022-09-18T00:01:59.542461Z"
    }
   },
   "outputs": [],
   "source": [
    "path='asl_letters'"
   ]
  },
  {
   "cell_type": "code",
   "execution_count": 88,
   "id": "50eb4ad5",
   "metadata": {
    "ExecuteTime": {
     "end_time": "2022-09-19T18:51:19.776312Z",
     "start_time": "2022-09-19T18:51:19.758326Z"
    }
   },
   "outputs": [],
   "source": [
    "imgs=[]\n",
    "labels=[]"
   ]
  },
  {
   "cell_type": "code",
   "execution_count": 89,
   "id": "9d49025a",
   "metadata": {
    "ExecuteTime": {
     "end_time": "2022-09-19T18:51:26.905703Z",
     "start_time": "2022-09-19T18:51:20.213062Z"
    }
   },
   "outputs": [],
   "source": [
    "for l in listdir(path):\n",
    "    letter=join(path, l)\n",
    "    for i in listdir(letter):\n",
    "        img_path=join(letter,i)\n",
    "        img=cv2.imread(img_path)\n",
    "        img=cv2.resize(img,(50,50),interpolation=cv2.INTER_CUBIC)\n",
    "        imgs.append(img)\n",
    "        labels.append(l)\n",
    "        "
   ]
  },
  {
   "cell_type": "code",
   "execution_count": 17,
   "id": "5d275b76",
   "metadata": {
    "ExecuteTime": {
     "end_time": "2022-09-18T00:04:56.364622Z",
     "start_time": "2022-09-18T00:04:56.308622Z"
    }
   },
   "outputs": [],
   "source": [
    "ccc=cv2.imread(iii)"
   ]
  },
  {
   "cell_type": "code",
   "execution_count": 99,
   "id": "ccbad2b0",
   "metadata": {
    "ExecuteTime": {
     "end_time": "2022-09-19T19:16:35.363760Z",
     "start_time": "2022-09-19T19:16:35.347755Z"
    }
   },
   "outputs": [
    {
     "data": {
      "text/plain": [
       "1815"
      ]
     },
     "execution_count": 99,
     "metadata": {},
     "output_type": "execute_result"
    }
   ],
   "source": [
    "len(imgs)"
   ]
  },
  {
   "cell_type": "code",
   "execution_count": 91,
   "id": "19f2384a",
   "metadata": {
    "ExecuteTime": {
     "end_time": "2022-09-19T18:51:27.000666Z",
     "start_time": "2022-09-19T18:51:26.957676Z"
    }
   },
   "outputs": [],
   "source": [
    "a=np.array(imgs,dtype=np.uint8)"
   ]
  },
  {
   "cell_type": "code",
   "execution_count": 100,
   "id": "3f5a4a20",
   "metadata": {
    "ExecuteTime": {
     "end_time": "2022-09-19T19:16:38.531617Z",
     "start_time": "2022-09-19T19:16:38.511627Z"
    }
   },
   "outputs": [
    {
     "data": {
      "text/plain": [
       "(1815, 50, 50, 3)"
      ]
     },
     "execution_count": 100,
     "metadata": {},
     "output_type": "execute_result"
    }
   ],
   "source": [
    "a.shape"
   ]
  },
  {
   "cell_type": "code",
   "execution_count": 59,
   "id": "1d0dcb6d",
   "metadata": {
    "ExecuteTime": {
     "end_time": "2022-09-19T18:41:01.219714Z",
     "start_time": "2022-09-19T18:40:59.036958Z"
    }
   },
   "outputs": [],
   "source": [
    "cv2.namedWindow(\"Image\", cv2.WINDOW_NORMAL)\n",
    "cv2.imshow('Image',ccc)\n",
    "cv2.waitKey(0)\n",
    "cv2.destroyAllWindows()"
   ]
  },
  {
   "cell_type": "code",
   "execution_count": 67,
   "id": "cd532c36",
   "metadata": {
    "ExecuteTime": {
     "end_time": "2022-09-19T18:43:48.838927Z",
     "start_time": "2022-09-19T18:43:46.472460Z"
    }
   },
   "outputs": [],
   "source": [
    "show(cv2.resize(ccc,(50,50),interpolation=cv2.INTER_LINEAR))"
   ]
  },
  {
   "cell_type": "code",
   "execution_count": 71,
   "id": "7b64d276",
   "metadata": {
    "ExecuteTime": {
     "end_time": "2022-09-19T18:44:27.382177Z",
     "start_time": "2022-09-19T18:44:25.766106Z"
    }
   },
   "outputs": [
    {
     "data": {
      "text/plain": [
       "<matplotlib.image.AxesImage at 0x25cda19e310>"
      ]
     },
     "execution_count": 71,
     "metadata": {},
     "output_type": "execute_result"
    },
    {
     "data": {
      "image/png": "[encoded data removed]",
      "text/plain": [
       "<Figure size 432x288 with 1 Axes>"
      ]
     },
     "metadata": {
      "needs_background": "light"
     },
     "output_type": "display_data"
    }
   ],
   "source": [
    "fig,ax=\n",
    "plt.imshow(cv2.resize(ccc,(50,50),interpolation=cv2.INTER_LINEAR))"
   ]
  },
  {
   "cell_type": "code",
   "execution_count": 103,
   "id": "e9bf4aa5",
   "metadata": {
    "ExecuteTime": {
     "end_time": "2022-09-19T19:16:57.138611Z",
     "start_time": "2022-09-19T19:16:56.962702Z"
    }
   },
   "outputs": [
    {
     "data": {
      "text/plain": [
       "<matplotlib.image.AxesImage at 0x25cdb836d90>"
      ]
     },
     "execution_count": 103,
     "metadata": {},
     "output_type": "execute_result"
    },
    {
     "data": {
      "image/png": "[encoded data removed]",
      "text/plain": [
       "<Figure size 432x288 with 1 Axes>"
      ]
     },
     "metadata": {
      "needs_background": "light"
     },
     "output_type": "display_data"
    }
   ],
   "source": [
    "plt.imshow(a[-1])"
   ]
  },
  {
   "cell_type": "code",
   "execution_count": null,
   "id": "a8e1664e",
   "metadata": {},
   "outputs": [],
   "source": []
  },
  {
   "cell_type": "code",
   "execution_count": null,
   "id": "1160be71",
   "metadata": {},
   "outputs": [],
   "source": [
    "#importing images path\n",
    "images_path = [join(path, f) for f in listdir(path)]\n",
    "\n",
    "#making target column \n",
    "target = [f.split('_')[0] for f in listdir(path)] "
   ]
  },
  {
   "cell_type": "code",
   "execution_count": null,
   "id": "af563de4",
   "metadata": {},
   "outputs": [],
   "source": []
  },
  {
   "cell_type": "code",
   "execution_count": 3,
   "id": "bd44df3d",
   "metadata": {
    "ExecuteTime": {
     "end_time": "2022-09-17T19:00:18.182968Z",
     "start_time": "2022-09-17T19:00:07.702781Z"
    }
   },
   "outputs": [],
   "source": [
    "train=pd.read_csv('sign_mnist_train/sign_mnist_train.csv')\n",
    "test=pd.read_csv('sign_mnist_test/sign_mnist_test.csv')"
   ]
  },
  {
   "cell_type": "code",
   "execution_count": 4,
   "id": "cdb3d5e8",
   "metadata": {
    "ExecuteTime": {
     "end_time": "2022-09-17T19:00:18.229940Z",
     "start_time": "2022-09-17T19:00:18.186967Z"
    }
   },
   "outputs": [],
   "source": [
    "sample=train.iloc[0]\n",
    "\n",
    "sample=sample[1:]\n",
    "\n",
    "sample=sample.values\n",
    "\n",
    "sample=sample.reshape((28,28))"
   ]
  },
  {
   "cell_type": "code",
   "execution_count": 58,
   "id": "d78c4bfd",
   "metadata": {
    "ExecuteTime": {
     "end_time": "2022-09-18T00:23:16.742844Z",
     "start_time": "2022-09-18T00:23:16.438870Z"
    }
   },
   "outputs": [
    {
     "data": {
      "text/plain": [
       "<matplotlib.image.AxesImage at 0x25cdbccd520>"
      ]
     },
     "execution_count": 58,
     "metadata": {},
     "output_type": "execute_result"
    },
    {
     "data": {
      "image/png": "[encoded data removed]",
      "text/plain": [
       "<Figure size 432x288 with 1 Axes>"
      ]
     },
     "metadata": {
      "needs_background": "light"
     },
     "output_type": "display_data"
    }
   ],
   "source": [
    "plt.imshow(imgs[100])"
   ]
  },
  {
   "cell_type": "code",
   "execution_count": 12,
   "id": "7b27b79e",
   "metadata": {
    "ExecuteTime": {
     "end_time": "2022-09-17T19:04:22.362267Z",
     "start_time": "2022-09-17T19:04:22.351272Z"
    }
   },
   "outputs": [],
   "source": [
    "s=sample.flatten()"
   ]
  },
  {
   "cell_type": "code",
   "execution_count": 14,
   "id": "8e183cec",
   "metadata": {
    "ExecuteTime": {
     "end_time": "2022-09-17T19:04:27.936447Z",
     "start_time": "2022-09-17T19:04:27.928452Z"
    }
   },
   "outputs": [
    {
     "data": {
      "text/plain": [
       "(784,)"
      ]
     },
     "execution_count": 14,
     "metadata": {},
     "output_type": "execute_result"
    }
   ],
   "source": [
    "s.shape"
   ]
  },
  {
   "cell_type": "code",
   "execution_count": 24,
   "id": "57d81311",
   "metadata": {
    "ExecuteTime": {
     "end_time": "2022-09-17T19:06:45.342311Z",
     "start_time": "2022-09-17T19:06:40.543754Z"
    }
   },
   "outputs": [],
   "source": [
    "res=model.predict(s.reshape(-1,28,28,1))"
   ]
  },
  {
   "cell_type": "code",
   "execution_count": 25,
   "id": "0402278d",
   "metadata": {
    "ExecuteTime": {
     "end_time": "2022-09-17T19:06:46.144838Z",
     "start_time": "2022-09-17T19:06:46.113848Z"
    }
   },
   "outputs": [
    {
     "data": {
      "text/plain": [
       "'A'"
      ]
     },
     "execution_count": 25,
     "metadata": {},
     "output_type": "execute_result"
    }
   ],
   "source": [
    "classes[list(np.where(res==1))[0][0]]"
   ]
  },
  {
   "cell_type": "code",
   "execution_count": 5,
   "id": "3dcb2229",
   "metadata": {
    "ExecuteTime": {
     "end_time": "2022-09-09T15:13:40.522442Z",
     "start_time": "2022-09-09T15:13:40.410844Z"
    }
   },
   "outputs": [
    {
     "data": {
      "text/html": [
       "<div>\n",
       "<style scoped>\n",
       "    .dataframe tbody tr th:only-of-type {\n",
       "        vertical-align: middle;\n",
       "    }\n",
       "\n",
       "    .dataframe tbody tr th {\n",
       "        vertical-align: top;\n",
       "    }\n",
       "\n",
       "    .dataframe thead th {\n",
       "        text-align: right;\n",
       "    }\n",
       "</style>\n",
       "<table border=\"1\" class=\"dataframe\">\n",
       "  <thead>\n",
       "    <tr style=\"text-align: right;\">\n",
       "      <th></th>\n",
       "      <th>label</th>\n",
       "      <th>pixel1</th>\n",
       "      <th>pixel2</th>\n",
       "      <th>pixel3</th>\n",
       "      <th>pixel4</th>\n",
       "      <th>pixel5</th>\n",
       "      <th>pixel6</th>\n",
       "      <th>pixel7</th>\n",
       "      <th>pixel8</th>\n",
       "      <th>pixel9</th>\n",
       "      <th>...</th>\n",
       "      <th>pixel775</th>\n",
       "      <th>pixel776</th>\n",
       "      <th>pixel777</th>\n",
       "      <th>pixel778</th>\n",
       "      <th>pixel779</th>\n",
       "      <th>pixel780</th>\n",
       "      <th>pixel781</th>\n",
       "      <th>pixel782</th>\n",
       "      <th>pixel783</th>\n",
       "      <th>pixel784</th>\n",
       "    </tr>\n",
       "  </thead>\n",
       "  <tbody>\n",
       "    <tr>\n",
       "      <th>0</th>\n",
       "      <td>3</td>\n",
       "      <td>107</td>\n",
       "      <td>118</td>\n",
       "      <td>127</td>\n",
       "      <td>134</td>\n",
       "      <td>139</td>\n",
       "      <td>143</td>\n",
       "      <td>146</td>\n",
       "      <td>150</td>\n",
       "      <td>153</td>\n",
       "      <td>...</td>\n",
       "      <td>207</td>\n",
       "      <td>207</td>\n",
       "      <td>207</td>\n",
       "      <td>207</td>\n",
       "      <td>206</td>\n",
       "      <td>206</td>\n",
       "      <td>206</td>\n",
       "      <td>204</td>\n",
       "      <td>203</td>\n",
       "      <td>202</td>\n",
       "    </tr>\n",
       "    <tr>\n",
       "      <th>1</th>\n",
       "      <td>6</td>\n",
       "      <td>155</td>\n",
       "      <td>157</td>\n",
       "      <td>156</td>\n",
       "      <td>156</td>\n",
       "      <td>156</td>\n",
       "      <td>157</td>\n",
       "      <td>156</td>\n",
       "      <td>158</td>\n",
       "      <td>158</td>\n",
       "      <td>...</td>\n",
       "      <td>69</td>\n",
       "      <td>149</td>\n",
       "      <td>128</td>\n",
       "      <td>87</td>\n",
       "      <td>94</td>\n",
       "      <td>163</td>\n",
       "      <td>175</td>\n",
       "      <td>103</td>\n",
       "      <td>135</td>\n",
       "      <td>149</td>\n",
       "    </tr>\n",
       "    <tr>\n",
       "      <th>2</th>\n",
       "      <td>2</td>\n",
       "      <td>187</td>\n",
       "      <td>188</td>\n",
       "      <td>188</td>\n",
       "      <td>187</td>\n",
       "      <td>187</td>\n",
       "      <td>186</td>\n",
       "      <td>187</td>\n",
       "      <td>188</td>\n",
       "      <td>187</td>\n",
       "      <td>...</td>\n",
       "      <td>202</td>\n",
       "      <td>201</td>\n",
       "      <td>200</td>\n",
       "      <td>199</td>\n",
       "      <td>198</td>\n",
       "      <td>199</td>\n",
       "      <td>198</td>\n",
       "      <td>195</td>\n",
       "      <td>194</td>\n",
       "      <td>195</td>\n",
       "    </tr>\n",
       "    <tr>\n",
       "      <th>3</th>\n",
       "      <td>2</td>\n",
       "      <td>211</td>\n",
       "      <td>211</td>\n",
       "      <td>212</td>\n",
       "      <td>212</td>\n",
       "      <td>211</td>\n",
       "      <td>210</td>\n",
       "      <td>211</td>\n",
       "      <td>210</td>\n",
       "      <td>210</td>\n",
       "      <td>...</td>\n",
       "      <td>235</td>\n",
       "      <td>234</td>\n",
       "      <td>233</td>\n",
       "      <td>231</td>\n",
       "      <td>230</td>\n",
       "      <td>226</td>\n",
       "      <td>225</td>\n",
       "      <td>222</td>\n",
       "      <td>229</td>\n",
       "      <td>163</td>\n",
       "    </tr>\n",
       "    <tr>\n",
       "      <th>4</th>\n",
       "      <td>13</td>\n",
       "      <td>164</td>\n",
       "      <td>167</td>\n",
       "      <td>170</td>\n",
       "      <td>172</td>\n",
       "      <td>176</td>\n",
       "      <td>179</td>\n",
       "      <td>180</td>\n",
       "      <td>184</td>\n",
       "      <td>185</td>\n",
       "      <td>...</td>\n",
       "      <td>92</td>\n",
       "      <td>105</td>\n",
       "      <td>105</td>\n",
       "      <td>108</td>\n",
       "      <td>133</td>\n",
       "      <td>163</td>\n",
       "      <td>157</td>\n",
       "      <td>163</td>\n",
       "      <td>164</td>\n",
       "      <td>179</td>\n",
       "    </tr>\n",
       "  </tbody>\n",
       "</table>\n",
       "<p>5 rows × 785 columns</p>\n",
       "</div>"
      ],
      "text/plain": [
       "   label  pixel1  pixel2  pixel3  pixel4  pixel5  pixel6  pixel7  pixel8  \\\n",
       "0      3     107     118     127     134     139     143     146     150   \n",
       "1      6     155     157     156     156     156     157     156     158   \n",
       "2      2     187     188     188     187     187     186     187     188   \n",
       "3      2     211     211     212     212     211     210     211     210   \n",
       "4     13     164     167     170     172     176     179     180     184   \n",
       "\n",
       "   pixel9  ...  pixel775  pixel776  pixel777  pixel778  pixel779  pixel780  \\\n",
       "0     153  ...       207       207       207       207       206       206   \n",
       "1     158  ...        69       149       128        87        94       163   \n",
       "2     187  ...       202       201       200       199       198       199   \n",
       "3     210  ...       235       234       233       231       230       226   \n",
       "4     185  ...        92       105       105       108       133       163   \n",
       "\n",
       "   pixel781  pixel782  pixel783  pixel784  \n",
       "0       206       204       203       202  \n",
       "1       175       103       135       149  \n",
       "2       198       195       194       195  \n",
       "3       225       222       229       163  \n",
       "4       157       163       164       179  \n",
       "\n",
       "[5 rows x 785 columns]"
      ]
     },
     "execution_count": 5,
     "metadata": {},
     "output_type": "execute_result"
    }
   ],
   "source": [
    "train.head()"
   ]
  },
  {
   "cell_type": "code",
   "execution_count": 104,
   "id": "18bb943d",
   "metadata": {
    "ExecuteTime": {
     "end_time": "2022-09-19T19:18:37.398989Z",
     "start_time": "2022-09-19T19:18:37.388993Z"
    }
   },
   "outputs": [
    {
     "data": {
      "text/plain": [
       "(1815, 50, 50, 3)"
      ]
     },
     "execution_count": 104,
     "metadata": {},
     "output_type": "execute_result"
    }
   ],
   "source": [
    "a.shape"
   ]
  },
  {
   "cell_type": "code",
   "execution_count": 105,
   "id": "1d3126d4",
   "metadata": {
    "ExecuteTime": {
     "end_time": "2022-09-19T19:19:21.384780Z",
     "start_time": "2022-09-19T19:19:21.331812Z"
    }
   },
   "outputs": [],
   "source": [
    "x = a.copy()\n",
    "y = labels"
   ]
  },
  {
   "cell_type": "code",
   "execution_count": 107,
   "id": "e3b31db3",
   "metadata": {
    "ExecuteTime": {
     "end_time": "2022-09-19T19:20:15.076121Z",
     "start_time": "2022-09-19T19:20:15.013139Z"
    }
   },
   "outputs": [],
   "source": [
    "#Normalizing \n",
    "x= x/255"
   ]
  },
  {
   "cell_type": "code",
   "execution_count": 109,
   "id": "1d4d748f",
   "metadata": {
    "ExecuteTime": {
     "end_time": "2022-09-19T19:20:45.892081Z",
     "start_time": "2022-09-19T19:20:45.883086Z"
    }
   },
   "outputs": [
    {
     "data": {
      "text/plain": [
       "(1815, 50, 50, 3)"
      ]
     },
     "execution_count": 109,
     "metadata": {},
     "output_type": "execute_result"
    }
   ],
   "source": [
    "x.shape"
   ]
  },
  {
   "cell_type": "code",
   "execution_count": 111,
   "id": "20856c4b",
   "metadata": {
    "ExecuteTime": {
     "end_time": "2022-09-19T19:20:58.826594Z",
     "start_time": "2022-09-19T19:20:58.819593Z"
    }
   },
   "outputs": [
    {
     "data": {
      "text/plain": [
       "1815"
      ]
     },
     "execution_count": 111,
     "metadata": {},
     "output_type": "execute_result"
    }
   ],
   "source": [
    "len(y)"
   ]
  },
  {
   "cell_type": "code",
   "execution_count": null,
   "id": "0cca8bb5",
   "metadata": {},
   "outputs": [],
   "source": []
  },
  {
   "cell_type": "code",
   "execution_count": 6,
   "id": "a7a6f3cc",
   "metadata": {
    "ExecuteTime": {
     "end_time": "2022-09-09T15:13:41.856917Z",
     "start_time": "2022-09-09T15:13:41.438988Z"
    }
   },
   "outputs": [],
   "source": [
    "X_train = train.drop([\"label\"],axis=1)\n",
    "X_test = test.drop([\"label\"],axis=1)\n",
    "Y_train = train['label']\n",
    "Y_test = test['label']\n",
    "del train['label']\n",
    "del test['label']"
   ]
  },
  {
   "cell_type": "code",
   "execution_count": 7,
   "id": "bcf533ca",
   "metadata": {
    "ExecuteTime": {
     "end_time": "2022-09-09T15:13:42.340640Z",
     "start_time": "2022-09-09T15:13:41.862914Z"
    }
   },
   "outputs": [
    {
     "data": {
      "text/plain": [
       "(7172, 784)"
      ]
     },
     "execution_count": 7,
     "metadata": {},
     "output_type": "execute_result"
    }
   ],
   "source": [
    "X_train = X_train/255.0\n",
    "X_test = X_test/255.0\n",
    "X_train.shape\n",
    "X_test.shape\n"
   ]
  },
  {
   "cell_type": "code",
   "execution_count": 8,
   "id": "16a689ee",
   "metadata": {
    "ExecuteTime": {
     "end_time": "2022-09-09T15:13:43.059989Z",
     "start_time": "2022-09-09T15:13:43.042001Z"
    }
   },
   "outputs": [
    {
     "data": {
      "text/plain": [
       "7172"
      ]
     },
     "execution_count": 8,
     "metadata": {},
     "output_type": "execute_result"
    }
   ],
   "source": [
    "X_test.shape[0]"
   ]
  },
  {
   "cell_type": "code",
   "execution_count": 9,
   "id": "fe890b6e",
   "metadata": {
    "ExecuteTime": {
     "end_time": "2022-09-09T15:13:43.686631Z",
     "start_time": "2022-09-09T15:13:43.675637Z"
    }
   },
   "outputs": [
    {
     "data": {
      "text/plain": [
       "(7172, 28, 28, 1)"
      ]
     },
     "execution_count": 9,
     "metadata": {},
     "output_type": "execute_result"
    }
   ],
   "source": [
    "X_train = X_train.values.reshape(-1,28,28,1)\n",
    "X_test = X_test.values.reshape(-1,28,28,1)\n",
    "X_train.shape\n",
    "X_test.shape"
   ]
  },
  {
   "cell_type": "code",
   "execution_count": null,
   "id": "2f5c3446",
   "metadata": {},
   "outputs": [],
   "source": []
  },
  {
   "cell_type": "code",
   "execution_count": 114,
   "id": "72c6cabd",
   "metadata": {
    "ExecuteTime": {
     "end_time": "2022-09-19T19:21:43.003921Z",
     "start_time": "2022-09-19T19:21:42.989926Z"
    }
   },
   "outputs": [],
   "source": [
    "from sklearn.preprocessing import LabelBinarizer\n",
    "label_binrizer = LabelBinarizer()"
   ]
  },
  {
   "cell_type": "code",
   "execution_count": 115,
   "id": "8feb0006",
   "metadata": {
    "ExecuteTime": {
     "end_time": "2022-09-19T19:22:00.297011Z",
     "start_time": "2022-09-19T19:22:00.252045Z"
    }
   },
   "outputs": [],
   "source": [
    "y = label_binrizer.fit_transform(y)"
   ]
  },
  {
   "cell_type": "code",
   "execution_count": 119,
   "id": "6bb5135d",
   "metadata": {
    "ExecuteTime": {
     "end_time": "2022-09-19T19:22:33.080536Z",
     "start_time": "2022-09-19T19:22:33.063545Z"
    }
   },
   "outputs": [
    {
     "data": {
      "text/plain": [
       "array([1, 0, 0, 0, 0, 0, 0, 0, 0, 0, 0, 0, 0, 0, 0, 0, 0, 0, 0, 0, 0, 0,\n",
       "       0, 0, 0, 0])"
      ]
     },
     "execution_count": 119,
     "metadata": {},
     "output_type": "execute_result"
    }
   ],
   "source": [
    "y[0]"
   ]
  },
  {
   "cell_type": "code",
   "execution_count": 120,
   "id": "d6ad3f2f",
   "metadata": {
    "ExecuteTime": {
     "end_time": "2022-09-19T19:22:33.578250Z",
     "start_time": "2022-09-19T19:22:33.566255Z"
    }
   },
   "outputs": [
    {
     "data": {
      "text/plain": [
       "(1815, 26)"
      ]
     },
     "execution_count": 120,
     "metadata": {},
     "output_type": "execute_result"
    }
   ],
   "source": [
    "y.shape"
   ]
  },
  {
   "cell_type": "code",
   "execution_count": null,
   "id": "a5e4f2a4",
   "metadata": {},
   "outputs": [],
   "source": []
  },
  {
   "cell_type": "code",
   "execution_count": null,
   "id": "09ced2f6",
   "metadata": {},
   "outputs": [],
   "source": [
    "Y_train = label_binrizer.fit_transform(Y_train)"
   ]
  },
  {
   "cell_type": "code",
   "execution_count": 11,
   "id": "ec14d7b1",
   "metadata": {
    "ExecuteTime": {
     "end_time": "2022-09-09T15:13:47.918772Z",
     "start_time": "2022-09-09T15:13:47.887613Z"
    }
   },
   "outputs": [
    {
     "data": {
      "text/plain": [
       "array([0, 0, 0, 1, 0, 0, 0, 0, 0, 0, 0, 0, 0, 0, 0, 0, 0, 0, 0, 0, 0, 0,\n",
       "       0, 0])"
      ]
     },
     "execution_count": 11,
     "metadata": {},
     "output_type": "execute_result"
    }
   ],
   "source": [
    "Y_train[0]"
   ]
  },
  {
   "cell_type": "code",
   "execution_count": 122,
   "id": "a25af5c9",
   "metadata": {
    "ExecuteTime": {
     "end_time": "2022-09-19T19:23:28.206669Z",
     "start_time": "2022-09-19T19:23:28.100726Z"
    }
   },
   "outputs": [
    {
     "name": "stdout",
     "output_type": "stream",
     "text": [
      "x_train shape (1452, 50, 50, 3)\n",
      "x_test shape (363, 50, 50, 3)\n",
      "y_train shape (1452, 26)\n",
      "y_test shape (363, 26)\n"
     ]
    }
   ],
   "source": [
    "from sklearn.model_selection import train_test_split\n",
    "X_train, X_test, Y_train, Y_test = train_test_split(x, y, test_size=0.2, random_state=42)\n",
    "\n",
    "print(\"x_train shape\",X_train.shape)\n",
    "print(\"x_test shape\",X_test.shape)\n",
    "print(\"y_train shape\",Y_train.shape)\n",
    "print(\"y_test shape\",Y_test.shape)"
   ]
  },
  {
   "cell_type": "code",
   "execution_count": 124,
   "id": "a2014342",
   "metadata": {
    "ExecuteTime": {
     "end_time": "2022-09-19T19:24:52.040253Z",
     "start_time": "2022-09-19T19:24:40.993669Z"
    }
   },
   "outputs": [],
   "source": [
    "from sklearn.metrics import confusion_matrix\n",
    "import itertools\n",
    "import tensorflow as tf\n",
    "\n",
    "from keras.utils.np_utils import to_categorical # convert to one-hot-encoding\n",
    "from keras.models import Sequential\n",
    "from keras.layers import Dense, Dropout, Flatten, Conv2D, MaxPool2D\n",
    "\n",
    "from keras.callbacks import ReduceLROnPlateau"
   ]
  },
  {
   "cell_type": "code",
   "execution_count": null,
   "id": "7af9914a",
   "metadata": {},
   "outputs": [],
   "source": []
  },
  {
   "cell_type": "code",
   "execution_count": 17,
   "id": "01af56d3",
   "metadata": {
    "ExecuteTime": {
     "end_time": "2022-09-09T15:16:40.750946Z",
     "start_time": "2022-09-09T15:16:40.390875Z"
    }
   },
   "outputs": [
    {
     "name": "stdout",
     "output_type": "stream",
     "text": [
      "Model: \"sequential_2\"\n",
      "_________________________________________________________________\n",
      "Layer (type)                 Output Shape              Param #   \n",
      "=================================================================\n",
      "conv2d_8 (Conv2D)            (None, 28, 28, 64)        640       \n",
      "_________________________________________________________________\n",
      "max_pooling2d_6 (MaxPooling2 (None, 14, 14, 64)        0         \n",
      "_________________________________________________________________\n",
      "conv2d_9 (Conv2D)            (None, 14, 14, 128)       73856     \n",
      "_________________________________________________________________\n",
      "max_pooling2d_7 (MaxPooling2 (None, 7, 7, 128)         0         \n",
      "_________________________________________________________________\n",
      "conv2d_10 (Conv2D)           (None, 7, 7, 512)         590336    \n",
      "_________________________________________________________________\n",
      "max_pooling2d_8 (MaxPooling2 (None, 3, 3, 512)         0         \n",
      "_________________________________________________________________\n",
      "conv2d_11 (Conv2D)           (None, 3, 3, 512)         2359808   \n",
      "_________________________________________________________________\n",
      "flatten_2 (Flatten)          (None, 4608)              0         \n",
      "_________________________________________________________________\n",
      "dense_4 (Dense)              (None, 512)               2359808   \n",
      "_________________________________________________________________\n",
      "dense_5 (Dense)              (None, 24)                12312     \n",
      "=================================================================\n",
      "Total params: 5,396,760\n",
      "Trainable params: 5,396,760\n",
      "Non-trainable params: 0\n",
      "_________________________________________________________________\n"
     ]
    }
   ],
   "source": [
    "a=tf.keras.models.Sequential([\n",
    "                        tf.keras.layers.Conv2D(64, kernel_size=3, activation='relu',padding = 'same', input_shape=(28, 28, 1)),\n",
    "                        tf.keras.layers.MaxPooling2D(2, 2),\n",
    "    \n",
    "                        tf.keras.layers.Conv2D(128, (3, 3),padding = 'same', activation='relu'),\n",
    "                        tf.keras.layers.MaxPooling2D(2, 2),\n",
    "    \n",
    "                        tf.keras.layers.Conv2D(512, (3, 3),padding = 'same', activation='relu'),\n",
    "                        tf.keras.layers.MaxPooling2D(2, 2),\n",
    "                        \n",
    "                        tf.keras.layers.Conv2D(512, (3, 3),padding = 'same', activation='relu'),\n",
    "                        tf.keras.layers.Flatten(),\n",
    "    \n",
    "                        tf.keras.layers.Dense(512, activation='relu'),\n",
    "                        tf.keras.layers.Dense(24, activation='softmax')])\n",
    "model.summary()\n"
   ]
  },
  {
   "cell_type": "code",
   "execution_count": 125,
   "id": "521bce9f",
   "metadata": {
    "ExecuteTime": {
     "end_time": "2022-09-19T19:25:06.984035Z",
     "start_time": "2022-09-19T19:25:01.862848Z"
    }
   },
   "outputs": [
    {
     "name": "stdout",
     "output_type": "stream",
     "text": [
      "Model: \"sequential\"\n",
      "_________________________________________________________________\n",
      "Layer (type)                 Output Shape              Param #   \n",
      "=================================================================\n",
      "conv2d (Conv2D)              (None, 50, 50, 64)        1792      \n",
      "_________________________________________________________________\n",
      "max_pooling2d (MaxPooling2D) (None, 25, 25, 64)        0         \n",
      "_________________________________________________________________\n",
      "conv2d_1 (Conv2D)            (None, 25, 25, 128)       73856     \n",
      "_________________________________________________________________\n",
      "max_pooling2d_1 (MaxPooling2 (None, 12, 12, 128)       0         \n",
      "_________________________________________________________________\n",
      "conv2d_2 (Conv2D)            (None, 12, 12, 512)       590336    \n",
      "_________________________________________________________________\n",
      "max_pooling2d_2 (MaxPooling2 (None, 6, 6, 512)         0         \n",
      "_________________________________________________________________\n",
      "conv2d_3 (Conv2D)            (None, 6, 6, 512)         2359808   \n",
      "_________________________________________________________________\n",
      "flatten (Flatten)            (None, 18432)             0         \n",
      "_________________________________________________________________\n",
      "dense (Dense)                (None, 512)               9437696   \n",
      "_________________________________________________________________\n",
      "dense_1 (Dense)              (None, 26)                13338     \n",
      "=================================================================\n",
      "Total params: 12,476,826\n",
      "Trainable params: 12,476,826\n",
      "Non-trainable params: 0\n",
      "_________________________________________________________________\n"
     ]
    }
   ],
   "source": [
    "#Using\n",
    "model = tf.keras.models.Sequential([\n",
    "                        tf.keras.layers.Conv2D(64, kernel_size=3, activation='relu',padding = 'same', input_shape=(50, 50, 3)),\n",
    "                        tf.keras.layers.MaxPooling2D(2, 2),\n",
    "    \n",
    "                        tf.keras.layers.Conv2D(128, (3, 3),padding = 'same', activation='relu'),\n",
    "                        tf.keras.layers.MaxPooling2D(2, 2),\n",
    "    \n",
    "                        tf.keras.layers.Conv2D(512, (3, 3),padding = 'same', activation='relu'),\n",
    "                        tf.keras.layers.MaxPooling2D(2, 2),\n",
    "                        \n",
    "                        tf.keras.layers.Conv2D(512, (3, 3),padding = 'same', activation='relu'),\n",
    "                        tf.keras.layers.Flatten(),\n",
    "    \n",
    "                        tf.keras.layers.Dense(512, activation='relu'),\n",
    "                        tf.keras.layers.Dense(26, activation='softmax')])\n",
    "model.summary()\n"
   ]
  },
  {
   "cell_type": "code",
   "execution_count": null,
   "id": "279234b2",
   "metadata": {},
   "outputs": [],
   "source": []
  },
  {
   "cell_type": "code",
   "execution_count": 126,
   "id": "0d29591a",
   "metadata": {
    "ExecuteTime": {
     "end_time": "2022-09-19T19:25:10.915400Z",
     "start_time": "2022-09-19T19:25:10.877422Z"
    }
   },
   "outputs": [],
   "source": [
    "#optimizer = Adam(lr=0.003, beta_1=0.9, beta_2=0.999)\n",
    "\n",
    "model.compile( optimizer='rmsprop' , loss = \"categorical_crossentropy\", metrics=[\"accuracy\"])"
   ]
  },
  {
   "cell_type": "code",
   "execution_count": 127,
   "id": "3bd732d1",
   "metadata": {
    "ExecuteTime": {
     "end_time": "2022-09-19T19:25:27.682864Z",
     "start_time": "2022-09-19T19:25:27.668870Z"
    }
   },
   "outputs": [],
   "source": [
    "epochs = 45 \n",
    "batch_size = 200"
   ]
  },
  {
   "cell_type": "code",
   "execution_count": 128,
   "id": "0cb96923",
   "metadata": {
    "ExecuteTime": {
     "end_time": "2022-09-19T19:26:50.161802Z",
     "start_time": "2022-09-19T19:26:50.153792Z"
    }
   },
   "outputs": [],
   "source": [
    "from keras.preprocessing.image import ImageDataGenerator"
   ]
  },
  {
   "cell_type": "code",
   "execution_count": 129,
   "id": "933766fc",
   "metadata": {
    "ExecuteTime": {
     "end_time": "2022-09-19T19:29:01.805480Z",
     "start_time": "2022-09-19T19:29:01.558675Z"
    }
   },
   "outputs": [],
   "source": [
    "#Data augmentation\n",
    "datagen = ImageDataGenerator(\n",
    "        featurewise_center=False,  \n",
    "        samplewise_center=False,  \n",
    "        featurewise_std_normalization=False,  \n",
    "        samplewise_std_normalization=False, \n",
    "        zca_whitening=False,\n",
    "        rotation_range=15, \n",
    "        zoom_range = 0.5,\n",
    "        width_shift_range=0.15,  \n",
    "        height_shift_range=0.15, \n",
    "        horizontal_flip=True,  \n",
    "        vertical_flip=False)  \n",
    "\n",
    "datagen.fit(X_train)"
   ]
  },
  {
   "cell_type": "code",
   "execution_count": 130,
   "id": "5ada3899",
   "metadata": {
    "ExecuteTime": {
     "end_time": "2022-09-19T19:49:07.515790Z",
     "start_time": "2022-09-19T19:29:29.066768Z"
    }
   },
   "outputs": [
    {
     "name": "stdout",
     "output_type": "stream",
     "text": [
      "Epoch 1/45\n",
      "7/7 [==============================] - 49s 3s/step - loss: 6.7702 - accuracy: 0.0351 - val_loss: 3.2447 - val_accuracy: 0.0275\n",
      "Epoch 2/45\n",
      "7/7 [==============================] - 24s 3s/step - loss: 3.1796 - accuracy: 0.0759 - val_loss: 2.7668 - val_accuracy: 0.1322\n",
      "Epoch 3/45\n",
      "7/7 [==============================] - 24s 3s/step - loss: 3.0946 - accuracy: 0.0855 - val_loss: 2.7881 - val_accuracy: 0.1488\n",
      "Epoch 4/45\n",
      "7/7 [==============================] - 15s 2s/step - loss: 2.8126 - accuracy: 0.1186 - val_loss: 2.2256 - val_accuracy: 0.2975\n",
      "Epoch 5/45\n",
      "7/7 [==============================] - 22s 3s/step - loss: 2.7280 - accuracy: 0.1494 - val_loss: 2.3766 - val_accuracy: 0.1873\n",
      "Epoch 6/45\n",
      "7/7 [==============================] - 25s 3s/step - loss: 2.7610 - accuracy: 0.1669 - val_loss: 2.2381 - val_accuracy: 0.2176\n",
      "Epoch 7/45\n",
      "7/7 [==============================] - 25s 2s/step - loss: 2.6847 - accuracy: 0.1861 - val_loss: 2.4308 - val_accuracy: 0.3003\n",
      "Epoch 8/45\n",
      "7/7 [==============================] - 30s 4s/step - loss: 2.6810 - accuracy: 0.1733 - val_loss: 2.0163 - val_accuracy: 0.4435\n",
      "Epoch 9/45\n",
      "7/7 [==============================] - 26s 3s/step - loss: 2.5407 - accuracy: 0.2029 - val_loss: 1.9753 - val_accuracy: 0.3829\n",
      "Epoch 10/45\n",
      "7/7 [==============================] - 18s 2s/step - loss: 2.4485 - accuracy: 0.2516 - val_loss: 1.5766 - val_accuracy: 0.4821\n",
      "Epoch 11/45\n",
      "7/7 [==============================] - 15s 2s/step - loss: 2.3925 - accuracy: 0.2460 - val_loss: 1.5296 - val_accuracy: 0.5537\n",
      "Epoch 12/45\n",
      "7/7 [==============================] - 18s 2s/step - loss: 2.4342 - accuracy: 0.2500 - val_loss: 1.4026 - val_accuracy: 0.5647\n",
      "Epoch 13/45\n",
      "7/7 [==============================] - 22s 3s/step - loss: 2.2276 - accuracy: 0.2963 - val_loss: 1.5790 - val_accuracy: 0.5813\n",
      "Epoch 14/45\n",
      "7/7 [==============================] - 18s 2s/step - loss: 2.1050 - accuracy: 0.3275 - val_loss: 1.3247 - val_accuracy: 0.5647\n",
      "Epoch 15/45\n",
      "7/7 [==============================] - 22s 2s/step - loss: 2.0263 - accuracy: 0.3466 - val_loss: 1.4055 - val_accuracy: 0.5510\n",
      "Epoch 16/45\n",
      "7/7 [==============================] - 24s 3s/step - loss: 2.0855 - accuracy: 0.3219 - val_loss: 1.2634 - val_accuracy: 0.5262\n",
      "Epoch 17/45\n",
      "7/7 [==============================] - 24s 2s/step - loss: 1.9079 - accuracy: 0.3754 - val_loss: 1.2650 - val_accuracy: 0.5840\n",
      "Epoch 18/45\n",
      "7/7 [==============================] - 16s 2s/step - loss: 1.8507 - accuracy: 0.4058 - val_loss: 1.1126 - val_accuracy: 0.6253\n",
      "Epoch 19/45\n",
      "7/7 [==============================] - 22s 3s/step - loss: 1.7689 - accuracy: 0.4241 - val_loss: 1.1041 - val_accuracy: 0.6639\n",
      "Epoch 20/45\n",
      "7/7 [==============================] - 25s 3s/step - loss: 1.6550 - accuracy: 0.4601 - val_loss: 1.0435 - val_accuracy: 0.6391\n",
      "Epoch 21/45\n",
      "7/7 [==============================] - 35s 5s/step - loss: 1.6130 - accuracy: 0.4673 - val_loss: 1.0159 - val_accuracy: 0.6391\n",
      "Epoch 22/45\n",
      "7/7 [==============================] - 45s 5s/step - loss: 1.4519 - accuracy: 0.5296 - val_loss: 0.8556 - val_accuracy: 0.6749\n",
      "Epoch 23/45\n",
      "7/7 [==============================] - 21s 3s/step - loss: 1.5633 - accuracy: 0.4872 - val_loss: 0.7489 - val_accuracy: 0.7328\n",
      "Epoch 24/45\n",
      "7/7 [==============================] - 32s 4s/step - loss: 1.3815 - accuracy: 0.5463 - val_loss: 0.8549 - val_accuracy: 0.7052\n",
      "Epoch 25/45\n",
      "7/7 [==============================] - 52s 5s/step - loss: 1.4539 - accuracy: 0.5240 - val_loss: 0.6674 - val_accuracy: 0.7686\n",
      "Epoch 26/45\n",
      "7/7 [==============================] - 32s 4s/step - loss: 1.3734 - accuracy: 0.5687 - val_loss: 0.6831 - val_accuracy: 0.7273\n",
      "Epoch 27/45\n",
      "7/7 [==============================] - 21s 3s/step - loss: 1.2953 - accuracy: 0.5767 - val_loss: 0.6261 - val_accuracy: 0.7824\n",
      "Epoch 28/45\n",
      "7/7 [==============================] - 20s 3s/step - loss: 1.2958 - accuracy: 0.5719 - val_loss: 0.5912 - val_accuracy: 0.7934\n",
      "Epoch 29/45\n",
      "7/7 [==============================] - 23s 3s/step - loss: 1.1705 - accuracy: 0.6021 - val_loss: 0.6817 - val_accuracy: 0.7658\n",
      "Epoch 30/45\n",
      "7/7 [==============================] - 28s 3s/step - loss: 1.2916 - accuracy: 0.5543 - val_loss: 0.5526 - val_accuracy: 0.8154\n",
      "Epoch 31/45\n",
      "7/7 [==============================] - 21s 2s/step - loss: 1.0680 - accuracy: 0.6414 - val_loss: 0.4067 - val_accuracy: 0.8595\n",
      "Epoch 32/45\n",
      "7/7 [==============================] - 16s 2s/step - loss: 1.0633 - accuracy: 0.6502 - val_loss: 0.5777 - val_accuracy: 0.7934\n",
      "Epoch 33/45\n",
      "7/7 [==============================] - 15s 2s/step - loss: 1.0394 - accuracy: 0.6741 - val_loss: 1.1295 - val_accuracy: 0.6253\n",
      "Epoch 34/45\n",
      "7/7 [==============================] - 17s 2s/step - loss: 1.0897 - accuracy: 0.6366 - val_loss: 0.5489 - val_accuracy: 0.7989\n",
      "Epoch 35/45\n",
      "7/7 [==============================] - 20s 3s/step - loss: 0.9335 - accuracy: 0.6845 - val_loss: 0.4692 - val_accuracy: 0.8292\n",
      "Epoch 36/45\n",
      "7/7 [==============================] - 28s 2s/step - loss: 0.9537 - accuracy: 0.6773 - val_loss: 0.3625 - val_accuracy: 0.8871\n",
      "Epoch 37/45\n",
      "7/7 [==============================] - 27s 4s/step - loss: 0.9165 - accuracy: 0.6869 - val_loss: 0.3334 - val_accuracy: 0.8926\n",
      "Epoch 38/45\n",
      "7/7 [==============================] - 24s 3s/step - loss: 0.8630 - accuracy: 0.7013 - val_loss: 0.3867 - val_accuracy: 0.8733\n",
      "Epoch 39/45\n",
      "7/7 [==============================] - 17s 2s/step - loss: 0.9377 - accuracy: 0.6845 - val_loss: 0.5799 - val_accuracy: 0.8099\n",
      "Epoch 40/45\n",
      "7/7 [==============================] - 22s 2s/step - loss: 0.8326 - accuracy: 0.7300 - val_loss: 0.2868 - val_accuracy: 0.9146\n",
      "Epoch 41/45\n",
      "7/7 [==============================] - 26s 3s/step - loss: 0.7128 - accuracy: 0.7492 - val_loss: 0.4556 - val_accuracy: 0.8678\n",
      "Epoch 42/45\n",
      "7/7 [==============================] - 16s 2s/step - loss: 0.8132 - accuracy: 0.7260 - val_loss: 0.2459 - val_accuracy: 0.9174\n",
      "Epoch 43/45\n",
      "7/7 [==============================] - 14s 2s/step - loss: 0.7864 - accuracy: 0.7356 - val_loss: 0.2815 - val_accuracy: 0.9091\n",
      "Epoch 44/45\n",
      "7/7 [==============================] - 55s 7s/step - loss: 0.6671 - accuracy: 0.7614 - val_loss: 0.5531 - val_accuracy: 0.8154\n",
      "Epoch 45/45\n",
      "7/7 [==============================] - 28s 3s/step - loss: 0.6654 - accuracy: 0.7780 - val_loss: 0.1928 - val_accuracy: 0.9366\n"
     ]
    }
   ],
   "source": [
    "history = model.fit(datagen.flow(X_train,Y_train, batch_size=batch_size),epochs = epochs, validation_data = (X_test,Y_test), steps_per_epoch=X_train.shape[0] // batch_size)"
   ]
  },
  {
   "cell_type": "code",
   "execution_count": 131,
   "id": "c74da15c",
   "metadata": {
    "ExecuteTime": {
     "end_time": "2022-09-19T19:53:48.029259Z",
     "start_time": "2022-09-19T19:53:47.127262Z"
    }
   },
   "outputs": [
    {
     "data": {
      "image/png": "[encoded data removed]",
      "text/plain": [
       "<Figure size 432x288 with 1 Axes>"
      ]
     },
     "metadata": {
      "needs_background": "light"
     },
     "output_type": "display_data"
    },
    {
     "data": {
      "image/png": "[encoded data removed]",
      "text/plain": [
       "<Figure size 432x288 with 1 Axes>"
      ]
     },
     "metadata": {
      "needs_background": "light"
     },
     "output_type": "display_data"
    }
   ],
   "source": [
    "acc = history.history['accuracy']\n",
    "val_acc = history.history['val_accuracy']\n",
    "loss = history.history['loss']\n",
    "val_loss = history.history['val_loss']\n",
    "\n",
    "epochs = range(len(acc))\n",
    "\n",
    "plt.plot(epochs, acc, 'r', label='Training accuracy')\n",
    "plt.plot(epochs, val_acc, 'b', label='Validation accuracy')\n",
    "plt.title('Training and validation accuracy')\n",
    "plt.legend()\n",
    "plt.figure()\n",
    "\n",
    "plt.plot(epochs, loss, 'r', label='Training Loss')\n",
    "plt.plot(epochs, val_loss, 'b', label='Validation Loss')\n",
    "plt.title('Training and validation loss')\n",
    "plt.legend()\n",
    "\n",
    "plt.show()"
   ]
  },
  {
   "cell_type": "code",
   "execution_count": 167,
   "id": "e7bc6048",
   "metadata": {
    "ExecuteTime": {
     "end_time": "2022-09-19T20:09:32.679008Z",
     "start_time": "2022-09-19T20:09:31.268363Z"
    }
   },
   "outputs": [],
   "source": [
    "#Saving the model\n",
    "model.save('asl_model1.h5')"
   ]
  },
  {
   "cell_type": "markdown",
   "id": "f0ae96a0",
   "metadata": {},
   "source": [
    "#### Checking performance using the test data"
   ]
  },
  {
   "cell_type": "code",
   "execution_count": 19,
   "id": "711af2d4",
   "metadata": {
    "ExecuteTime": {
     "end_time": "2022-09-03T11:24:49.420108Z",
     "start_time": "2022-09-03T11:24:49.396106Z"
    }
   },
   "outputs": [],
   "source": [
    "y_testt=label_binrizer.fit_transform(Y_test)"
   ]
  },
  {
   "cell_type": "code",
   "execution_count": 37,
   "id": "1c7bf6bd",
   "metadata": {
    "ExecuteTime": {
     "end_time": "2022-08-25T18:01:27.139443Z",
     "start_time": "2022-08-25T18:01:16.555230Z"
    }
   },
   "outputs": [],
   "source": [
    "y_pred=model.predict(X_test)"
   ]
  },
  {
   "cell_type": "code",
   "execution_count": 42,
   "id": "e3727e1c",
   "metadata": {
    "ExecuteTime": {
     "end_time": "2022-08-25T18:02:42.655321Z",
     "start_time": "2022-08-25T18:02:42.635351Z"
    }
   },
   "outputs": [],
   "source": [
    "y_pred=y_pred.round()"
   ]
  },
  {
   "cell_type": "code",
   "execution_count": 48,
   "id": "62031964",
   "metadata": {
    "ExecuteTime": {
     "end_time": "2022-08-25T18:03:27.428757Z",
     "start_time": "2022-08-25T18:03:27.413765Z"
    }
   },
   "outputs": [
    {
     "data": {
      "text/plain": [
       "(7172, 24)"
      ]
     },
     "execution_count": 48,
     "metadata": {},
     "output_type": "execute_result"
    }
   ],
   "source": [
    "y_testt.shape"
   ]
  },
  {
   "cell_type": "code",
   "execution_count": 49,
   "id": "04097dcf",
   "metadata": {
    "ExecuteTime": {
     "end_time": "2022-08-25T18:03:31.807863Z",
     "start_time": "2022-08-25T18:03:31.791872Z"
    }
   },
   "outputs": [
    {
     "data": {
      "text/plain": [
       "(7172, 24)"
      ]
     },
     "execution_count": 49,
     "metadata": {},
     "output_type": "execute_result"
    }
   ],
   "source": [
    "y_pred.shape"
   ]
  },
  {
   "cell_type": "code",
   "execution_count": 50,
   "id": "5955ee76",
   "metadata": {
    "ExecuteTime": {
     "end_time": "2022-08-25T18:03:41.051786Z",
     "start_time": "2022-08-25T18:03:41.003814Z"
    }
   },
   "outputs": [
    {
     "data": {
      "text/plain": [
       "0.9997211377579476"
      ]
     },
     "execution_count": 50,
     "metadata": {},
     "output_type": "execute_result"
    }
   ],
   "source": [
    "from sklearn.metrics import accuracy_score\n",
    "\n",
    "accuracy_score(y_testt,y_pred)"
   ]
  },
  {
   "cell_type": "code",
   "execution_count": 132,
   "id": "e18ed187",
   "metadata": {
    "ExecuteTime": {
     "end_time": "2022-09-19T19:55:26.306332Z",
     "start_time": "2022-09-19T19:55:26.286339Z"
    }
   },
   "outputs": [],
   "source": [
    "classes={}\n",
    "for i,j in enumerate('ABCDEFGHIJKLMNOPQRSTUVWXYZ'):\n",
    "    classes[i]=j"
   ]
  },
  {
   "cell_type": "code",
   "execution_count": null,
   "id": "297bb3d8",
   "metadata": {},
   "outputs": [],
   "source": []
  },
  {
   "cell_type": "code",
   "execution_count": 21,
   "id": "a4a6268e",
   "metadata": {
    "ExecuteTime": {
     "end_time": "2022-09-03T11:25:15.451929Z",
     "start_time": "2022-09-03T11:25:15.427911Z"
    }
   },
   "outputs": [
    {
     "data": {
      "text/plain": [
       "array([0, 0, 0, 0, 0, 0, 1, 0, 0, 0, 0, 0, 0, 0, 0, 0, 0, 0, 0, 0, 0, 0,\n",
       "       0, 0])"
      ]
     },
     "execution_count": 21,
     "metadata": {},
     "output_type": "execute_result"
    }
   ],
   "source": [
    "y_testt[0]"
   ]
  },
  {
   "cell_type": "code",
   "execution_count": 25,
   "id": "f2b2a348",
   "metadata": {
    "ExecuteTime": {
     "end_time": "2022-09-03T11:26:19.472925Z",
     "start_time": "2022-09-03T11:26:19.448962Z"
    }
   },
   "outputs": [
    {
     "data": {
      "text/plain": [
       "5"
      ]
     },
     "execution_count": 25,
     "metadata": {},
     "output_type": "execute_result"
    }
   ],
   "source": [
    "list(np.where(y_testt[1]==1)[0])[0]"
   ]
  },
  {
   "cell_type": "code",
   "execution_count": 29,
   "id": "23c382d7",
   "metadata": {
    "ExecuteTime": {
     "end_time": "2022-09-03T11:26:56.849788Z",
     "start_time": "2022-09-03T11:26:56.833788Z"
    }
   },
   "outputs": [
    {
     "data": {
      "text/plain": [
       "'I'"
      ]
     },
     "execution_count": 29,
     "metadata": {},
     "output_type": "execute_result"
    }
   ],
   "source": [
    "classes[list(np.where(y_testt[10]==1))[0][0]]"
   ]
  },
  {
   "cell_type": "code",
   "execution_count": 17,
   "id": "df1b67ec",
   "metadata": {
    "ExecuteTime": {
     "end_time": "2022-09-17T19:05:12.057721Z",
     "start_time": "2022-09-17T19:05:11.802997Z"
    }
   },
   "outputs": [],
   "source": [
    "import cv2"
   ]
  },
  {
   "cell_type": "code",
   "execution_count": 16,
   "id": "8580dc13",
   "metadata": {
    "ExecuteTime": {
     "end_time": "2022-09-03T10:46:27.062885Z",
     "start_time": "2022-09-03T10:46:27.038887Z"
    }
   },
   "outputs": [
    {
     "data": {
      "text/plain": [
       "(28, 28)"
      ]
     },
     "execution_count": 16,
     "metadata": {},
     "output_type": "execute_result"
    }
   ],
   "source": [
    "sample.shape"
   ]
  },
  {
   "cell_type": "code",
   "execution_count": null,
   "id": "f5380763",
   "metadata": {
    "ExecuteTime": {
     "start_time": "2022-09-03T10:46:55.514Z"
    }
   },
   "outputs": [],
   "source": [
    "#p=X_test[0]\n",
    "cv2.namedWindow(\"Image\", cv2.WINDOW_NORMAL)\n",
    "cv2.imshow('Image',img)\n",
    "cv2.waitKey(0)\n",
    "cv2.destroyAllWindows()"
   ]
  },
  {
   "cell_type": "code",
   "execution_count": 18,
   "id": "7a9cecdd",
   "metadata": {
    "ExecuteTime": {
     "end_time": "2022-09-03T10:46:43.843644Z",
     "start_time": "2022-09-03T10:46:43.827623Z"
    }
   },
   "outputs": [],
   "source": [
    "test_img=cv2.resize(sample,(28,28))\n",
    "#model.predict(img)"
   ]
  },
  {
   "cell_type": "code",
   "execution_count": 161,
   "id": "e951f8c5",
   "metadata": {
    "ExecuteTime": {
     "end_time": "2022-09-19T20:08:44.149898Z",
     "start_time": "2022-09-19T20:08:44.041959Z"
    }
   },
   "outputs": [
    {
     "name": "stdout",
     "output_type": "stream",
     "text": [
      "(350, 350, 3)\n"
     ]
    }
   ],
   "source": [
    "test_img=cv2.imread('test11.jpg')\n",
    "print(test_img.shape)\n",
    "test_img=cv2.resize(test_img,(50,50),interpolation=cv2.INTER_CUBIC)"
   ]
  },
  {
   "cell_type": "code",
   "execution_count": 162,
   "id": "212e2fd5",
   "metadata": {
    "ExecuteTime": {
     "end_time": "2022-09-19T20:08:46.791352Z",
     "start_time": "2022-09-19T20:08:46.765364Z"
    }
   },
   "outputs": [
    {
     "data": {
      "text/plain": [
       "(50, 50, 3)"
      ]
     },
     "execution_count": 162,
     "metadata": {},
     "output_type": "execute_result"
    }
   ],
   "source": [
    "test_img.shape"
   ]
  },
  {
   "cell_type": "code",
   "execution_count": 163,
   "id": "849b361a",
   "metadata": {
    "ExecuteTime": {
     "end_time": "2022-09-19T20:08:49.675981Z",
     "start_time": "2022-09-19T20:08:49.198518Z"
    }
   },
   "outputs": [
    {
     "data": {
      "text/plain": [
       "<matplotlib.image.AxesImage at 0x25d25e5dc70>"
      ]
     },
     "execution_count": 163,
     "metadata": {},
     "output_type": "execute_result"
    },
    {
     "data": {
      "image/png": "[encoded data removed]",
      "text/plain": [
       "<Figure size 432x288 with 1 Axes>"
      ]
     },
     "metadata": {
      "needs_background": "light"
     },
     "output_type": "display_data"
    }
   ],
   "source": [
    "plt.imshow(test_img)"
   ]
  },
  {
   "cell_type": "code",
   "execution_count": 164,
   "id": "e32b7b2a",
   "metadata": {
    "ExecuteTime": {
     "end_time": "2022-09-19T20:08:59.770585Z",
     "start_time": "2022-09-19T20:08:52.973972Z"
    }
   },
   "outputs": [],
   "source": [
    "test_ans=model.predict(test_img.reshape(-1,50,50,3),verbose=0)"
   ]
  },
  {
   "cell_type": "code",
   "execution_count": 165,
   "id": "8a59b40f",
   "metadata": {
    "ExecuteTime": {
     "end_time": "2022-09-19T20:08:59.802573Z",
     "start_time": "2022-09-19T20:08:59.774589Z"
    }
   },
   "outputs": [
    {
     "data": {
      "text/plain": [
       "array([[0., 1., 0., 0., 0., 0., 0., 0., 0., 0., 0., 0., 0., 0., 0., 0.,\n",
       "        0., 0., 0., 0., 0., 0., 0., 0., 0., 0.]], dtype=float32)"
      ]
     },
     "execution_count": 165,
     "metadata": {},
     "output_type": "execute_result"
    }
   ],
   "source": [
    "test_ans"
   ]
  },
  {
   "cell_type": "code",
   "execution_count": 166,
   "id": "9e7a567e",
   "metadata": {
    "ExecuteTime": {
     "end_time": "2022-09-19T20:08:59.834554Z",
     "start_time": "2022-09-19T20:08:59.814569Z"
    }
   },
   "outputs": [
    {
     "data": {
      "text/plain": [
       "'B'"
      ]
     },
     "execution_count": 166,
     "metadata": {},
     "output_type": "execute_result"
    }
   ],
   "source": [
    "classes[np.where(test_ans==1)[1][0]]"
   ]
  },
  {
   "cell_type": "code",
   "execution_count": 92,
   "id": "7f275ca5",
   "metadata": {
    "ExecuteTime": {
     "end_time": "2022-08-25T21:57:13.943927Z",
     "start_time": "2022-08-25T21:57:13.767942Z"
    }
   },
   "outputs": [
    {
     "ename": "ValueError",
     "evalue": "in user code:\n\n    c:\\users\\hp 15\\appdata\\local\\programs\\python\\python39\\lib\\site-packages\\keras\\engine\\training.py:1586 predict_function  *\n        return step_function(self, iterator)\n    c:\\users\\hp 15\\appdata\\local\\programs\\python\\python39\\lib\\site-packages\\keras\\engine\\training.py:1576 step_function  **\n        outputs = model.distribute_strategy.run(run_step, args=(data,))\n    c:\\users\\hp 15\\appdata\\local\\programs\\python\\python39\\lib\\site-packages\\tensorflow\\python\\distribute\\distribute_lib.py:1286 run\n        return self._extended.call_for_each_replica(fn, args=args, kwargs=kwargs)\n    c:\\users\\hp 15\\appdata\\local\\programs\\python\\python39\\lib\\site-packages\\tensorflow\\python\\distribute\\distribute_lib.py:2849 call_for_each_replica\n        return self._call_for_each_replica(fn, args, kwargs)\n    c:\\users\\hp 15\\appdata\\local\\programs\\python\\python39\\lib\\site-packages\\tensorflow\\python\\distribute\\distribute_lib.py:3632 _call_for_each_replica\n        return fn(*args, **kwargs)\n    c:\\users\\hp 15\\appdata\\local\\programs\\python\\python39\\lib\\site-packages\\keras\\engine\\training.py:1569 run_step  **\n        outputs = model.predict_step(data)\n    c:\\users\\hp 15\\appdata\\local\\programs\\python\\python39\\lib\\site-packages\\keras\\engine\\training.py:1537 predict_step\n        return self(x, training=False)\n    c:\\users\\hp 15\\appdata\\local\\programs\\python\\python39\\lib\\site-packages\\keras\\engine\\base_layer.py:1020 __call__\n        input_spec.assert_input_compatibility(self.input_spec, inputs, self.name)\n    c:\\users\\hp 15\\appdata\\local\\programs\\python\\python39\\lib\\site-packages\\keras\\engine\\input_spec.py:229 assert_input_compatibility\n        raise ValueError('Input ' + str(input_index) + ' of layer ' +\n\n    ValueError: Input 0 of layer sequential is incompatible with the layer: : expected min_ndim=4, found ndim=2. Full shape received: (None, 28)\n",
     "output_type": "error",
     "traceback": [
      "\u001b[1;31m---------------------------------------------------------------------------\u001b[0m",
      "\u001b[1;31mValueError\u001b[0m                                Traceback (most recent call last)",
      "\u001b[1;32mC:\\Users\\HP15~1\\AppData\\Local\\Temp/ipykernel_6300/1708147262.py\u001b[0m in \u001b[0;36m<module>\u001b[1;34m\u001b[0m\n\u001b[1;32m----> 1\u001b[1;33m \u001b[0mmodel\u001b[0m\u001b[1;33m.\u001b[0m\u001b[0mpredict\u001b[0m\u001b[1;33m(\u001b[0m\u001b[0mtttt\u001b[0m\u001b[1;33m,\u001b[0m\u001b[1;36m1\u001b[0m\u001b[1;33m,\u001b[0m\u001b[0mverbose\u001b[0m\u001b[1;33m=\u001b[0m\u001b[1;36m0\u001b[0m\u001b[1;33m)\u001b[0m\u001b[1;33m\u001b[0m\u001b[1;33m\u001b[0m\u001b[0m\n\u001b[0m",
      "\u001b[1;32mc:\\users\\hp 15\\appdata\\local\\programs\\python\\python39\\lib\\site-packages\\keras\\engine\\training.py\u001b[0m in \u001b[0;36mpredict\u001b[1;34m(self, x, batch_size, verbose, steps, callbacks, max_queue_size, workers, use_multiprocessing)\u001b[0m\n\u001b[0;32m   1749\u001b[0m           \u001b[1;32mfor\u001b[0m \u001b[0mstep\u001b[0m \u001b[1;32min\u001b[0m \u001b[0mdata_handler\u001b[0m\u001b[1;33m.\u001b[0m\u001b[0msteps\u001b[0m\u001b[1;33m(\u001b[0m\u001b[1;33m)\u001b[0m\u001b[1;33m:\u001b[0m\u001b[1;33m\u001b[0m\u001b[1;33m\u001b[0m\u001b[0m\n\u001b[0;32m   1750\u001b[0m             \u001b[0mcallbacks\u001b[0m\u001b[1;33m.\u001b[0m\u001b[0mon_predict_batch_begin\u001b[0m\u001b[1;33m(\u001b[0m\u001b[0mstep\u001b[0m\u001b[1;33m)\u001b[0m\u001b[1;33m\u001b[0m\u001b[1;33m\u001b[0m\u001b[0m\n\u001b[1;32m-> 1751\u001b[1;33m             \u001b[0mtmp_batch_outputs\u001b[0m \u001b[1;33m=\u001b[0m \u001b[0mself\u001b[0m\u001b[1;33m.\u001b[0m\u001b[0mpredict_function\u001b[0m\u001b[1;33m(\u001b[0m\u001b[0miterator\u001b[0m\u001b[1;33m)\u001b[0m\u001b[1;33m\u001b[0m\u001b[1;33m\u001b[0m\u001b[0m\n\u001b[0m\u001b[0;32m   1752\u001b[0m             \u001b[1;32mif\u001b[0m \u001b[0mdata_handler\u001b[0m\u001b[1;33m.\u001b[0m\u001b[0mshould_sync\u001b[0m\u001b[1;33m:\u001b[0m\u001b[1;33m\u001b[0m\u001b[1;33m\u001b[0m\u001b[0m\n\u001b[0;32m   1753\u001b[0m               \u001b[0mcontext\u001b[0m\u001b[1;33m.\u001b[0m\u001b[0masync_wait\u001b[0m\u001b[1;33m(\u001b[0m\u001b[1;33m)\u001b[0m\u001b[1;33m\u001b[0m\u001b[1;33m\u001b[0m\u001b[0m\n",
      "\u001b[1;32mc:\\users\\hp 15\\appdata\\local\\programs\\python\\python39\\lib\\site-packages\\tensorflow\\python\\eager\\def_function.py\u001b[0m in \u001b[0;36m__call__\u001b[1;34m(self, *args, **kwds)\u001b[0m\n\u001b[0;32m    883\u001b[0m \u001b[1;33m\u001b[0m\u001b[0m\n\u001b[0;32m    884\u001b[0m       \u001b[1;32mwith\u001b[0m \u001b[0mOptionalXlaContext\u001b[0m\u001b[1;33m(\u001b[0m\u001b[0mself\u001b[0m\u001b[1;33m.\u001b[0m\u001b[0m_jit_compile\u001b[0m\u001b[1;33m)\u001b[0m\u001b[1;33m:\u001b[0m\u001b[1;33m\u001b[0m\u001b[1;33m\u001b[0m\u001b[0m\n\u001b[1;32m--> 885\u001b[1;33m         \u001b[0mresult\u001b[0m \u001b[1;33m=\u001b[0m \u001b[0mself\u001b[0m\u001b[1;33m.\u001b[0m\u001b[0m_call\u001b[0m\u001b[1;33m(\u001b[0m\u001b[1;33m*\u001b[0m\u001b[0margs\u001b[0m\u001b[1;33m,\u001b[0m \u001b[1;33m**\u001b[0m\u001b[0mkwds\u001b[0m\u001b[1;33m)\u001b[0m\u001b[1;33m\u001b[0m\u001b[1;33m\u001b[0m\u001b[0m\n\u001b[0m\u001b[0;32m    886\u001b[0m \u001b[1;33m\u001b[0m\u001b[0m\n\u001b[0;32m    887\u001b[0m       \u001b[0mnew_tracing_count\u001b[0m \u001b[1;33m=\u001b[0m \u001b[0mself\u001b[0m\u001b[1;33m.\u001b[0m\u001b[0mexperimental_get_tracing_count\u001b[0m\u001b[1;33m(\u001b[0m\u001b[1;33m)\u001b[0m\u001b[1;33m\u001b[0m\u001b[1;33m\u001b[0m\u001b[0m\n",
      "\u001b[1;32mc:\\users\\hp 15\\appdata\\local\\programs\\python\\python39\\lib\\site-packages\\tensorflow\\python\\eager\\def_function.py\u001b[0m in \u001b[0;36m_call\u001b[1;34m(self, *args, **kwds)\u001b[0m\n\u001b[0;32m    922\u001b[0m       \u001b[1;31m# In this case we have not created variables on the first call. So we can\u001b[0m\u001b[1;33m\u001b[0m\u001b[1;33m\u001b[0m\u001b[1;33m\u001b[0m\u001b[0m\n\u001b[0;32m    923\u001b[0m       \u001b[1;31m# run the first trace but we should fail if variables are created.\u001b[0m\u001b[1;33m\u001b[0m\u001b[1;33m\u001b[0m\u001b[1;33m\u001b[0m\u001b[0m\n\u001b[1;32m--> 924\u001b[1;33m       \u001b[0mresults\u001b[0m \u001b[1;33m=\u001b[0m \u001b[0mself\u001b[0m\u001b[1;33m.\u001b[0m\u001b[0m_stateful_fn\u001b[0m\u001b[1;33m(\u001b[0m\u001b[1;33m*\u001b[0m\u001b[0margs\u001b[0m\u001b[1;33m,\u001b[0m \u001b[1;33m**\u001b[0m\u001b[0mkwds\u001b[0m\u001b[1;33m)\u001b[0m\u001b[1;33m\u001b[0m\u001b[1;33m\u001b[0m\u001b[0m\n\u001b[0m\u001b[0;32m    925\u001b[0m       \u001b[1;32mif\u001b[0m \u001b[0mself\u001b[0m\u001b[1;33m.\u001b[0m\u001b[0m_created_variables\u001b[0m \u001b[1;32mand\u001b[0m \u001b[1;32mnot\u001b[0m \u001b[0mALLOW_DYNAMIC_VARIABLE_CREATION\u001b[0m\u001b[1;33m:\u001b[0m\u001b[1;33m\u001b[0m\u001b[1;33m\u001b[0m\u001b[0m\n\u001b[0;32m    926\u001b[0m         raise ValueError(\"Creating variables on a non-first call to a function\"\n",
      "\u001b[1;32mc:\\users\\hp 15\\appdata\\local\\programs\\python\\python39\\lib\\site-packages\\tensorflow\\python\\eager\\function.py\u001b[0m in \u001b[0;36m__call__\u001b[1;34m(self, *args, **kwargs)\u001b[0m\n\u001b[0;32m   3036\u001b[0m     \u001b[1;32mwith\u001b[0m \u001b[0mself\u001b[0m\u001b[1;33m.\u001b[0m\u001b[0m_lock\u001b[0m\u001b[1;33m:\u001b[0m\u001b[1;33m\u001b[0m\u001b[1;33m\u001b[0m\u001b[0m\n\u001b[0;32m   3037\u001b[0m       (graph_function,\n\u001b[1;32m-> 3038\u001b[1;33m        filtered_flat_args) = self._maybe_define_function(args, kwargs)\n\u001b[0m\u001b[0;32m   3039\u001b[0m     return graph_function._call_flat(\n\u001b[0;32m   3040\u001b[0m         filtered_flat_args, captured_inputs=graph_function.captured_inputs)  # pylint: disable=protected-access\n",
      "\u001b[1;32mc:\\users\\hp 15\\appdata\\local\\programs\\python\\python39\\lib\\site-packages\\tensorflow\\python\\eager\\function.py\u001b[0m in \u001b[0;36m_maybe_define_function\u001b[1;34m(self, args, kwargs)\u001b[0m\n\u001b[0;32m   3457\u001b[0m               \u001b[0mself\u001b[0m\u001b[1;33m.\u001b[0m\u001b[0minput_signature\u001b[0m \u001b[1;32mis\u001b[0m \u001b[1;32mNone\u001b[0m \u001b[1;32mand\u001b[0m\u001b[1;33m\u001b[0m\u001b[1;33m\u001b[0m\u001b[0m\n\u001b[0;32m   3458\u001b[0m               call_context_key in self._function_cache.missed):\n\u001b[1;32m-> 3459\u001b[1;33m             return self._define_function_with_shape_relaxation(\n\u001b[0m\u001b[0;32m   3460\u001b[0m                 args, kwargs, flat_args, filtered_flat_args, cache_key_context)\n\u001b[0;32m   3461\u001b[0m \u001b[1;33m\u001b[0m\u001b[0m\n",
      "\u001b[1;32mc:\\users\\hp 15\\appdata\\local\\programs\\python\\python39\\lib\\site-packages\\tensorflow\\python\\eager\\function.py\u001b[0m in \u001b[0;36m_define_function_with_shape_relaxation\u001b[1;34m(self, args, kwargs, flat_args, filtered_flat_args, cache_key_context)\u001b[0m\n\u001b[0;32m   3379\u001b[0m           expand_composites=True)\n\u001b[0;32m   3380\u001b[0m \u001b[1;33m\u001b[0m\u001b[0m\n\u001b[1;32m-> 3381\u001b[1;33m     graph_function = self._create_graph_function(\n\u001b[0m\u001b[0;32m   3382\u001b[0m         args, kwargs, override_flat_arg_shapes=relaxed_arg_shapes)\n\u001b[0;32m   3383\u001b[0m     \u001b[0mself\u001b[0m\u001b[1;33m.\u001b[0m\u001b[0m_function_cache\u001b[0m\u001b[1;33m.\u001b[0m\u001b[0marg_relaxed\u001b[0m\u001b[1;33m[\u001b[0m\u001b[0mrank_only_cache_key\u001b[0m\u001b[1;33m]\u001b[0m \u001b[1;33m=\u001b[0m \u001b[0mgraph_function\u001b[0m\u001b[1;33m\u001b[0m\u001b[1;33m\u001b[0m\u001b[0m\n",
      "\u001b[1;32mc:\\users\\hp 15\\appdata\\local\\programs\\python\\python39\\lib\\site-packages\\tensorflow\\python\\eager\\function.py\u001b[0m in \u001b[0;36m_create_graph_function\u001b[1;34m(self, args, kwargs, override_flat_arg_shapes)\u001b[0m\n\u001b[0;32m   3296\u001b[0m     \u001b[0marg_names\u001b[0m \u001b[1;33m=\u001b[0m \u001b[0mbase_arg_names\u001b[0m \u001b[1;33m+\u001b[0m \u001b[0mmissing_arg_names\u001b[0m\u001b[1;33m\u001b[0m\u001b[1;33m\u001b[0m\u001b[0m\n\u001b[0;32m   3297\u001b[0m     graph_function = ConcreteFunction(\n\u001b[1;32m-> 3298\u001b[1;33m         func_graph_module.func_graph_from_py_func(\n\u001b[0m\u001b[0;32m   3299\u001b[0m             \u001b[0mself\u001b[0m\u001b[1;33m.\u001b[0m\u001b[0m_name\u001b[0m\u001b[1;33m,\u001b[0m\u001b[1;33m\u001b[0m\u001b[1;33m\u001b[0m\u001b[0m\n\u001b[0;32m   3300\u001b[0m             \u001b[0mself\u001b[0m\u001b[1;33m.\u001b[0m\u001b[0m_python_function\u001b[0m\u001b[1;33m,\u001b[0m\u001b[1;33m\u001b[0m\u001b[1;33m\u001b[0m\u001b[0m\n",
      "\u001b[1;32mc:\\users\\hp 15\\appdata\\local\\programs\\python\\python39\\lib\\site-packages\\tensorflow\\python\\framework\\func_graph.py\u001b[0m in \u001b[0;36mfunc_graph_from_py_func\u001b[1;34m(name, python_func, args, kwargs, signature, func_graph, autograph, autograph_options, add_control_dependencies, arg_names, op_return_value, collections, capture_by_value, override_flat_arg_shapes, acd_record_initial_resource_uses)\u001b[0m\n\u001b[0;32m   1005\u001b[0m         \u001b[0m_\u001b[0m\u001b[1;33m,\u001b[0m \u001b[0moriginal_func\u001b[0m \u001b[1;33m=\u001b[0m \u001b[0mtf_decorator\u001b[0m\u001b[1;33m.\u001b[0m\u001b[0munwrap\u001b[0m\u001b[1;33m(\u001b[0m\u001b[0mpython_func\u001b[0m\u001b[1;33m)\u001b[0m\u001b[1;33m\u001b[0m\u001b[1;33m\u001b[0m\u001b[0m\n\u001b[0;32m   1006\u001b[0m \u001b[1;33m\u001b[0m\u001b[0m\n\u001b[1;32m-> 1007\u001b[1;33m       \u001b[0mfunc_outputs\u001b[0m \u001b[1;33m=\u001b[0m \u001b[0mpython_func\u001b[0m\u001b[1;33m(\u001b[0m\u001b[1;33m*\u001b[0m\u001b[0mfunc_args\u001b[0m\u001b[1;33m,\u001b[0m \u001b[1;33m**\u001b[0m\u001b[0mfunc_kwargs\u001b[0m\u001b[1;33m)\u001b[0m\u001b[1;33m\u001b[0m\u001b[1;33m\u001b[0m\u001b[0m\n\u001b[0m\u001b[0;32m   1008\u001b[0m \u001b[1;33m\u001b[0m\u001b[0m\n\u001b[0;32m   1009\u001b[0m       \u001b[1;31m# invariant: `func_outputs` contains only Tensors, CompositeTensors,\u001b[0m\u001b[1;33m\u001b[0m\u001b[1;33m\u001b[0m\u001b[1;33m\u001b[0m\u001b[0m\n",
      "\u001b[1;32mc:\\users\\hp 15\\appdata\\local\\programs\\python\\python39\\lib\\site-packages\\tensorflow\\python\\eager\\def_function.py\u001b[0m in \u001b[0;36mwrapped_fn\u001b[1;34m(*args, **kwds)\u001b[0m\n\u001b[0;32m    666\u001b[0m         \u001b[1;31m# the function a weak reference to itself to avoid a reference cycle.\u001b[0m\u001b[1;33m\u001b[0m\u001b[1;33m\u001b[0m\u001b[1;33m\u001b[0m\u001b[0m\n\u001b[0;32m    667\u001b[0m         \u001b[1;32mwith\u001b[0m \u001b[0mOptionalXlaContext\u001b[0m\u001b[1;33m(\u001b[0m\u001b[0mcompile_with_xla\u001b[0m\u001b[1;33m)\u001b[0m\u001b[1;33m:\u001b[0m\u001b[1;33m\u001b[0m\u001b[1;33m\u001b[0m\u001b[0m\n\u001b[1;32m--> 668\u001b[1;33m           \u001b[0mout\u001b[0m \u001b[1;33m=\u001b[0m \u001b[0mweak_wrapped_fn\u001b[0m\u001b[1;33m(\u001b[0m\u001b[1;33m)\u001b[0m\u001b[1;33m.\u001b[0m\u001b[0m__wrapped__\u001b[0m\u001b[1;33m(\u001b[0m\u001b[1;33m*\u001b[0m\u001b[0margs\u001b[0m\u001b[1;33m,\u001b[0m \u001b[1;33m**\u001b[0m\u001b[0mkwds\u001b[0m\u001b[1;33m)\u001b[0m\u001b[1;33m\u001b[0m\u001b[1;33m\u001b[0m\u001b[0m\n\u001b[0m\u001b[0;32m    669\u001b[0m         \u001b[1;32mreturn\u001b[0m \u001b[0mout\u001b[0m\u001b[1;33m\u001b[0m\u001b[1;33m\u001b[0m\u001b[0m\n\u001b[0;32m    670\u001b[0m \u001b[1;33m\u001b[0m\u001b[0m\n",
      "\u001b[1;32mc:\\users\\hp 15\\appdata\\local\\programs\\python\\python39\\lib\\site-packages\\tensorflow\\python\\framework\\func_graph.py\u001b[0m in \u001b[0;36mwrapper\u001b[1;34m(*args, **kwargs)\u001b[0m\n\u001b[0;32m    992\u001b[0m           \u001b[1;32mexcept\u001b[0m \u001b[0mException\u001b[0m \u001b[1;32mas\u001b[0m \u001b[0me\u001b[0m\u001b[1;33m:\u001b[0m  \u001b[1;31m# pylint:disable=broad-except\u001b[0m\u001b[1;33m\u001b[0m\u001b[1;33m\u001b[0m\u001b[0m\n\u001b[0;32m    993\u001b[0m             \u001b[1;32mif\u001b[0m \u001b[0mhasattr\u001b[0m\u001b[1;33m(\u001b[0m\u001b[0me\u001b[0m\u001b[1;33m,\u001b[0m \u001b[1;34m\"ag_error_metadata\"\u001b[0m\u001b[1;33m)\u001b[0m\u001b[1;33m:\u001b[0m\u001b[1;33m\u001b[0m\u001b[1;33m\u001b[0m\u001b[0m\n\u001b[1;32m--> 994\u001b[1;33m               \u001b[1;32mraise\u001b[0m \u001b[0me\u001b[0m\u001b[1;33m.\u001b[0m\u001b[0mag_error_metadata\u001b[0m\u001b[1;33m.\u001b[0m\u001b[0mto_exception\u001b[0m\u001b[1;33m(\u001b[0m\u001b[0me\u001b[0m\u001b[1;33m)\u001b[0m\u001b[1;33m\u001b[0m\u001b[1;33m\u001b[0m\u001b[0m\n\u001b[0m\u001b[0;32m    995\u001b[0m             \u001b[1;32melse\u001b[0m\u001b[1;33m:\u001b[0m\u001b[1;33m\u001b[0m\u001b[1;33m\u001b[0m\u001b[0m\n\u001b[0;32m    996\u001b[0m               \u001b[1;32mraise\u001b[0m\u001b[1;33m\u001b[0m\u001b[1;33m\u001b[0m\u001b[0m\n",
      "\u001b[1;31mValueError\u001b[0m: in user code:\n\n    c:\\users\\hp 15\\appdata\\local\\programs\\python\\python39\\lib\\site-packages\\keras\\engine\\training.py:1586 predict_function  *\n        return step_function(self, iterator)\n    c:\\users\\hp 15\\appdata\\local\\programs\\python\\python39\\lib\\site-packages\\keras\\engine\\training.py:1576 step_function  **\n        outputs = model.distribute_strategy.run(run_step, args=(data,))\n    c:\\users\\hp 15\\appdata\\local\\programs\\python\\python39\\lib\\site-packages\\tensorflow\\python\\distribute\\distribute_lib.py:1286 run\n        return self._extended.call_for_each_replica(fn, args=args, kwargs=kwargs)\n    c:\\users\\hp 15\\appdata\\local\\programs\\python\\python39\\lib\\site-packages\\tensorflow\\python\\distribute\\distribute_lib.py:2849 call_for_each_replica\n        return self._call_for_each_replica(fn, args, kwargs)\n    c:\\users\\hp 15\\appdata\\local\\programs\\python\\python39\\lib\\site-packages\\tensorflow\\python\\distribute\\distribute_lib.py:3632 _call_for_each_replica\n        return fn(*args, **kwargs)\n    c:\\users\\hp 15\\appdata\\local\\programs\\python\\python39\\lib\\site-packages\\keras\\engine\\training.py:1569 run_step  **\n        outputs = model.predict_step(data)\n    c:\\users\\hp 15\\appdata\\local\\programs\\python\\python39\\lib\\site-packages\\keras\\engine\\training.py:1537 predict_step\n        return self(x, training=False)\n    c:\\users\\hp 15\\appdata\\local\\programs\\python\\python39\\lib\\site-packages\\keras\\engine\\base_layer.py:1020 __call__\n        input_spec.assert_input_compatibility(self.input_spec, inputs, self.name)\n    c:\\users\\hp 15\\appdata\\local\\programs\\python\\python39\\lib\\site-packages\\keras\\engine\\input_spec.py:229 assert_input_compatibility\n        raise ValueError('Input ' + str(input_index) + ' of layer ' +\n\n    ValueError: Input 0 of layer sequential is incompatible with the layer: : expected min_ndim=4, found ndim=2. Full shape received: (None, 28)\n"
     ]
    }
   ],
   "source": [
    "model.predict(tttt,1,verbose=0)"
   ]
  },
  {
   "cell_type": "code",
   "execution_count": 89,
   "id": "327dd1ba",
   "metadata": {
    "ExecuteTime": {
     "end_time": "2022-08-25T21:37:31.112207Z",
     "start_time": "2022-08-25T21:37:31.096211Z"
    }
   },
   "outputs": [
    {
     "data": {
      "text/plain": [
       "'F'"
      ]
     },
     "execution_count": 89,
     "metadata": {},
     "output_type": "execute_result"
    }
   ],
   "source": [
    "classes[5]"
   ]
  },
  {
   "cell_type": "code",
   "execution_count": null,
   "id": "1976fa13",
   "metadata": {},
   "outputs": [],
   "source": []
  },
  {
   "cell_type": "code",
   "execution_count": 104,
   "id": "62f2f5c6",
   "metadata": {
    "ExecuteTime": {
     "end_time": "2022-08-25T22:04:01.083577Z",
     "start_time": "2022-08-25T22:04:00.657368Z"
    }
   },
   "outputs": [],
   "source": [
    "cap.release()    \n",
    "cv2.destroyAllWindows()"
   ]
  },
  {
   "cell_type": "code",
   "execution_count": null,
   "id": "fa0047b9",
   "metadata": {},
   "outputs": [],
   "source": []
  },
  {
   "cell_type": "code",
   "execution_count": null,
   "id": "b45fb7e0",
   "metadata": {},
   "outputs": [],
   "source": []
  },
  {
   "cell_type": "code",
   "execution_count": 6,
   "id": "fec49894",
   "metadata": {
    "ExecuteTime": {
     "end_time": "2022-09-17T19:01:21.790838Z",
     "start_time": "2022-09-17T19:01:14.782998Z"
    }
   },
   "outputs": [],
   "source": [
    "model = tf.keras.models.load_model('Sign_Language_mnist.h5')"
   ]
  },
  {
   "cell_type": "code",
   "execution_count": null,
   "id": "1828f334",
   "metadata": {},
   "outputs": [],
   "source": []
  },
  {
   "cell_type": "code",
   "execution_count": null,
   "id": "aac9838d",
   "metadata": {},
   "outputs": [],
   "source": []
  },
  {
   "cell_type": "code",
   "execution_count": null,
   "id": "23ce1084",
   "metadata": {},
   "outputs": [],
   "source": []
  },
  {
   "cell_type": "code",
   "execution_count": null,
   "id": "39ae3324",
   "metadata": {},
   "outputs": [],
   "source": []
  },
  {
   "cell_type": "code",
   "execution_count": 105,
   "id": "831b71a4",
   "metadata": {
    "ExecuteTime": {
     "end_time": "2022-08-25T22:04:32.015946Z",
     "start_time": "2022-08-25T22:04:17.527862Z"
    }
   },
   "outputs": [],
   "source": [
    "cap=cv2.VideoCapture(0)\n",
    "\n",
    "while True:\n",
    "    \n",
    "    ret,frame=cap.read()\n",
    "    \n",
    "    f=frame[100:400,320:620]\n",
    "    cv2.imshow('Image',f)\n",
    "    \n",
    "    f=cv2.cvtColor(f,cv2.COLOR_BGR2GRAY)\n",
    "    f=cv2.resize(f,(28,28),interpolation=cv2.INTER_AREA)\n",
    "    \n",
    "    cv2.imshow('Image',f)\n",
    "    \n",
    "    c=frame.copy()\n",
    "    cv2.rectangle(c,(320,100),(620,400),(255,0,0),5)\n",
    "    \n",
    "    f=f.reshape(1,28,28,1)\n",
    "    #result=str(model.predict(f,1,verbose=0)[0])\n",
    "    \n",
    "    #cv2.putText(copy,classes[np.where(pp==1)[1][0]],(300,100),cv2.FONT_HERSHEY_COMPLEX,2,(0,255,0),2)\n",
    "    \n",
    "    cv2.namedWindow(\"Image\", cv2.WINDOW_NORMAL)\n",
    "    #cv2.imshow('Image',c)\n",
    "    \n",
    "    if cv2.waitKey(1) == ord('a'):\n",
    "        break\n",
    "\n",
    "cap.release()    \n",
    "cv2.destroyAllWindows()"
   ]
  },
  {
   "cell_type": "code",
   "execution_count": null,
   "id": "9bda46da",
   "metadata": {},
   "outputs": [],
   "source": []
  },
  {
   "cell_type": "code",
   "execution_count": null,
   "id": "e2ee3333",
   "metadata": {},
   "outputs": [],
   "source": [
    "class Detector:\n",
    "    def __init__(self):\n",
    "        pass\n",
    "    \n",
    "    def readClass(self,classes_dict):\n",
    "        self.classesList=list(classes_dict.values())\n",
    "        self.colorList=np.random.uniform(low=0,high=255,size=(len(self.classesList),3))\n",
    "        \n",
    "    \n",
    "    def load_model(self):\n",
    "        tf.keras.backend.clear_session()\n",
    "        self.model=tf.saved_model.load(os.path.join(self.cacheDir,'checkpoints',self.modelName,'saved_model'))\n",
    "        print('model loaded')\n",
    "        \n",
    "        \n",
    "    def predict(self,image,threshold=0.55):\n",
    "        \n",
    "        inputTensor=cv2.cvtColor(image.copy(),cv2.COLOR_BGR2GRAY)\n",
    "        inputTensor=tf.convert_to_tensor(inputTensor, dtype=tf.uint8)\n",
    "        inputTensor= inputTensor[tf.newaxis,...]\n",
    "        detections=self.model(inputTensor)\n",
    "\n",
    "        bboxes=detections['detection_boxes'][0].numpy()\n",
    "        classIndexes=detections['detection_classes'][0].numpy().astype(np.int32)\n",
    "        classScores=detections['detection_scores'][0].numpy()\n",
    "\n",
    "        h,w,ch=image.shape\n",
    "        \n",
    "        bboxIdx= tf.image.non_max_suppression(bboxes, classScores, max_output_size=50, iou_threshold=0.5, score_threshold=threshold)\n",
    "\n",
    "        if len(bboxIdx)!=0:\n",
    "            for i in bboxIdx:\n",
    "                bbox=tuple(bboxes[i].tolist())\n",
    "                classConf= round(100*classScores[i])\n",
    "                classIndex= classIndexes[i]\n",
    "\n",
    "                classLabelText= self.classesList[classIndex]\n",
    "                classcolor= self.colorList[classIndex]\n",
    "                \n",
    "                displayText=f'{classLabelText}: {classConf}'\n",
    "                ymin, xmin, ymax, xmax= bbox\n",
    "                ymin, xmin, ymax, xmax= int(ymin*h), int(xmin*w), int(ymax*h), int(xmax*w)\n",
    "                cv2.rectangle(image,(xmin,ymin),(xmax,ymax),color=classcolor,thickness=1)\n",
    "                cv2.putText(image,displayText,(xmin,ymin-5),cv2.FONT_HERSHEY_PLAIN,1,classcolor,2)\n",
    "                \n",
    "                linewidth=min(int((xmax-xmin)*0.1),int((ymax-ymin)*0.1))\n",
    "                cv2.line(image,(xmin, ymin),(xmin+linewidth,ymin),classcolor,thickness=4)\n",
    "                cv2.line(image,(xmin, ymax),(xmin+linewidth,ymax),classcolor,thickness=4)\n",
    "                cv2.line(image,(xmin, ymin),(xmin, ymin+linewidth),classcolor,thickness=4)\n",
    "                cv2.line(image,(xmin, ymax),(xmin, ymax+linewidth),classcolor,thickness=4)\n",
    "                \n",
    "                cv2.line(image,(xmax-linewidth, ymin),(xmax,ymin),classcolor,thickness=4)\n",
    "                cv2.line(image,(xmax-linewidth, ymax),(xmax,ymax),classcolor,thickness=4)\n",
    "                cv2.line(image,(xmax, ymin),(xmax, ymin+linewidth),classcolor,thickness=4)\n",
    "                cv2.line(image,(xmax, ymax),(xmax, ymax+linewidth),classcolor,thickness=4)\n",
    "                \n",
    "                \n",
    "                \n",
    "        return image\n",
    "    \n",
    "    def predict_img(self,imagePath):\n",
    "        img=cv2.imread(imagePath)\n",
    "        \n",
    "        img=self.predict(img)\n",
    "        \n",
    "        cv2.namedWindow(\"Image\", cv2.WINDOW_NORMAL)\n",
    "        cv2.imshow('Image',img)\n",
    "        cv2.waitKey(0)\n",
    "        cv2.destroyAllWindows()\n",
    "    \n",
    "    \n"
   ]
  }
 ],
 "metadata": {
  "kernelspec": {
   "display_name": "Python 3 (ipykernel)",
   "language": "python",
   "name": "python3"
  },
  "language_info": {
   "codemirror_mode": {
    "name": "ipython",
    "version": 3
   },
   "file_extension": ".py",
   "mimetype": "text/x-python",
   "name": "python",
   "nbconvert_exporter": "python",
   "pygments_lexer": "ipython3",
   "version": "3.9.6"
  }
 },
 "nbformat": 4,
 "nbformat_minor": 5
}
