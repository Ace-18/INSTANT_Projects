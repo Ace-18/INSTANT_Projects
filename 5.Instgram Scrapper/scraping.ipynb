{
 "cells": [
  {
   "cell_type": "code",
   "execution_count": 1,
   "id": "86028978",
   "metadata": {
    "ExecuteTime": {
     "end_time": "2022-10-14T17:41:01.425088Z",
     "start_time": "2022-10-14T17:41:00.936017Z"
    }
   },
   "outputs": [],
   "source": [
    "from selenium import webdriver\n",
    "from selenium.webdriver.common.by import By\n",
    "from selenium.webdriver.common.keys import Keys\n",
    "from selenium.webdriver.support.wait import WebDriverWait\n",
    "from selenium.webdriver.support import expected_conditions as EC\n",
    "\n",
    "import requests\n",
    "import io\n",
    "from PIL import Image\n",
    "import time\n",
    "import os\n",
    "\n",
    "import wget"
   ]
  },
  {
   "cell_type": "code",
   "execution_count": 2,
   "id": "ec7b26f6",
   "metadata": {
    "ExecuteTime": {
     "end_time": "2022-10-14T17:42:30.885662Z",
     "start_time": "2022-10-14T17:41:08.466118Z"
    }
   },
   "outputs": [],
   "source": [
    "driver=webdriver.Chrome()\n",
    "driver.get(\"http://www.instagram.com\")\n",
    "\n",
    "username=WebDriverWait(driver,10).until(EC.element_to_be_clickable((By.CSS_SELECTOR,\"input[name='username']\")))\n",
    "password=WebDriverWait(driver,10).until(EC.element_to_be_clickable((By.CSS_SELECTOR,\"input[name='password']\")))\n",
    "\n",
    "#Entering username and password\n",
    "username.clear()\n",
    "username.send_keys('golden4jaguar@gmail.com')\n",
    "password.clear()\n",
    "password.send_keys('Alex123450')\n",
    "\n",
    "#Clicking Submit\n",
    "button= WebDriverWait(driver,2).until(EC.element_to_be_clickable((By.CSS_SELECTOR,\"button[type='submit']\"))).click()\n",
    "\n",
    "#Skipping the messages by clicking not now\n",
    "not_now = WebDriverWait(driver,10).until(EC.element_to_be_clickable((By.XPATH,'//button[contains(text(),\"Not Now\")]'))).click()\n",
    "not_now1 = WebDriverWait(driver,10).until(EC.element_to_be_clickable((By.XPATH,'//button[contains(text(),\"Not Now\")]'))).click()\n",
    "\n",
    "#Accessing the search box \n",
    "searchbox = WebDriverWait(driver,10).until(EC.element_to_be_clickable((By.XPATH,'//input[@placeholder=\"Search\"]')))"
   ]
  },
  {
   "cell_type": "code",
   "execution_count": 3,
   "id": "065fd379",
   "metadata": {
    "ExecuteTime": {
     "end_time": "2022-10-14T17:42:44.299422Z",
     "start_time": "2022-10-14T17:42:38.646348Z"
    }
   },
   "outputs": [],
   "source": [
    "#Clearing the search box and entering the tag name\n",
    "searchbox.clear()\n",
    "keyword=\"#cat\"\n",
    "searchbox.send_keys(keyword)\n",
    "time.sleep(5)\n",
    "\n",
    "#Making sure we are selecting the desired hashtag not the first search result  \n",
    "result = WebDriverWait(driver,10).until(EC.element_to_be_clickable((By.XPATH,'//a[@href=\"/explore/tags/cat/\"]')))\n",
    "result.click()"
   ]
  },
  {
   "cell_type": "code",
   "execution_count": 29,
   "id": "ec1d039b",
   "metadata": {
    "ExecuteTime": {
     "end_time": "2022-10-14T17:34:52.157113Z",
     "start_time": "2022-10-14T17:34:52.134124Z"
    }
   },
   "outputs": [],
   "source": [
    "images=driver.find_elements(by=By.TAG_NAME,value='img')"
   ]
  },
  {
   "cell_type": "code",
   "execution_count": 4,
   "id": "37558d3f",
   "metadata": {
    "ExecuteTime": {
     "end_time": "2022-10-14T17:43:08.663974Z",
     "start_time": "2022-10-14T17:42:58.598788Z"
    }
   },
   "outputs": [],
   "source": [
    "driver.execute_script(\"window.scrollTo(0, document.body.scrollHeight);\")\n",
    "time.sleep(10)\n",
    "driver.execute_script(\"window.scrollTo(0, document.body.scrollHeight);\")"
   ]
  },
  {
   "cell_type": "code",
   "execution_count": 6,
   "id": "6676841c",
   "metadata": {
    "ExecuteTime": {
     "end_time": "2022-10-14T17:44:19.727091Z",
     "start_time": "2022-10-14T17:44:05.373463Z"
    }
   },
   "outputs": [
    {
     "name": "stdout",
     "output_type": "stream",
     "text": [
      "100% [..............................................................................] 28350 / 28350"
     ]
    }
   ],
   "source": [
    "driver.execute_script(\"window.scrollTo(0, document.body.scrollHeight);\")\n",
    "time.sleep(10)\n",
    "driver.execute_script(\"window.scrollTo(0, document.body.scrollHeight);\")\n",
    "\n",
    "images=driver.find_elements(by=By.TAG_NAME,value='img')\n",
    "\n",
    "images_links=[image.get_attribute('src') for image in images]\n",
    "\n",
    "for i,j in enumerate(images_links):\n",
    "    if i==0:\n",
    "        continue\n",
    "    wget.download(j,f'cat{i}.jpg')\n",
    "    "
   ]
  },
  {
   "cell_type": "code",
   "execution_count": 31,
   "id": "c114ddd5",
   "metadata": {
    "ExecuteTime": {
     "end_time": "2022-10-14T17:35:20.094009Z",
     "start_time": "2022-10-14T17:35:20.050037Z"
    }
   },
   "outputs": [
    {
     "ename": "StaleElementReferenceException",
     "evalue": "Message: stale element reference: element is not attached to the page document\n  (Session info: chrome=105.0.5195.127)\nStacktrace:\nBacktrace:\n\tOrdinal0 [0x005A78B3+2193587]\n\tOrdinal0 [0x00540681+1771137]\n\tOrdinal0 [0x004541A8+803240]\n\tOrdinal0 [0x00456BB4+814004]\n\tOrdinal0 [0x00456A72+813682]\n\tOrdinal0 [0x00456D00+814336]\n\tOrdinal0 [0x00483F19+999193]\n\tOrdinal0 [0x0047A643+960067]\n\tOrdinal0 [0x0049D7AC+1103788]\n\tOrdinal0 [0x00478C04+953348]\n\tOrdinal0 [0x0049D9C4+1104324]\n\tOrdinal0 [0x004ADAE2+1170146]\n\tOrdinal0 [0x0049D5C6+1103302]\n\tOrdinal0 [0x004777E0+948192]\n\tOrdinal0 [0x004786E6+952038]\n\tGetHandleVerifier [0x00850CB2+2738370]\n\tGetHandleVerifier [0x008421B8+2678216]\n\tGetHandleVerifier [0x006317AA+512954]\n\tGetHandleVerifier [0x00630856+509030]\n\tOrdinal0 [0x0054743B+1799227]\n\tOrdinal0 [0x0054BB68+1817448]\n\tOrdinal0 [0x0054BC55+1817685]\n\tOrdinal0 [0x00555230+1856048]\n\tBaseThreadInitThunk [0x767AFA29+25]\n\tRtlGetAppContainerNamedObjectPath [0x77607B5E+286]\n\tRtlGetAppContainerNamedObjectPath [0x77607B2E+238]\n",
     "output_type": "error",
     "traceback": [
      "\u001b[1;31m---------------------------------------------------------------------------\u001b[0m",
      "\u001b[1;31mStaleElementReferenceException\u001b[0m            Traceback (most recent call last)",
      "\u001b[1;32mC:\\Users\\HP15~1\\AppData\\Local\\Temp/ipykernel_14976/1076517747.py\u001b[0m in \u001b[0;36m<module>\u001b[1;34m\u001b[0m\n\u001b[0;32m      1\u001b[0m \u001b[1;32mfor\u001b[0m \u001b[0mi\u001b[0m \u001b[1;32min\u001b[0m \u001b[1;33m[\u001b[0m\u001b[1;34m'cat'\u001b[0m\u001b[1;33m,\u001b[0m\u001b[1;34m'dog'\u001b[0m\u001b[1;33m]\u001b[0m\u001b[1;33m:\u001b[0m\u001b[1;33m\u001b[0m\u001b[1;33m\u001b[0m\u001b[0m\n\u001b[0;32m      2\u001b[0m     \u001b[1;31m#Clearing the search box and entering the tag name\u001b[0m\u001b[1;33m\u001b[0m\u001b[1;33m\u001b[0m\u001b[1;33m\u001b[0m\u001b[0m\n\u001b[1;32m----> 3\u001b[1;33m     \u001b[0msearchbox\u001b[0m\u001b[1;33m.\u001b[0m\u001b[0mclear\u001b[0m\u001b[1;33m(\u001b[0m\u001b[1;33m)\u001b[0m\u001b[1;33m\u001b[0m\u001b[1;33m\u001b[0m\u001b[0m\n\u001b[0m\u001b[0;32m      4\u001b[0m     \u001b[0mkeyword\u001b[0m\u001b[1;33m=\u001b[0m\u001b[1;34mf\"#{i}\"\u001b[0m\u001b[1;33m\u001b[0m\u001b[1;33m\u001b[0m\u001b[0m\n\u001b[0;32m      5\u001b[0m     \u001b[0msearchbox\u001b[0m\u001b[1;33m.\u001b[0m\u001b[0msend_keys\u001b[0m\u001b[1;33m(\u001b[0m\u001b[0mkeyword\u001b[0m\u001b[1;33m)\u001b[0m\u001b[1;33m\u001b[0m\u001b[1;33m\u001b[0m\u001b[0m\n",
      "\u001b[1;32mc:\\users\\hp 15\\appdata\\local\\programs\\python\\python39\\lib\\site-packages\\selenium\\webdriver\\remote\\webelement.py\u001b[0m in \u001b[0;36mclear\u001b[1;34m(self)\u001b[0m\n\u001b[0;32m     91\u001b[0m     \u001b[1;32mdef\u001b[0m \u001b[0mclear\u001b[0m\u001b[1;33m(\u001b[0m\u001b[0mself\u001b[0m\u001b[1;33m)\u001b[0m \u001b[1;33m->\u001b[0m \u001b[1;32mNone\u001b[0m\u001b[1;33m:\u001b[0m\u001b[1;33m\u001b[0m\u001b[1;33m\u001b[0m\u001b[0m\n\u001b[0;32m     92\u001b[0m         \u001b[1;34m\"\"\"Clears the text if it's a text entry element.\"\"\"\u001b[0m\u001b[1;33m\u001b[0m\u001b[1;33m\u001b[0m\u001b[0m\n\u001b[1;32m---> 93\u001b[1;33m         \u001b[0mself\u001b[0m\u001b[1;33m.\u001b[0m\u001b[0m_execute\u001b[0m\u001b[1;33m(\u001b[0m\u001b[0mCommand\u001b[0m\u001b[1;33m.\u001b[0m\u001b[0mCLEAR_ELEMENT\u001b[0m\u001b[1;33m)\u001b[0m\u001b[1;33m\u001b[0m\u001b[1;33m\u001b[0m\u001b[0m\n\u001b[0m\u001b[0;32m     94\u001b[0m \u001b[1;33m\u001b[0m\u001b[0m\n\u001b[0;32m     95\u001b[0m     \u001b[1;32mdef\u001b[0m \u001b[0mget_property\u001b[0m\u001b[1;33m(\u001b[0m\u001b[0mself\u001b[0m\u001b[1;33m,\u001b[0m \u001b[0mname\u001b[0m\u001b[1;33m)\u001b[0m \u001b[1;33m->\u001b[0m \u001b[0mstr\u001b[0m\u001b[1;33m:\u001b[0m\u001b[1;33m\u001b[0m\u001b[1;33m\u001b[0m\u001b[0m\n",
      "\u001b[1;32mc:\\users\\hp 15\\appdata\\local\\programs\\python\\python39\\lib\\site-packages\\selenium\\webdriver\\remote\\webelement.py\u001b[0m in \u001b[0;36m_execute\u001b[1;34m(self, command, params)\u001b[0m\n\u001b[0;32m    708\u001b[0m             \u001b[0mparams\u001b[0m \u001b[1;33m=\u001b[0m \u001b[1;33m{\u001b[0m\u001b[1;33m}\u001b[0m\u001b[1;33m\u001b[0m\u001b[1;33m\u001b[0m\u001b[0m\n\u001b[0;32m    709\u001b[0m         \u001b[0mparams\u001b[0m\u001b[1;33m[\u001b[0m\u001b[1;34m'id'\u001b[0m\u001b[1;33m]\u001b[0m \u001b[1;33m=\u001b[0m \u001b[0mself\u001b[0m\u001b[1;33m.\u001b[0m\u001b[0m_id\u001b[0m\u001b[1;33m\u001b[0m\u001b[1;33m\u001b[0m\u001b[0m\n\u001b[1;32m--> 710\u001b[1;33m         \u001b[1;32mreturn\u001b[0m \u001b[0mself\u001b[0m\u001b[1;33m.\u001b[0m\u001b[0m_parent\u001b[0m\u001b[1;33m.\u001b[0m\u001b[0mexecute\u001b[0m\u001b[1;33m(\u001b[0m\u001b[0mcommand\u001b[0m\u001b[1;33m,\u001b[0m \u001b[0mparams\u001b[0m\u001b[1;33m)\u001b[0m\u001b[1;33m\u001b[0m\u001b[1;33m\u001b[0m\u001b[0m\n\u001b[0m\u001b[0;32m    711\u001b[0m \u001b[1;33m\u001b[0m\u001b[0m\n\u001b[0;32m    712\u001b[0m     \u001b[1;32mdef\u001b[0m \u001b[0mfind_element\u001b[0m\u001b[1;33m(\u001b[0m\u001b[0mself\u001b[0m\u001b[1;33m,\u001b[0m \u001b[0mby\u001b[0m\u001b[1;33m=\u001b[0m\u001b[0mBy\u001b[0m\u001b[1;33m.\u001b[0m\u001b[0mID\u001b[0m\u001b[1;33m,\u001b[0m \u001b[0mvalue\u001b[0m\u001b[1;33m=\u001b[0m\u001b[1;32mNone\u001b[0m\u001b[1;33m)\u001b[0m\u001b[1;33m:\u001b[0m\u001b[1;33m\u001b[0m\u001b[1;33m\u001b[0m\u001b[0m\n",
      "\u001b[1;32mc:\\users\\hp 15\\appdata\\local\\programs\\python\\python39\\lib\\site-packages\\selenium\\webdriver\\remote\\webdriver.py\u001b[0m in \u001b[0;36mexecute\u001b[1;34m(self, driver_command, params)\u001b[0m\n\u001b[0;32m    423\u001b[0m         \u001b[0mresponse\u001b[0m \u001b[1;33m=\u001b[0m \u001b[0mself\u001b[0m\u001b[1;33m.\u001b[0m\u001b[0mcommand_executor\u001b[0m\u001b[1;33m.\u001b[0m\u001b[0mexecute\u001b[0m\u001b[1;33m(\u001b[0m\u001b[0mdriver_command\u001b[0m\u001b[1;33m,\u001b[0m \u001b[0mparams\u001b[0m\u001b[1;33m)\u001b[0m\u001b[1;33m\u001b[0m\u001b[1;33m\u001b[0m\u001b[0m\n\u001b[0;32m    424\u001b[0m         \u001b[1;32mif\u001b[0m \u001b[0mresponse\u001b[0m\u001b[1;33m:\u001b[0m\u001b[1;33m\u001b[0m\u001b[1;33m\u001b[0m\u001b[0m\n\u001b[1;32m--> 425\u001b[1;33m             \u001b[0mself\u001b[0m\u001b[1;33m.\u001b[0m\u001b[0merror_handler\u001b[0m\u001b[1;33m.\u001b[0m\u001b[0mcheck_response\u001b[0m\u001b[1;33m(\u001b[0m\u001b[0mresponse\u001b[0m\u001b[1;33m)\u001b[0m\u001b[1;33m\u001b[0m\u001b[1;33m\u001b[0m\u001b[0m\n\u001b[0m\u001b[0;32m    426\u001b[0m             response['value'] = self._unwrap_value(\n\u001b[0;32m    427\u001b[0m                 response.get('value', None))\n",
      "\u001b[1;32mc:\\users\\hp 15\\appdata\\local\\programs\\python\\python39\\lib\\site-packages\\selenium\\webdriver\\remote\\errorhandler.py\u001b[0m in \u001b[0;36mcheck_response\u001b[1;34m(self, response)\u001b[0m\n\u001b[0;32m    245\u001b[0m                 \u001b[0malert_text\u001b[0m \u001b[1;33m=\u001b[0m \u001b[0mvalue\u001b[0m\u001b[1;33m[\u001b[0m\u001b[1;34m'alert'\u001b[0m\u001b[1;33m]\u001b[0m\u001b[1;33m.\u001b[0m\u001b[0mget\u001b[0m\u001b[1;33m(\u001b[0m\u001b[1;34m'text'\u001b[0m\u001b[1;33m)\u001b[0m\u001b[1;33m\u001b[0m\u001b[1;33m\u001b[0m\u001b[0m\n\u001b[0;32m    246\u001b[0m             \u001b[1;32mraise\u001b[0m \u001b[0mexception_class\u001b[0m\u001b[1;33m(\u001b[0m\u001b[0mmessage\u001b[0m\u001b[1;33m,\u001b[0m \u001b[0mscreen\u001b[0m\u001b[1;33m,\u001b[0m \u001b[0mstacktrace\u001b[0m\u001b[1;33m,\u001b[0m \u001b[0malert_text\u001b[0m\u001b[1;33m)\u001b[0m  \u001b[1;31m# type: ignore[call-arg]  # mypy is not smart enough here\u001b[0m\u001b[1;33m\u001b[0m\u001b[1;33m\u001b[0m\u001b[0m\n\u001b[1;32m--> 247\u001b[1;33m         \u001b[1;32mraise\u001b[0m \u001b[0mexception_class\u001b[0m\u001b[1;33m(\u001b[0m\u001b[0mmessage\u001b[0m\u001b[1;33m,\u001b[0m \u001b[0mscreen\u001b[0m\u001b[1;33m,\u001b[0m \u001b[0mstacktrace\u001b[0m\u001b[1;33m)\u001b[0m\u001b[1;33m\u001b[0m\u001b[1;33m\u001b[0m\u001b[0m\n\u001b[0m\u001b[0;32m    248\u001b[0m \u001b[1;33m\u001b[0m\u001b[0m\n\u001b[0;32m    249\u001b[0m     \u001b[1;32mdef\u001b[0m \u001b[0m_value_or_default\u001b[0m\u001b[1;33m(\u001b[0m\u001b[0mself\u001b[0m\u001b[1;33m,\u001b[0m \u001b[0mobj\u001b[0m\u001b[1;33m:\u001b[0m \u001b[0mMapping\u001b[0m\u001b[1;33m[\u001b[0m\u001b[0m_KT\u001b[0m\u001b[1;33m,\u001b[0m \u001b[0m_VT\u001b[0m\u001b[1;33m]\u001b[0m\u001b[1;33m,\u001b[0m \u001b[0mkey\u001b[0m\u001b[1;33m:\u001b[0m \u001b[0m_KT\u001b[0m\u001b[1;33m,\u001b[0m \u001b[0mdefault\u001b[0m\u001b[1;33m:\u001b[0m \u001b[0m_VT\u001b[0m\u001b[1;33m)\u001b[0m \u001b[1;33m->\u001b[0m \u001b[0m_VT\u001b[0m\u001b[1;33m:\u001b[0m\u001b[1;33m\u001b[0m\u001b[1;33m\u001b[0m\u001b[0m\n",
      "\u001b[1;31mStaleElementReferenceException\u001b[0m: Message: stale element reference: element is not attached to the page document\n  (Session info: chrome=105.0.5195.127)\nStacktrace:\nBacktrace:\n\tOrdinal0 [0x005A78B3+2193587]\n\tOrdinal0 [0x00540681+1771137]\n\tOrdinal0 [0x004541A8+803240]\n\tOrdinal0 [0x00456BB4+814004]\n\tOrdinal0 [0x00456A72+813682]\n\tOrdinal0 [0x00456D00+814336]\n\tOrdinal0 [0x00483F19+999193]\n\tOrdinal0 [0x0047A643+960067]\n\tOrdinal0 [0x0049D7AC+1103788]\n\tOrdinal0 [0x00478C04+953348]\n\tOrdinal0 [0x0049D9C4+1104324]\n\tOrdinal0 [0x004ADAE2+1170146]\n\tOrdinal0 [0x0049D5C6+1103302]\n\tOrdinal0 [0x004777E0+948192]\n\tOrdinal0 [0x004786E6+952038]\n\tGetHandleVerifier [0x00850CB2+2738370]\n\tGetHandleVerifier [0x008421B8+2678216]\n\tGetHandleVerifier [0x006317AA+512954]\n\tGetHandleVerifier [0x00630856+509030]\n\tOrdinal0 [0x0054743B+1799227]\n\tOrdinal0 [0x0054BB68+1817448]\n\tOrdinal0 [0x0054BC55+1817685]\n\tOrdinal0 [0x00555230+1856048]\n\tBaseThreadInitThunk [0x767AFA29+25]\n\tRtlGetAppContainerNamedObjectPath [0x77607B5E+286]\n\tRtlGetAppContainerNamedObjectPath [0x77607B2E+238]\n"
     ]
    }
   ],
   "source": [
    "for i in ['cat','dog']:\n",
    "    #Clearing the search box and entering the tag name\n",
    "    searchbox.clear()\n",
    "    keyword=f\"#{i}\"\n",
    "    searchbox.send_keys(keyword)\n",
    "    time.sleep(5)\n",
    "\n",
    "    #Making sure we are selecting the desired hashtag not the first search result  \n",
    "    result = WebDriverWait(driver,10).until(EC.element_to_be_clickable((By.XPATH,'//a[@href=\"/explore/tags/cat/\"]')))\n",
    "    result.click()\n",
    "    \n",
    "    images=driver.find_elements(by=By.TAG_NAME,value='img')\n",
    "    \n",
    "    #Keep scrolling until 100 photos are loaded\n",
    "    while len(images)<100:\n",
    "        driver.execute_script(\"window.scrollTo(0, document.body.scrollHeight);\")\n",
    "        time.sleep(5)\n",
    "        images=driver.find_elements(by=By.TAG_NAME,value='img')\n",
    "        \n",
    "    \n",
    "    images_links=[image.get_attribute('src') for image in images]\n",
    "    \n",
    "    os.mkdir(i)\n",
    "    \n",
    "    \n",
    "    for x,y in enumerate(images_links):\n",
    "        if x==0:\n",
    "            continue\n",
    "        save_as=os.path.join(i,f'cat_{x}.jpg')\n",
    "        wget.download(y,save_as)\n"
   ]
  },
  {
   "cell_type": "code",
   "execution_count": null,
   "id": "4096b47f",
   "metadata": {},
   "outputs": [],
   "source": []
  },
  {
   "cell_type": "code",
   "execution_count": 30,
   "id": "e2b4000a",
   "metadata": {
    "ExecuteTime": {
     "end_time": "2022-09-03T15:39:01.714095Z",
     "start_time": "2022-09-03T15:39:01.692102Z"
    }
   },
   "outputs": [],
   "source": [
    "def download_image(url, file_name):\n",
    "    try:\n",
    "        image_content = requests.get(url).content\n",
    "        image_file = io.BytesIO(image_content)\n",
    "        image = Image.open(image_file)\n",
    "\n",
    "        with open(file_name, \"wb\") as f:\n",
    "            image.save(f, \"JPEG\")\n",
    "        print(\"Success\")\n",
    "    \n",
    "    except Exception as e:\n",
    "        print('FAILED -', e)\n"
   ]
  },
  {
   "cell_type": "code",
   "execution_count": 49,
   "id": "6c61d1a4",
   "metadata": {
    "ExecuteTime": {
     "end_time": "2022-09-03T15:49:51.206589Z",
     "start_time": "2022-09-03T15:49:51.184600Z"
    }
   },
   "outputs": [],
   "source": [
    "def d(url, file_name):\n",
    "    try:\n",
    "        image_content = requests.get(url).content\n",
    "        image_file = io.BytesIO(image_content)\n",
    "        image = Image.open(image_file)\n",
    "        \n",
    "        with open(f'{file_name}.jpg','wb') as f:\n",
    "            image.save(f,image.format)\n",
    "    except:\n",
    "        print('Error')\n",
    "\n",
    "    "
   ]
  },
  {
   "cell_type": "code",
   "execution_count": null,
   "id": "5e00a00e",
   "metadata": {},
   "outputs": [],
   "source": [
    "os.mkdir('cats')\n",
    "os.mkdir('dogs')   \n",
    "\n",
    "for i in ['cat','dog']:\n",
    "    os.mkdir(i)\n",
    "    \n",
    "    "
   ]
  },
  {
   "cell_type": "code",
   "execution_count": null,
   "id": "0e6c732d",
   "metadata": {},
   "outputs": [],
   "source": [
    "counter=0\n",
    "\n",
    "while True:\n",
    "    \n",
    "    html_file=requests.get(link).text\n",
    "    soup = BeautifulSoup(html_file, 'lxml')\n",
    "    \n",
    "    chapter=' '.join(soup.title.text.split()[2:4])\n",
    "    if int(chapter.split()[1])>=40:\n",
    "\n",
    "        try:\n",
    "            os.mkdir(f'orv\\\\{chapter}')\n",
    "        except:\n",
    "            pass\n",
    "\n",
    "        panels=[i['src'] for i in soup.find_all('img') if 'reader' in i['src']]\n",
    "\n",
    "        for i,j in enumerate(panels):\n",
    "            try:\n",
    "                image_content=requests.get(j).content\n",
    "            except:\n",
    "                print('Error')\n",
    "                break\n",
    "            image_file=io.BytesIO(image_content)\n",
    "            image=Image.open(image_file)\n",
    "            with open(f'orv\\\\{chapter}\\\\{i+1}.jpg','wb') as f:\n",
    "                image.save(f,image.format)\n",
    "\n",
    "        counter+=1\n",
    "        \n",
    "    if counter==10:\n",
    "        break\n",
    "    \n",
    "    try:\n",
    "        link=soup.find('div' ,class_=\"col-md-6 next-post\").find('a')['href']\n",
    "    \n",
    "    except:      \n",
    "        print(f'Done.\\n{counter} downloaded')\n",
    "        break\n",
    "            "
   ]
  },
  {
   "cell_type": "code",
   "execution_count": 7,
   "id": "c73701cb",
   "metadata": {
    "ExecuteTime": {
     "end_time": "2022-10-14T17:49:18.107039Z",
     "start_time": "2022-10-14T17:49:18.100030Z"
    }
   },
   "outputs": [],
   "source": [
    "#save_as=os.path.join(i,f'cat{counter}.jpg')\n",
    "#wget.download(img,save_as)"
   ]
  },
  {
   "cell_type": "code",
   "execution_count": null,
   "id": "cbc7e79d",
   "metadata": {},
   "outputs": [],
   "source": []
  }
 ],
 "metadata": {
  "kernelspec": {
   "display_name": "Python 3 (ipykernel)",
   "language": "python",
   "name": "python3"
  },
  "language_info": {
   "codemirror_mode": {
    "name": "ipython",
    "version": 3
   },
   "file_extension": ".py",
   "mimetype": "text/x-python",
   "name": "python",
   "nbconvert_exporter": "python",
   "pygments_lexer": "ipython3",
   "version": "3.9.6"
  }
 },
 "nbformat": 4,
 "nbformat_minor": 5
}
