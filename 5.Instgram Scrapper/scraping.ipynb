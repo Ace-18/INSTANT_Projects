{
 "cells": [
  {
   "cell_type": "code",
   "execution_count": 1,
   "id": "86028978",
   "metadata": {
    "ExecuteTime": {
     "end_time": "2022-09-03T14:57:30.034718Z",
     "start_time": "2022-09-03T14:57:29.836392Z"
    }
   },
   "outputs": [],
   "source": [
    "from selenium import webdriver\n",
    "from selenium.webdriver.common.by import By\n",
    "from selenium.webdriver.common.keys import Keys\n",
    "from selenium.webdriver.support.wait import WebDriverWait\n",
    "from selenium.webdriver.support import expected_conditions as EC\n",
    "\n",
    "import requests\n",
    "import io\n",
    "from PIL import Image\n",
    "import time\n",
    "import os"
   ]
  },
  {
   "cell_type": "code",
   "execution_count": 27,
   "id": "ec7b26f6",
   "metadata": {
    "ExecuteTime": {
     "end_time": "2022-09-03T15:37:28.479357Z",
     "start_time": "2022-09-03T15:36:55.535173Z"
    }
   },
   "outputs": [],
   "source": [
    "driver=webdriver.Chrome()\n",
    "driver.get(\"http://www.instagram.com\")\n",
    "\n",
    "username=WebDriverWait(driver,10).until(EC.element_to_be_clickable((By.CSS_SELECTOR,\"input[name='username']\")))\n",
    "password=WebDriverWait(driver,10).until(EC.element_to_be_clickable((By.CSS_SELECTOR,\"input[name='password']\")))\n",
    "\n",
    "username.clear()\n",
    "username.send_keys('omarborab@gmail.com')\n",
    "password.clear()\n",
    "password.send_keys('01271343072')\n",
    "\n",
    "button= WebDriverWait(driver,2).until(EC.element_to_be_clickable((By.CSS_SELECTOR,\"button[type='submit']\"))).click()\n",
    "\n",
    "not_now = WebDriverWait(driver,10).until(EC.element_to_be_clickable((By.XPATH,'//button[contains(text(),\"Not Now\")]'))).click()\n",
    "not_now_1 = WebDriverWait(driver,10).until(EC.element_to_be_clickable((By.XPATH,'//button[contains(text(),\"Not Now\")]'))).click()"
   ]
  },
  {
   "cell_type": "code",
   "execution_count": 28,
   "id": "ddb0fac1",
   "metadata": {
    "ExecuteTime": {
     "end_time": "2022-09-03T15:37:34.391858Z",
     "start_time": "2022-09-03T15:37:28.483356Z"
    }
   },
   "outputs": [],
   "source": [
    "searchbox = not_now = WebDriverWait(driver,10).until(EC.element_to_be_clickable((By.XPATH,'//input[@placeholder=\"Search\"]')))\n",
    "\n",
    "searchbox.clear()\n",
    "\n",
    "keyword=\"#cat\"\n",
    "searchbox.send_keys(keyword)\n",
    "\n",
    "time.sleep(5)\n",
    "searchbox.send_keys(Keys.ENTER)\n",
    "searchbox.send_keys(Keys.ENTER)"
   ]
  },
  {
   "cell_type": "code",
   "execution_count": 29,
   "id": "70c16633",
   "metadata": {
    "ExecuteTime": {
     "end_time": "2022-09-03T15:37:43.572619Z",
     "start_time": "2022-09-03T15:37:34.394853Z"
    }
   },
   "outputs": [
    {
     "name": "stderr",
     "output_type": "stream",
     "text": [
      "C:\\Users\\HP15~1\\AppData\\Local\\Temp/ipykernel_17608/825382549.py:6: DeprecationWarning: find_elements_by_tag_name is deprecated. Please use find_elements(by=By.TAG_NAME, value=name) instead\n",
      "  images=driver.find_elements_by_tag_name('img')\n"
     ]
    },
    {
     "name": "stdout",
     "output_type": "stream",
     "text": [
      "['https://instagram.fcai15-1.fna.fbcdn.net/v/t51.2885-15/304141551_122446110553485_7500369990167953842_n.jpg?stp=dst-jpg_e35&cb=2d435ae8-326fec31&_nc_ht=instagram.fcai15-1.fna.fbcdn.net&_nc_cat=109&_nc_ohc=ISIqPlITdaQAX__mblu&edm=AGyKU4gBAAAA&ccb=7-5&ig_cache_key=MjkxOTE5NTAyMTA5MDYzMjMyOA%3D%3D.2-ccb7-5&oh=00_AT_oNM_bUy1m45KTEOPX1WrmrNridiqJ02glUct8RZuzzA&oe=631B12CB&_nc_sid=4cb768', 'https://instagram.fcai15-1.fna.fbcdn.net/v/t51.2885-15/304141551_122446110553485_7500369990167953842_n.jpg?stp=dst-jpg_e35&cb=2d435ae8-326fec31&_nc_ht=instagram.fcai15-1.fna.fbcdn.net&_nc_cat=109&_nc_ohc=ISIqPlITdaQAX__mblu&edm=AGyKU4gBAAAA&ccb=7-5&ig_cache_key=MjkxOTE5NTAyMTA5MDYzMjMyOA%3D%3D.2-ccb7-5&oh=00_AT_oNM_bUy1m45KTEOPX1WrmrNridiqJ02glUct8RZuzzA&oe=631B12CB&_nc_sid=4cb768', 'https://instagram.fcai15-1.fna.fbcdn.net/v/t51.2885-15/302775233_823730761950321_2033678853594941600_n.jpg?stp=dst-jpg_e35&cb=2d435ae8-326fec31&_nc_ht=instagram.fcai15-1.fna.fbcdn.net&_nc_cat=109&_nc_ohc=d5isPp9q_mYAX-bwDxo&edm=AGyKU4gBAAAA&ccb=7-5&ig_cache_key=MjkxOTE2MDczNDU2NzM3NTY1OQ%3D%3D.2-ccb7-5&oh=00_AT9CPPa17PVH9X3I1tR0hHhU4RJDjCHPwEy93ueF1v06UA&oe=6319C1F5&_nc_sid=4cb768', 'https://instagram.fcai15-1.fna.fbcdn.net/v/t51.2885-15/286401207_809522416848668_8951125180833641893_n.jpg?stp=dst-jpg_e35&cb=2d435ae8-326fec31&_nc_ht=instagram.fcai15-1.fna.fbcdn.net&_nc_cat=108&_nc_ohc=5XwDkiVa6r8AX-BeaTZ&edm=AGyKU4gBAAAA&ccb=7-5&ig_cache_key=MjkxOTE2NjEyMzE5MTUxMTE4MA%3D%3D.2-ccb7-5&oh=00_AT9VS9d47iwan5wNeUqVNQZWxksgLCAcPHifcDxuASsmfg&oe=631AE5CE&_nc_sid=4cb768', 'https://instagram.fcai15-1.fna.fbcdn.net/v/t51.2885-15/302604391_795430688267544_5050146197841840852_n.webp?stp=dst-jpg_e35&cb=2d435ae8-326fec31&_nc_ht=instagram.fcai15-1.fna.fbcdn.net&_nc_cat=1&_nc_ohc=hlqkCWyP8iEAX-F_Erf&edm=AGyKU4gBAAAA&ccb=7-5&ig_cache_key=MjkxODU4OTI4NTU1OTg4NDk4NA%3D%3D.2-ccb7-5&oh=00_AT8WbpBAjL9qo5lS6ZI7s0IZQuPNtTNjhr81GPfoUayuxg&oe=63197687&_nc_sid=4cb768', 'https://instagram.fcai15-1.fna.fbcdn.net/v/t51.2885-15/302576359_167428445869701_3772278768708746504_n.webp?stp=dst-jpg_e35&cb=2d435ae8-326fec31&_nc_ht=instagram.fcai15-1.fna.fbcdn.net&_nc_cat=1&_nc_ohc=AlxokZhqm6IAX-ru5Mf&edm=AGyKU4gBAAAA&ccb=7-5&ig_cache_key=MjkxODY5ODQzMjczNTExNzkwMQ%3D%3D.2-ccb7-5&oh=00_AT9Ox4AkCJ31XmZnFBw18IxR1MW-h6RBeqnxoHoFsAPMDg&oe=631A411D&_nc_sid=4cb768', 'https://instagram.fcai15-1.fna.fbcdn.net/v/t51.2885-15/286794231_1800568116963118_3113345834847692169_n.jpg?stp=dst-jpg_e35&cb=2d435ae8-326fec31&_nc_ht=instagram.fcai15-1.fna.fbcdn.net&_nc_cat=110&_nc_ohc=GuSrPjl21H0AX_5NCyN&tn=ORiT5OT-6puh_3bq&edm=AGyKU4gBAAAA&ccb=7-5&ig_cache_key=MjkxODgxNDI0ODI0NzYzNDU2Ng%3D%3D.2-ccb7-5&oh=00_AT-mkWli4CPGvoKNqDxlrmzN4K9pIMUldQhNBuYp4a7GOA&oe=631B2179&_nc_sid=4cb768', 'https://instagram.fcai15-1.fna.fbcdn.net/v/t51.2885-15/304833596_160054469952621_6115687213383342860_n.jpg?stp=dst-jpg_e35&cb=2d435ae8-326fec31&_nc_ht=instagram.fcai15-1.fna.fbcdn.net&_nc_cat=109&_nc_ohc=kGI11_FS7oEAX8tH8oI&edm=AGyKU4gBAAAA&ccb=7-5&ig_cache_key=MjkxODQ3MzA3MTQyMjMyOTY4Mw%3D%3D.2-ccb7-5&oh=00_AT8DtikPeXKf8EGsas1IER5VeUNhDA1b-f5_dSDZmrQVoA&oe=631966D5&_nc_sid=4cb768', 'https://instagram.fcai15-1.fna.fbcdn.net/v/t51.2885-15/302710559_178847214674834_7842101921331368459_n.jpg?stp=dst-jpg_e35&cb=2d435ae8-326fec31&_nc_ht=instagram.fcai15-1.fna.fbcdn.net&_nc_cat=102&_nc_ohc=mrUXMXirKcAAX_YdTUm&edm=AGyKU4gBAAAA&ccb=7-5&ig_cache_key=MjkxODc4MzUxNjUxNjUzOTc2Nw%3D%3D.2-ccb7-5&oh=00_AT9nShqczC09eAm0f3UlI3R2R-ZyV62Bt4DR9U_rUyuMbw&oe=6319C3E4&_nc_sid=4cb768', 'https://instagram.fcai15-1.fna.fbcdn.net/v/t51.2885-15/302271072_643977024124585_8794235255202467334_n.jpg?stp=dst-jpg_e35&cb=2d435ae8-326fec31&_nc_ht=instagram.fcai15-1.fna.fbcdn.net&_nc_cat=101&_nc_ohc=Eg0eNDTD4EEAX9MZ0WQ&tn=ORiT5OT-6puh_3bq&edm=AGyKU4gBAAAA&ccb=7-5&ig_cache_key=MjkxODU5MjAxODY3MDUwMzA1OQ%3D%3D.2-ccb7-5&oh=00_AT9QqP5w5zl5jbFDtXkNbLh8m5Pbioh7DS28Pr4F4Ut3aA&oe=631A2B4E&_nc_sid=4cb768', 'https://instagram.fcai15-1.fna.fbcdn.net/v/t51.2885-15/305180188_790715438843304_3981893257306789964_n.webp?stp=dst-jpg_e35&cb=2d435ae8-326fec31&_nc_ht=instagram.fcai15-1.fna.fbcdn.net&_nc_cat=100&_nc_ohc=S8oEqJ8EFI8AX8_9HW9&edm=AGyKU4gBAAAA&ccb=7-5&ig_cache_key=MjkxOTIzMDcwOTk3ODgwMjU2MA%3D%3D.2-ccb7-5&oh=00_AT93RChxIypleOZ3JkQPzav6ETqpSe8ggH_6aMDgU_rp5g&oe=631A9B1E&_nc_sid=4cb768', 'https://instagram.fcai15-1.fna.fbcdn.net/v/t51.2885-15/303036969_795367114979934_6150089349130244015_n.jpg?stp=dst-jpg_e15&cb=2d435ae8-326fec31&_nc_ht=instagram.fcai15-1.fna.fbcdn.net&_nc_cat=106&_nc_ohc=AZuso-sQMnEAX8B07zJ&edm=AGyKU4gBAAAA&ccb=7-5&ig_cache_key=MjkxOTIyOTE3NTQ0MTYzNjM2Mg%3D%3D.2-ccb7-5&oh=00_AT-KBFkVL_2ztFi2Pr4LEFdUpyaF_VHyN15k56EInoisWQ&oe=63197916&_nc_sid=4cb768', 'https://instagram.fcai15-1.fna.fbcdn.net/v/t51.2885-15/304261031_595079382212993_8153666014465157352_n.webp?stp=dst-jpg_e35&cb=2d435ae8-326fec31&_nc_ht=instagram.fcai15-1.fna.fbcdn.net&_nc_cat=105&_nc_ohc=dUp2PXTj1_AAX9Rem7_&edm=AGyKU4gBAAAA&ccb=7-5&ig_cache_key=MjkxOTIzMDQ5MTY1NjYxMTcyOQ%3D%3D.2-ccb7-5&oh=00_AT86gTMx31jw0QcRlFEHxqMEPFF3dItN00YlQifyiEy50Q&oe=631A9CAD&_nc_sid=4cb768', 'https://instagram.fcai15-1.fna.fbcdn.net/v/t51.2885-15/303343247_804689763878391_7093764295652689422_n.webp?stp=dst-jpg_e35&cb=2d435ae8-326fec31&_nc_ht=instagram.fcai15-1.fna.fbcdn.net&_nc_cat=103&_nc_ohc=ojNqwLpzFuwAX9IkpbD&edm=AGyKU4gBAAAA&ccb=7-5&ig_cache_key=MjkxOTIzMDQzNzc3NjU3MjU3NQ%3D%3D.2-ccb7-5&oh=00_AT9ZT-AXAYrXBf-PYu-Zpbn9vhaAfPAQexeasTB9f6jszw&oe=631B5C9B&_nc_sid=4cb768', 'https://instagram.fcai15-1.fna.fbcdn.net/v/t51.2885-15/305020827_617347389903532_2997681391667304855_n.webp?stp=dst-jpg_e35&cb=2d435ae8-326fec31&_nc_ht=instagram.fcai15-1.fna.fbcdn.net&_nc_cat=104&_nc_ohc=iacMqVb2-18AX-WimD_&edm=AGyKU4gBAAAA&ccb=7-5&ig_cache_key=MjkxOTIzMDQ5NzgyMDE1MDA1Mg%3D%3D.2-ccb7-5&oh=00_AT8rzgBT80dP14p71PDvHVR3AbAqyp1QSpJar6QIuTRb2w&oe=631A240C&_nc_sid=4cb768', 'https://instagram.fcai15-1.fna.fbcdn.net/v/t51.2885-15/304893849_832008228156812_5421709782597051148_n.webp?stp=dst-jpg_e35&cb=2d435ae8-326fec31&_nc_ht=instagram.fcai15-1.fna.fbcdn.net&_nc_cat=108&_nc_ohc=j-qcr1wrXRcAX-mTHHg&edm=AGyKU4gBAAAA&ccb=7-5&ig_cache_key=MjkxOTIzMDQ3Njk1ODg5NjYyMQ%3D%3D.2-ccb7-5&oh=00_AT9vooWVRq1PqNucKmcbvqXWkd7LksTmvESUpsDF9y9p2A&oe=631A9619&_nc_sid=4cb768', 'https://instagram.fcai15-1.fna.fbcdn.net/v/t51.2885-15/304897184_613270813874206_1006671277350976148_n.jpg?stp=dst-jpg_e35&cb=2d435ae8-326fec31&_nc_ht=instagram.fcai15-1.fna.fbcdn.net&_nc_cat=110&_nc_ohc=TxhsfkmGxxAAX9iltkG&edm=AGyKU4gBAAAA&ccb=7-5&ig_cache_key=MjkxOTIzMDMxNDc4Mjg5ODYwMA%3D%3D.2-ccb7-5&oh=00_AT8rj5QwKn7bk2mZzKy8vDhbQnpuYeYuWCDOD1HEJBjEBQ&oe=6319E25D&_nc_sid=4cb768', 'https://instagram.fcai15-1.fna.fbcdn.net/v/t51.2885-15/304813086_1266563054095529_7297517467408153020_n.webp?stp=dst-jpg_e35&cb=2d435ae8-326fec31&_nc_ht=instagram.fcai15-1.fna.fbcdn.net&_nc_cat=105&_nc_ohc=Wr1ClSAcJNIAX-N2c5h&edm=AGyKU4gBAAAA&ccb=7-5&ig_cache_key=MjkxOTIzMDY5MDIxNDk1MTU5NQ%3D%3D.2-ccb7-5&oh=00_AT_3NxlhDSVssLJ6ukvf10pS0GzVXVzsbVy9QqgoH_diPw&oe=6319CAB6&_nc_sid=4cb768', 'https://instagram.fcai15-1.fna.fbcdn.net/v/t51.2885-15/305323468_1041912733176385_2520888980094079422_n.webp?stp=dst-jpg_e35&cb=2d435ae8-326fec31&_nc_ht=instagram.fcai15-1.fna.fbcdn.net&_nc_cat=101&_nc_ohc=Cam7n97U6ekAX98f-NE&tn=ORiT5OT-6puh_3bq&edm=AGyKU4gBAAAA&ccb=7-5&ig_cache_key=MjkxOTIzMDU2NzgwOTI3Njk5Mg%3D%3D.2-ccb7-5&oh=00_AT8jo-uIzmSAdl56yhY5RdR8vBiYrwghCRYx4NdltQfNlA&oe=631B53F8&_nc_sid=4cb768', 'https://instagram.fcai15-1.fna.fbcdn.net/v/t51.2885-15/302713038_1586950095077017_7418370937893296299_n.jpg?stp=dst-jpg_e35&cb=2d435ae8-326fec31&_nc_ht=instagram.fcai15-1.fna.fbcdn.net&_nc_cat=101&_nc_ohc=S5_XP9IwO1cAX-3fLN2&tn=ORiT5OT-6puh_3bq&edm=AGyKU4gBAAAA&ccb=7-5&ig_cache_key=MjkxOTIzMDMwOTg1ODc3ODI1Mg%3D%3D.2-ccb7-5&oh=00_AT-XHU-XJWmou8s1iLt44Sk2IaxBfb8pI-5wvkQmSg9MBw&oe=6319A0DC&_nc_sid=4cb768', 'https://instagram.fcai15-1.fna.fbcdn.net/v/t51.2885-15/304643932_3196358540620109_7957052674173091747_n.webp?stp=dst-jpg_e35&cb=2d435ae8-326fec31&_nc_ht=instagram.fcai15-1.fna.fbcdn.net&_nc_cat=105&_nc_ohc=j22qsNWV7N8AX9bpEY2&edm=AGyKU4gBAAAA&ccb=7-5&ig_cache_key=MjkxOTIzMDQzNDA2ODAzMTMwMQ%3D%3D.2-ccb7-5&oh=00_AT_P2nlJZgBUAH-26pLLcs5z9_gb3nra6o4OjjZRiLJJnQ&oe=631A7827&_nc_sid=4cb768', 'https://instagram.fcai15-1.fna.fbcdn.net/v/t51.2885-15/302619440_759350181817335_9145603860048158174_n.webp?stp=dst-jpg_e35&cb=2d435ae8-326fec31&_nc_ht=instagram.fcai15-1.fna.fbcdn.net&_nc_cat=103&_nc_ohc=XqsMd3Y7Jn0AX9mNqDe&edm=AGyKU4gBAAAA&ccb=7-5&ig_cache_key=MjkxOTIzMDc0MzU0OTE1OTIxMg%3D%3D.2-ccb7-5&oh=00_AT-hZsb7MAlKUQqZv_uKunwAhlGa7bfWnwow-m_ICvIRUQ&oe=631B207D&_nc_sid=4cb768', 'https://instagram.fcai15-1.fna.fbcdn.net/v/t51.2885-15/303065971_796956501621229_5822731215595927473_n.jpg?stp=dst-jpg_e35&cb=2d435ae8-326fec31&_nc_ht=instagram.fcai15-1.fna.fbcdn.net&_nc_cat=101&_nc_ohc=SeoBL4PDNXIAX-am_1F&edm=AGyKU4gBAAAA&ccb=7-5&ig_cache_key=MjkxOTIzMDM3MDY1OTg1MTM0Nw%3D%3D.2-ccb7-5&oh=00_AT9tEs_2o7hvyDT4WFta-HpEyjUamickieeCTNXKJ_hIQA&oe=631AA2E8&_nc_sid=4cb768', 'https://instagram.fcai15-1.fna.fbcdn.net/v/t51.2885-15/303014620_646303773311025_2449581601747244903_n.jpg?stp=dst-jpg_e35&cb=2d435ae8-326fec31&_nc_ht=instagram.fcai15-1.fna.fbcdn.net&_nc_cat=109&_nc_ohc=N3m2HORhoEEAX9JTXPV&edm=AGyKU4gBAAAA&ccb=7-5&ig_cache_key=MjkxOTIzMDMyNDczOTgzMzA5NQ%3D%3D.2-ccb7-5&oh=00_AT_b0n9AEsWqc2APxGqiuGjAsQwOP15Q94I5jpp-T7GCDA&oe=6319EC5E&_nc_sid=4cb768', 'https://instagram.fcai15-1.fna.fbcdn.net/v/t51.2885-15/304946389_175592161647939_5355454179630263327_n.webp?stp=dst-jpg_e35&cb=2d435ae8-326fec31&_nc_ht=instagram.fcai15-1.fna.fbcdn.net&_nc_cat=103&_nc_ohc=Hz-rwaD3u-gAX_eAdmQ&edm=AGyKU4gBAAAA&ccb=7-5&ig_cache_key=MjkxOTIzMDUxNjc2MTY1Mzg0OQ%3D%3D.2-ccb7-5&oh=00_AT_81oBbFEyqZ1XeSGyO9sJriOX4XPSKfclVk4EdwpaUkg&oe=631B17AB&_nc_sid=4cb768', 'https://instagram.fcai15-1.fna.fbcdn.net/v/t51.2885-15/302694818_1145685546367313_5585680101557568555_n.jpg?stp=dst-jpg_e35&cb=2d435ae8-326fec31&_nc_ht=instagram.fcai15-1.fna.fbcdn.net&_nc_cat=105&_nc_ohc=K5OqrhxAdkIAX_I-JQC&tn=ORiT5OT-6puh_3bq&edm=AGyKU4gBAAAA&ccb=7-5&ig_cache_key=MjkxOTIzMDQwMjE2Njg1NTkwMg%3D%3D.2-ccb7-5&oh=00_AT8-58PMVw6aPofNNQYF9ZbPW5_JIog0Q9uZ5nEdHuDzJw&oe=63198714&_nc_sid=4cb768', 'https://instagram.fcai15-1.fna.fbcdn.net/v/t51.2885-15/304788292_463001655744214_5114738144526989270_n.jpg?stp=dst-jpg_e35&cb=2d435ae8-326fec31&_nc_ht=instagram.fcai15-1.fna.fbcdn.net&_nc_cat=110&_nc_ohc=6J_jSgx8fCgAX9bhDx9&edm=AGyKU4gBAAAA&ccb=7-5&ig_cache_key=MjkxOTIzMDM3MjE1MjMyMTM3Ng%3D%3D.2-ccb7-5&oh=00_AT8Uqb2UbclA2OsmI0hu0_Jv0N4uFqUQJaZeQRLEMODRgQ&oe=631A00D4&_nc_sid=4cb768', 'https://instagram.fcai15-1.fna.fbcdn.net/v/t51.2885-15/303732098_140000581793814_5457340984813137183_n.webp?stp=dst-jpg_e35&cb=2d435ae8-326fec31&_nc_ht=instagram.fcai15-1.fna.fbcdn.net&_nc_cat=106&_nc_ohc=85STqLs5VasAX8c_MOn&edm=AGyKU4gBAAAA&ccb=7-5&ig_cache_key=MjkxOTIzMDA2ODkwMzQ0MDk5NA%3D%3D.2-ccb7-5&oh=00_AT933nbmSq1yTfxHETghCgyrt0t-0l4D6OgChb1UuwrcFA&oe=631ACD31&_nc_sid=4cb768', 'https://instagram.fcai15-1.fna.fbcdn.net/v/t51.2885-15/303222839_367751505548371_7942762180364630207_n.webp?stp=dst-jpg_e35&cb=2d435ae8-326fec31&_nc_ht=instagram.fcai15-1.fna.fbcdn.net&_nc_cat=107&_nc_ohc=i0ZwF2iZEG8AX_bRtQS&edm=AGyKU4gBAAAA&ccb=7-5&ig_cache_key=MjkxOTIzMDY4NTU2MDE1ODIwNw%3D%3D.2-ccb7-5&oh=00_AT_zJhzcBAxZY-NG7evhymsLltQNsZsx2ap8BdtAGVDSWA&oe=6319A902&_nc_sid=4cb768', 'https://instagram.fcai15-1.fna.fbcdn.net/v/t51.2885-15/304818323_1804733696544815_6178347342589721644_n.webp?stp=dst-jpg_e35&cb=2d435ae8-326fec31&_nc_ht=instagram.fcai15-1.fna.fbcdn.net&_nc_cat=111&_nc_ohc=tgm5__qCk_0AX_Z7mkg&edm=AGyKU4gBAAAA&ccb=7-5&ig_cache_key=MjkxOTIzMDcxNjQ2MjgzNDAzMg%3D%3D.2-ccb7-5&oh=00_AT_euPW4LZsIamEUDYkZ83vKKLw5Uryosq1sFs9vZol7kw&oe=631AF715&_nc_sid=4cb768', 'https://instagram.fcai15-1.fna.fbcdn.net/v/t51.2885-15/304997659_1134898234097230_3099771278849806497_n.jpg?stp=dst-jpg_e35&cb=2d435ae8-326fec31&_nc_ht=instagram.fcai15-1.fna.fbcdn.net&_nc_cat=110&_nc_ohc=_0jcX-edekgAX8H53ZI&edm=AGyKU4gBAAAA&ccb=7-5&ig_cache_key=MjkxOTIzMDM2ODg4MDcwNzk1NQ%3D%3D.2-ccb7-5&oh=00_AT-w7SOqCSSrkmixi6RVoYMhbckZmv1_4kI9prKGORly8g&oe=631A86E2&_nc_sid=4cb768', 'https://instagram.fcai15-1.fna.fbcdn.net/v/t51.2885-15/304740708_102862842537094_3097090889414820558_n.webp?stp=dst-jpg_e35&cb=2d435ae8-326fec31&_nc_ht=instagram.fcai15-1.fna.fbcdn.net&_nc_cat=110&_nc_ohc=pYpvTtCE89wAX93pJjt&edm=AGyKU4gBAAAA&ccb=7-5&ig_cache_key=MjkxOTIzMDMxNjYyNzk5NjI3Ng%3D%3D.2-ccb7-5&oh=00_AT9IAQ6R8k0JKOzablcD9n-XAA-gmH7DaK6L9poBOcJdSA&oe=631A89D0&_nc_sid=4cb768', 'https://instagram.fcai15-1.fna.fbcdn.net/v/t51.2885-15/286947845_437817241712259_4872236522280808187_n.webp?stp=dst-jpg_e35&cb=2d435ae8-326fec31&_nc_ht=instagram.fcai15-1.fna.fbcdn.net&_nc_cat=103&_nc_ohc=DlfU2H7Or-4AX-4d0Fe&edm=AGyKU4gBAAAA&ccb=7-5&ig_cache_key=MjkxOTIzMDU1MTkyODI0ODgyMg%3D%3D.2-ccb7-5&oh=00_AT-cMUnayCQ5gKA_Re5h1VXeNqrGXy_i_lTHKVZEOWv6KA&oe=631A70E6&_nc_sid=4cb768', 'https://instagram.fcai15-1.fna.fbcdn.net/v/t51.2885-15/303897749_414738730773453_452380757396015435_n.webp?stp=dst-jpg_e35&cb=2d435ae8-326fec31&_nc_ht=instagram.fcai15-1.fna.fbcdn.net&_nc_cat=109&_nc_ohc=sJomx4CFGh4AX-auF-9&edm=AGyKU4gBAAAA&ccb=7-5&ig_cache_key=MjkxOTIzMDMwMTc2Mzc1MjcwMA%3D%3D.2-ccb7-5&oh=00_AT9-JPxffEwZXRMJb-Mzg6JvOnNChOkYwEmOczDVwEw-bw&oe=631978FE&_nc_sid=4cb768', 'https://instagram.fala3-3.fna.fbcdn.net/v/t51.2885-19/44884218_345707102882519_2446069589734326272_n.jpg?_nc_ht=instagram.fala3-3.fna.fbcdn.net&_nc_cat=1&_nc_ohc=wSka0ViJGd0AX_jp0Zz&edm=ALbqBD0BAAAA&ccb=7-5&ig_cache_key=YW5vbnltb3VzX3Byb2ZpbGVfcGlj.2-ccb7-5&oh=00_AT-5wtRfY8cHyCJvVtG7UpUJbDu6tw0uGDrs68jjmjtlvg&oe=6319F8CF&_nc_sid=9a90d6'] \n",
      " 35\n"
     ]
    }
   ],
   "source": [
    "driver.execute_script(\"window.scrollTo(0, document.body.scrollHeight);\")\n",
    "\n",
    "delay=5\n",
    "time.sleep(delay)\n",
    "\n",
    "images=driver.find_elements_by_tag_name('img')\n",
    "images_links=[image.get_attribute('src') for image in images]\n",
    "print(images_links,'\\n',len(images_links))\n"
   ]
  },
  {
   "cell_type": "code",
   "execution_count": 30,
   "id": "e2b4000a",
   "metadata": {
    "ExecuteTime": {
     "end_time": "2022-09-03T15:39:01.714095Z",
     "start_time": "2022-09-03T15:39:01.692102Z"
    }
   },
   "outputs": [],
   "source": [
    "def download_image(url, file_name):\n",
    "    try:\n",
    "        image_content = requests.get(url).content\n",
    "        image_file = io.BytesIO(image_content)\n",
    "        image = Image.open(image_file)\n",
    "\n",
    "        with open(file_name, \"wb\") as f:\n",
    "            image.save(f, \"JPEG\")\n",
    "        print(\"Success\")\n",
    "    \n",
    "    except Exception as e:\n",
    "        print('FAILED -', e)\n"
   ]
  },
  {
   "cell_type": "code",
   "execution_count": 49,
   "id": "6c61d1a4",
   "metadata": {
    "ExecuteTime": {
     "end_time": "2022-09-03T15:49:51.206589Z",
     "start_time": "2022-09-03T15:49:51.184600Z"
    }
   },
   "outputs": [],
   "source": [
    "def d(url, file_name):\n",
    "    try:\n",
    "        image_content = requests.get(url).content\n",
    "        image_file = io.BytesIO(image_content)\n",
    "        image = Image.open(image_file)\n",
    "        \n",
    "        with open(f'{file_name}.jpg','wb') as f:\n",
    "            image.save(f,image.format)\n",
    "    except:\n",
    "        print('Error')\n",
    "\n",
    "    "
   ]
  },
  {
   "cell_type": "code",
   "execution_count": 50,
   "id": "ac206e9a",
   "metadata": {
    "ExecuteTime": {
     "end_time": "2022-09-03T15:49:52.902375Z",
     "start_time": "2022-09-03T15:49:52.213619Z"
    }
   },
   "outputs": [
    {
     "name": "stdout",
     "output_type": "stream",
     "text": [
      "https://instagram.fcai15-1.fna.fbcdn.net/v/t51.2885-15/302576359_167428445869701_3772278768708746504_n.webp?stp=dst-jpg_e35&cb=2d435ae8-326fec31&_nc_ht=instagram.fcai15-1.fna.fbcdn.net&_nc_cat=1&_nc_ohc=AlxokZhqm6IAX-ru5Mf&edm=AGyKU4gBAAAA&ccb=7-5&ig_cache_key=MjkxODY5ODQzMjczNTExNzkwMQ%3D%3D.2-ccb7-5&oh=00_AT9Ox4AkCJ31XmZnFBw18IxR1MW-h6RBeqnxoHoFsAPMDg&oe=631A411D&_nc_sid=4cb768\n"
     ]
    }
   ],
   "source": [
    "\n",
    "print(images_links[5])\n",
    "d(images_links[5],'cat')\n"
   ]
  },
  {
   "cell_type": "code",
   "execution_count": 48,
   "id": "940c14d1",
   "metadata": {
    "ExecuteTime": {
     "end_time": "2022-09-03T15:48:35.456015Z",
     "start_time": "2022-09-03T15:48:35.356075Z"
    }
   },
   "outputs": [
    {
     "ename": "ConnectionError",
     "evalue": "HTTPSConnectionPool(host='instagram.fcai15-1.fna.fbcdn.net', port=443): Max retries exceeded with url: /v/t51.2885-15/302576359_167428445869701_3772278768708746504_n.webp?stp=dst-jpg_e35&cb=2d435ae8-326fec31&_nc_ht=instagram.fcai15-1.fna.fbcdn.net&_nc_cat=1&_nc_ohc=AlxokZhqm6IAX-ru5Mf&edm=AGyKU4gBAAAA&ccb=7-5&ig_cache_key=MjkxODY5ODQzMjczNTExNzkwMQ%3D%3D.2-ccb7-5&oh=00_AT9Ox4AkCJ31XmZnFBw18IxR1MW-h6RBeqnxoHoFsAPMDg&oe=631A411D&_nc_sid=4cb768 (Caused by NewConnectionError('<urllib3.connection.HTTPSConnection object at 0x00000198E3B59670>: Failed to establish a new connection: [Errno 11001] getaddrinfo failed'))",
     "output_type": "error",
     "traceback": [
      "\u001b[1;31m---------------------------------------------------------------------------\u001b[0m",
      "\u001b[1;31mgaierror\u001b[0m                                  Traceback (most recent call last)",
      "\u001b[1;32mc:\\users\\hp 15\\appdata\\local\\programs\\python\\python39\\lib\\site-packages\\urllib3\\connection.py\u001b[0m in \u001b[0;36m_new_conn\u001b[1;34m(self)\u001b[0m\n\u001b[0;32m    168\u001b[0m         \u001b[1;32mtry\u001b[0m\u001b[1;33m:\u001b[0m\u001b[1;33m\u001b[0m\u001b[1;33m\u001b[0m\u001b[0m\n\u001b[1;32m--> 169\u001b[1;33m             conn = connection.create_connection(\n\u001b[0m\u001b[0;32m    170\u001b[0m                 \u001b[1;33m(\u001b[0m\u001b[0mself\u001b[0m\u001b[1;33m.\u001b[0m\u001b[0m_dns_host\u001b[0m\u001b[1;33m,\u001b[0m \u001b[0mself\u001b[0m\u001b[1;33m.\u001b[0m\u001b[0mport\u001b[0m\u001b[1;33m)\u001b[0m\u001b[1;33m,\u001b[0m \u001b[0mself\u001b[0m\u001b[1;33m.\u001b[0m\u001b[0mtimeout\u001b[0m\u001b[1;33m,\u001b[0m \u001b[1;33m**\u001b[0m\u001b[0mextra_kw\u001b[0m\u001b[1;33m\u001b[0m\u001b[1;33m\u001b[0m\u001b[0m\n",
      "\u001b[1;32mc:\\users\\hp 15\\appdata\\local\\programs\\python\\python39\\lib\\site-packages\\urllib3\\util\\connection.py\u001b[0m in \u001b[0;36mcreate_connection\u001b[1;34m(address, timeout, source_address, socket_options)\u001b[0m\n\u001b[0;32m     72\u001b[0m \u001b[1;33m\u001b[0m\u001b[0m\n\u001b[1;32m---> 73\u001b[1;33m     \u001b[1;32mfor\u001b[0m \u001b[0mres\u001b[0m \u001b[1;32min\u001b[0m \u001b[0msocket\u001b[0m\u001b[1;33m.\u001b[0m\u001b[0mgetaddrinfo\u001b[0m\u001b[1;33m(\u001b[0m\u001b[0mhost\u001b[0m\u001b[1;33m,\u001b[0m \u001b[0mport\u001b[0m\u001b[1;33m,\u001b[0m \u001b[0mfamily\u001b[0m\u001b[1;33m,\u001b[0m \u001b[0msocket\u001b[0m\u001b[1;33m.\u001b[0m\u001b[0mSOCK_STREAM\u001b[0m\u001b[1;33m)\u001b[0m\u001b[1;33m:\u001b[0m\u001b[1;33m\u001b[0m\u001b[1;33m\u001b[0m\u001b[0m\n\u001b[0m\u001b[0;32m     74\u001b[0m         \u001b[0maf\u001b[0m\u001b[1;33m,\u001b[0m \u001b[0msocktype\u001b[0m\u001b[1;33m,\u001b[0m \u001b[0mproto\u001b[0m\u001b[1;33m,\u001b[0m \u001b[0mcanonname\u001b[0m\u001b[1;33m,\u001b[0m \u001b[0msa\u001b[0m \u001b[1;33m=\u001b[0m \u001b[0mres\u001b[0m\u001b[1;33m\u001b[0m\u001b[1;33m\u001b[0m\u001b[0m\n",
      "\u001b[1;32mc:\\users\\hp 15\\appdata\\local\\programs\\python\\python39\\lib\\socket.py\u001b[0m in \u001b[0;36mgetaddrinfo\u001b[1;34m(host, port, family, type, proto, flags)\u001b[0m\n\u001b[0;32m    952\u001b[0m     \u001b[0maddrlist\u001b[0m \u001b[1;33m=\u001b[0m \u001b[1;33m[\u001b[0m\u001b[1;33m]\u001b[0m\u001b[1;33m\u001b[0m\u001b[1;33m\u001b[0m\u001b[0m\n\u001b[1;32m--> 953\u001b[1;33m     \u001b[1;32mfor\u001b[0m \u001b[0mres\u001b[0m \u001b[1;32min\u001b[0m \u001b[0m_socket\u001b[0m\u001b[1;33m.\u001b[0m\u001b[0mgetaddrinfo\u001b[0m\u001b[1;33m(\u001b[0m\u001b[0mhost\u001b[0m\u001b[1;33m,\u001b[0m \u001b[0mport\u001b[0m\u001b[1;33m,\u001b[0m \u001b[0mfamily\u001b[0m\u001b[1;33m,\u001b[0m \u001b[0mtype\u001b[0m\u001b[1;33m,\u001b[0m \u001b[0mproto\u001b[0m\u001b[1;33m,\u001b[0m \u001b[0mflags\u001b[0m\u001b[1;33m)\u001b[0m\u001b[1;33m:\u001b[0m\u001b[1;33m\u001b[0m\u001b[1;33m\u001b[0m\u001b[0m\n\u001b[0m\u001b[0;32m    954\u001b[0m         \u001b[0maf\u001b[0m\u001b[1;33m,\u001b[0m \u001b[0msocktype\u001b[0m\u001b[1;33m,\u001b[0m \u001b[0mproto\u001b[0m\u001b[1;33m,\u001b[0m \u001b[0mcanonname\u001b[0m\u001b[1;33m,\u001b[0m \u001b[0msa\u001b[0m \u001b[1;33m=\u001b[0m \u001b[0mres\u001b[0m\u001b[1;33m\u001b[0m\u001b[1;33m\u001b[0m\u001b[0m\n",
      "\u001b[1;31mgaierror\u001b[0m: [Errno 11001] getaddrinfo failed",
      "\nDuring handling of the above exception, another exception occurred:\n",
      "\u001b[1;31mNewConnectionError\u001b[0m                        Traceback (most recent call last)",
      "\u001b[1;32mc:\\users\\hp 15\\appdata\\local\\programs\\python\\python39\\lib\\site-packages\\urllib3\\connectionpool.py\u001b[0m in \u001b[0;36murlopen\u001b[1;34m(self, method, url, body, headers, retries, redirect, assert_same_host, timeout, pool_timeout, release_conn, chunked, body_pos, **response_kw)\u001b[0m\n\u001b[0;32m    698\u001b[0m             \u001b[1;31m# Make the request on the httplib connection object.\u001b[0m\u001b[1;33m\u001b[0m\u001b[1;33m\u001b[0m\u001b[1;33m\u001b[0m\u001b[0m\n\u001b[1;32m--> 699\u001b[1;33m             httplib_response = self._make_request(\n\u001b[0m\u001b[0;32m    700\u001b[0m                 \u001b[0mconn\u001b[0m\u001b[1;33m,\u001b[0m\u001b[1;33m\u001b[0m\u001b[1;33m\u001b[0m\u001b[0m\n",
      "\u001b[1;32mc:\\users\\hp 15\\appdata\\local\\programs\\python\\python39\\lib\\site-packages\\urllib3\\connectionpool.py\u001b[0m in \u001b[0;36m_make_request\u001b[1;34m(self, conn, method, url, timeout, chunked, **httplib_request_kw)\u001b[0m\n\u001b[0;32m    381\u001b[0m         \u001b[1;32mtry\u001b[0m\u001b[1;33m:\u001b[0m\u001b[1;33m\u001b[0m\u001b[1;33m\u001b[0m\u001b[0m\n\u001b[1;32m--> 382\u001b[1;33m             \u001b[0mself\u001b[0m\u001b[1;33m.\u001b[0m\u001b[0m_validate_conn\u001b[0m\u001b[1;33m(\u001b[0m\u001b[0mconn\u001b[0m\u001b[1;33m)\u001b[0m\u001b[1;33m\u001b[0m\u001b[1;33m\u001b[0m\u001b[0m\n\u001b[0m\u001b[0;32m    383\u001b[0m         \u001b[1;32mexcept\u001b[0m \u001b[1;33m(\u001b[0m\u001b[0mSocketTimeout\u001b[0m\u001b[1;33m,\u001b[0m \u001b[0mBaseSSLError\u001b[0m\u001b[1;33m)\u001b[0m \u001b[1;32mas\u001b[0m \u001b[0me\u001b[0m\u001b[1;33m:\u001b[0m\u001b[1;33m\u001b[0m\u001b[1;33m\u001b[0m\u001b[0m\n",
      "\u001b[1;32mc:\\users\\hp 15\\appdata\\local\\programs\\python\\python39\\lib\\site-packages\\urllib3\\connectionpool.py\u001b[0m in \u001b[0;36m_validate_conn\u001b[1;34m(self, conn)\u001b[0m\n\u001b[0;32m   1009\u001b[0m         \u001b[1;32mif\u001b[0m \u001b[1;32mnot\u001b[0m \u001b[0mgetattr\u001b[0m\u001b[1;33m(\u001b[0m\u001b[0mconn\u001b[0m\u001b[1;33m,\u001b[0m \u001b[1;34m\"sock\"\u001b[0m\u001b[1;33m,\u001b[0m \u001b[1;32mNone\u001b[0m\u001b[1;33m)\u001b[0m\u001b[1;33m:\u001b[0m  \u001b[1;31m# AppEngine might not have  `.sock`\u001b[0m\u001b[1;33m\u001b[0m\u001b[1;33m\u001b[0m\u001b[0m\n\u001b[1;32m-> 1010\u001b[1;33m             \u001b[0mconn\u001b[0m\u001b[1;33m.\u001b[0m\u001b[0mconnect\u001b[0m\u001b[1;33m(\u001b[0m\u001b[1;33m)\u001b[0m\u001b[1;33m\u001b[0m\u001b[1;33m\u001b[0m\u001b[0m\n\u001b[0m\u001b[0;32m   1011\u001b[0m \u001b[1;33m\u001b[0m\u001b[0m\n",
      "\u001b[1;32mc:\\users\\hp 15\\appdata\\local\\programs\\python\\python39\\lib\\site-packages\\urllib3\\connection.py\u001b[0m in \u001b[0;36mconnect\u001b[1;34m(self)\u001b[0m\n\u001b[0;32m    352\u001b[0m         \u001b[1;31m# Add certificate verification\u001b[0m\u001b[1;33m\u001b[0m\u001b[1;33m\u001b[0m\u001b[1;33m\u001b[0m\u001b[0m\n\u001b[1;32m--> 353\u001b[1;33m         \u001b[0mconn\u001b[0m \u001b[1;33m=\u001b[0m \u001b[0mself\u001b[0m\u001b[1;33m.\u001b[0m\u001b[0m_new_conn\u001b[0m\u001b[1;33m(\u001b[0m\u001b[1;33m)\u001b[0m\u001b[1;33m\u001b[0m\u001b[1;33m\u001b[0m\u001b[0m\n\u001b[0m\u001b[0;32m    354\u001b[0m         \u001b[0mhostname\u001b[0m \u001b[1;33m=\u001b[0m \u001b[0mself\u001b[0m\u001b[1;33m.\u001b[0m\u001b[0mhost\u001b[0m\u001b[1;33m\u001b[0m\u001b[1;33m\u001b[0m\u001b[0m\n",
      "\u001b[1;32mc:\\users\\hp 15\\appdata\\local\\programs\\python\\python39\\lib\\site-packages\\urllib3\\connection.py\u001b[0m in \u001b[0;36m_new_conn\u001b[1;34m(self)\u001b[0m\n\u001b[0;32m    180\u001b[0m         \u001b[1;32mexcept\u001b[0m \u001b[0mSocketError\u001b[0m \u001b[1;32mas\u001b[0m \u001b[0me\u001b[0m\u001b[1;33m:\u001b[0m\u001b[1;33m\u001b[0m\u001b[1;33m\u001b[0m\u001b[0m\n\u001b[1;32m--> 181\u001b[1;33m             raise NewConnectionError(\n\u001b[0m\u001b[0;32m    182\u001b[0m                 \u001b[0mself\u001b[0m\u001b[1;33m,\u001b[0m \u001b[1;34m\"Failed to establish a new connection: %s\"\u001b[0m \u001b[1;33m%\u001b[0m \u001b[0me\u001b[0m\u001b[1;33m\u001b[0m\u001b[1;33m\u001b[0m\u001b[0m\n",
      "\u001b[1;31mNewConnectionError\u001b[0m: <urllib3.connection.HTTPSConnection object at 0x00000198E3B59670>: Failed to establish a new connection: [Errno 11001] getaddrinfo failed",
      "\nDuring handling of the above exception, another exception occurred:\n",
      "\u001b[1;31mMaxRetryError\u001b[0m                             Traceback (most recent call last)",
      "\u001b[1;32mc:\\users\\hp 15\\appdata\\local\\programs\\python\\python39\\lib\\site-packages\\requests\\adapters.py\u001b[0m in \u001b[0;36msend\u001b[1;34m(self, request, stream, timeout, verify, cert, proxies)\u001b[0m\n\u001b[0;32m    438\u001b[0m             \u001b[1;32mif\u001b[0m \u001b[1;32mnot\u001b[0m \u001b[0mchunked\u001b[0m\u001b[1;33m:\u001b[0m\u001b[1;33m\u001b[0m\u001b[1;33m\u001b[0m\u001b[0m\n\u001b[1;32m--> 439\u001b[1;33m                 resp = conn.urlopen(\n\u001b[0m\u001b[0;32m    440\u001b[0m                     \u001b[0mmethod\u001b[0m\u001b[1;33m=\u001b[0m\u001b[0mrequest\u001b[0m\u001b[1;33m.\u001b[0m\u001b[0mmethod\u001b[0m\u001b[1;33m,\u001b[0m\u001b[1;33m\u001b[0m\u001b[1;33m\u001b[0m\u001b[0m\n",
      "\u001b[1;32mc:\\users\\hp 15\\appdata\\local\\programs\\python\\python39\\lib\\site-packages\\urllib3\\connectionpool.py\u001b[0m in \u001b[0;36murlopen\u001b[1;34m(self, method, url, body, headers, retries, redirect, assert_same_host, timeout, pool_timeout, release_conn, chunked, body_pos, **response_kw)\u001b[0m\n\u001b[0;32m    754\u001b[0m \u001b[1;33m\u001b[0m\u001b[0m\n\u001b[1;32m--> 755\u001b[1;33m             retries = retries.increment(\n\u001b[0m\u001b[0;32m    756\u001b[0m                 \u001b[0mmethod\u001b[0m\u001b[1;33m,\u001b[0m \u001b[0murl\u001b[0m\u001b[1;33m,\u001b[0m \u001b[0merror\u001b[0m\u001b[1;33m=\u001b[0m\u001b[0me\u001b[0m\u001b[1;33m,\u001b[0m \u001b[0m_pool\u001b[0m\u001b[1;33m=\u001b[0m\u001b[0mself\u001b[0m\u001b[1;33m,\u001b[0m \u001b[0m_stacktrace\u001b[0m\u001b[1;33m=\u001b[0m\u001b[0msys\u001b[0m\u001b[1;33m.\u001b[0m\u001b[0mexc_info\u001b[0m\u001b[1;33m(\u001b[0m\u001b[1;33m)\u001b[0m\u001b[1;33m[\u001b[0m\u001b[1;36m2\u001b[0m\u001b[1;33m]\u001b[0m\u001b[1;33m\u001b[0m\u001b[1;33m\u001b[0m\u001b[0m\n",
      "\u001b[1;32mc:\\users\\hp 15\\appdata\\local\\programs\\python\\python39\\lib\\site-packages\\urllib3\\util\\retry.py\u001b[0m in \u001b[0;36mincrement\u001b[1;34m(self, method, url, response, error, _pool, _stacktrace)\u001b[0m\n\u001b[0;32m    573\u001b[0m         \u001b[1;32mif\u001b[0m \u001b[0mnew_retry\u001b[0m\u001b[1;33m.\u001b[0m\u001b[0mis_exhausted\u001b[0m\u001b[1;33m(\u001b[0m\u001b[1;33m)\u001b[0m\u001b[1;33m:\u001b[0m\u001b[1;33m\u001b[0m\u001b[1;33m\u001b[0m\u001b[0m\n\u001b[1;32m--> 574\u001b[1;33m             \u001b[1;32mraise\u001b[0m \u001b[0mMaxRetryError\u001b[0m\u001b[1;33m(\u001b[0m\u001b[0m_pool\u001b[0m\u001b[1;33m,\u001b[0m \u001b[0murl\u001b[0m\u001b[1;33m,\u001b[0m \u001b[0merror\u001b[0m \u001b[1;32mor\u001b[0m \u001b[0mResponseError\u001b[0m\u001b[1;33m(\u001b[0m\u001b[0mcause\u001b[0m\u001b[1;33m)\u001b[0m\u001b[1;33m)\u001b[0m\u001b[1;33m\u001b[0m\u001b[1;33m\u001b[0m\u001b[0m\n\u001b[0m\u001b[0;32m    575\u001b[0m \u001b[1;33m\u001b[0m\u001b[0m\n",
      "\u001b[1;31mMaxRetryError\u001b[0m: HTTPSConnectionPool(host='instagram.fcai15-1.fna.fbcdn.net', port=443): Max retries exceeded with url: /v/t51.2885-15/302576359_167428445869701_3772278768708746504_n.webp?stp=dst-jpg_e35&cb=2d435ae8-326fec31&_nc_ht=instagram.fcai15-1.fna.fbcdn.net&_nc_cat=1&_nc_ohc=AlxokZhqm6IAX-ru5Mf&edm=AGyKU4gBAAAA&ccb=7-5&ig_cache_key=MjkxODY5ODQzMjczNTExNzkwMQ%3D%3D.2-ccb7-5&oh=00_AT9Ox4AkCJ31XmZnFBw18IxR1MW-h6RBeqnxoHoFsAPMDg&oe=631A411D&_nc_sid=4cb768 (Caused by NewConnectionError('<urllib3.connection.HTTPSConnection object at 0x00000198E3B59670>: Failed to establish a new connection: [Errno 11001] getaddrinfo failed'))",
      "\nDuring handling of the above exception, another exception occurred:\n",
      "\u001b[1;31mConnectionError\u001b[0m                           Traceback (most recent call last)",
      "\u001b[1;32mC:\\Users\\HP15~1\\AppData\\Local\\Temp/ipykernel_17608/36717250.py\u001b[0m in \u001b[0;36m<module>\u001b[1;34m\u001b[0m\n\u001b[1;32m----> 1\u001b[1;33m \u001b[0mrequests\u001b[0m\u001b[1;33m.\u001b[0m\u001b[0mget\u001b[0m\u001b[1;33m(\u001b[0m\u001b[1;34m'https://instagram.fcai15-1.fna.fbcdn.net/v/t51.2885-15/302576359_167428445869701_3772278768708746504_n.webp?stp=dst-jpg_e35&cb=2d435ae8-326fec31&_nc_ht=instagram.fcai15-1.fna.fbcdn.net&_nc_cat=1&_nc_ohc=AlxokZhqm6IAX-ru5Mf&edm=AGyKU4gBAAAA&ccb=7-5&ig_cache_key=MjkxODY5ODQzMjczNTExNzkwMQ%3D%3D.2-ccb7-5&oh=00_AT9Ox4AkCJ31XmZnFBw18IxR1MW-h6RBeqnxoHoFsAPMDg&oe=631A411D&_nc_sid=4cb768'\u001b[0m\u001b[1;33m)\u001b[0m\u001b[1;33m\u001b[0m\u001b[1;33m\u001b[0m\u001b[0m\n\u001b[0m",
      "\u001b[1;32mc:\\users\\hp 15\\appdata\\local\\programs\\python\\python39\\lib\\site-packages\\requests\\api.py\u001b[0m in \u001b[0;36mget\u001b[1;34m(url, params, **kwargs)\u001b[0m\n\u001b[0;32m     73\u001b[0m     \"\"\"\n\u001b[0;32m     74\u001b[0m \u001b[1;33m\u001b[0m\u001b[0m\n\u001b[1;32m---> 75\u001b[1;33m     \u001b[1;32mreturn\u001b[0m \u001b[0mrequest\u001b[0m\u001b[1;33m(\u001b[0m\u001b[1;34m'get'\u001b[0m\u001b[1;33m,\u001b[0m \u001b[0murl\u001b[0m\u001b[1;33m,\u001b[0m \u001b[0mparams\u001b[0m\u001b[1;33m=\u001b[0m\u001b[0mparams\u001b[0m\u001b[1;33m,\u001b[0m \u001b[1;33m**\u001b[0m\u001b[0mkwargs\u001b[0m\u001b[1;33m)\u001b[0m\u001b[1;33m\u001b[0m\u001b[1;33m\u001b[0m\u001b[0m\n\u001b[0m\u001b[0;32m     76\u001b[0m \u001b[1;33m\u001b[0m\u001b[0m\n\u001b[0;32m     77\u001b[0m \u001b[1;33m\u001b[0m\u001b[0m\n",
      "\u001b[1;32mc:\\users\\hp 15\\appdata\\local\\programs\\python\\python39\\lib\\site-packages\\requests\\api.py\u001b[0m in \u001b[0;36mrequest\u001b[1;34m(method, url, **kwargs)\u001b[0m\n\u001b[0;32m     59\u001b[0m     \u001b[1;31m# cases, and look like a memory leak in others.\u001b[0m\u001b[1;33m\u001b[0m\u001b[1;33m\u001b[0m\u001b[1;33m\u001b[0m\u001b[0m\n\u001b[0;32m     60\u001b[0m     \u001b[1;32mwith\u001b[0m \u001b[0msessions\u001b[0m\u001b[1;33m.\u001b[0m\u001b[0mSession\u001b[0m\u001b[1;33m(\u001b[0m\u001b[1;33m)\u001b[0m \u001b[1;32mas\u001b[0m \u001b[0msession\u001b[0m\u001b[1;33m:\u001b[0m\u001b[1;33m\u001b[0m\u001b[1;33m\u001b[0m\u001b[0m\n\u001b[1;32m---> 61\u001b[1;33m         \u001b[1;32mreturn\u001b[0m \u001b[0msession\u001b[0m\u001b[1;33m.\u001b[0m\u001b[0mrequest\u001b[0m\u001b[1;33m(\u001b[0m\u001b[0mmethod\u001b[0m\u001b[1;33m=\u001b[0m\u001b[0mmethod\u001b[0m\u001b[1;33m,\u001b[0m \u001b[0murl\u001b[0m\u001b[1;33m=\u001b[0m\u001b[0murl\u001b[0m\u001b[1;33m,\u001b[0m \u001b[1;33m**\u001b[0m\u001b[0mkwargs\u001b[0m\u001b[1;33m)\u001b[0m\u001b[1;33m\u001b[0m\u001b[1;33m\u001b[0m\u001b[0m\n\u001b[0m\u001b[0;32m     62\u001b[0m \u001b[1;33m\u001b[0m\u001b[0m\n\u001b[0;32m     63\u001b[0m \u001b[1;33m\u001b[0m\u001b[0m\n",
      "\u001b[1;32mc:\\users\\hp 15\\appdata\\local\\programs\\python\\python39\\lib\\site-packages\\requests\\sessions.py\u001b[0m in \u001b[0;36mrequest\u001b[1;34m(self, method, url, params, data, headers, cookies, files, auth, timeout, allow_redirects, proxies, hooks, stream, verify, cert, json)\u001b[0m\n\u001b[0;32m    540\u001b[0m         }\n\u001b[0;32m    541\u001b[0m         \u001b[0msend_kwargs\u001b[0m\u001b[1;33m.\u001b[0m\u001b[0mupdate\u001b[0m\u001b[1;33m(\u001b[0m\u001b[0msettings\u001b[0m\u001b[1;33m)\u001b[0m\u001b[1;33m\u001b[0m\u001b[1;33m\u001b[0m\u001b[0m\n\u001b[1;32m--> 542\u001b[1;33m         \u001b[0mresp\u001b[0m \u001b[1;33m=\u001b[0m \u001b[0mself\u001b[0m\u001b[1;33m.\u001b[0m\u001b[0msend\u001b[0m\u001b[1;33m(\u001b[0m\u001b[0mprep\u001b[0m\u001b[1;33m,\u001b[0m \u001b[1;33m**\u001b[0m\u001b[0msend_kwargs\u001b[0m\u001b[1;33m)\u001b[0m\u001b[1;33m\u001b[0m\u001b[1;33m\u001b[0m\u001b[0m\n\u001b[0m\u001b[0;32m    543\u001b[0m \u001b[1;33m\u001b[0m\u001b[0m\n\u001b[0;32m    544\u001b[0m         \u001b[1;32mreturn\u001b[0m \u001b[0mresp\u001b[0m\u001b[1;33m\u001b[0m\u001b[1;33m\u001b[0m\u001b[0m\n",
      "\u001b[1;32mc:\\users\\hp 15\\appdata\\local\\programs\\python\\python39\\lib\\site-packages\\requests\\sessions.py\u001b[0m in \u001b[0;36msend\u001b[1;34m(self, request, **kwargs)\u001b[0m\n\u001b[0;32m    653\u001b[0m \u001b[1;33m\u001b[0m\u001b[0m\n\u001b[0;32m    654\u001b[0m         \u001b[1;31m# Send the request\u001b[0m\u001b[1;33m\u001b[0m\u001b[1;33m\u001b[0m\u001b[1;33m\u001b[0m\u001b[0m\n\u001b[1;32m--> 655\u001b[1;33m         \u001b[0mr\u001b[0m \u001b[1;33m=\u001b[0m \u001b[0madapter\u001b[0m\u001b[1;33m.\u001b[0m\u001b[0msend\u001b[0m\u001b[1;33m(\u001b[0m\u001b[0mrequest\u001b[0m\u001b[1;33m,\u001b[0m \u001b[1;33m**\u001b[0m\u001b[0mkwargs\u001b[0m\u001b[1;33m)\u001b[0m\u001b[1;33m\u001b[0m\u001b[1;33m\u001b[0m\u001b[0m\n\u001b[0m\u001b[0;32m    656\u001b[0m \u001b[1;33m\u001b[0m\u001b[0m\n\u001b[0;32m    657\u001b[0m         \u001b[1;31m# Total elapsed time of the request (approximately)\u001b[0m\u001b[1;33m\u001b[0m\u001b[1;33m\u001b[0m\u001b[1;33m\u001b[0m\u001b[0m\n",
      "\u001b[1;32mc:\\users\\hp 15\\appdata\\local\\programs\\python\\python39\\lib\\site-packages\\requests\\adapters.py\u001b[0m in \u001b[0;36msend\u001b[1;34m(self, request, stream, timeout, verify, cert, proxies)\u001b[0m\n\u001b[0;32m    514\u001b[0m                 \u001b[1;32mraise\u001b[0m \u001b[0mSSLError\u001b[0m\u001b[1;33m(\u001b[0m\u001b[0me\u001b[0m\u001b[1;33m,\u001b[0m \u001b[0mrequest\u001b[0m\u001b[1;33m=\u001b[0m\u001b[0mrequest\u001b[0m\u001b[1;33m)\u001b[0m\u001b[1;33m\u001b[0m\u001b[1;33m\u001b[0m\u001b[0m\n\u001b[0;32m    515\u001b[0m \u001b[1;33m\u001b[0m\u001b[0m\n\u001b[1;32m--> 516\u001b[1;33m             \u001b[1;32mraise\u001b[0m \u001b[0mConnectionError\u001b[0m\u001b[1;33m(\u001b[0m\u001b[0me\u001b[0m\u001b[1;33m,\u001b[0m \u001b[0mrequest\u001b[0m\u001b[1;33m=\u001b[0m\u001b[0mrequest\u001b[0m\u001b[1;33m)\u001b[0m\u001b[1;33m\u001b[0m\u001b[1;33m\u001b[0m\u001b[0m\n\u001b[0m\u001b[0;32m    517\u001b[0m \u001b[1;33m\u001b[0m\u001b[0m\n\u001b[0;32m    518\u001b[0m         \u001b[1;32mexcept\u001b[0m \u001b[0mClosedPoolError\u001b[0m \u001b[1;32mas\u001b[0m \u001b[0me\u001b[0m\u001b[1;33m:\u001b[0m\u001b[1;33m\u001b[0m\u001b[1;33m\u001b[0m\u001b[0m\n",
      "\u001b[1;31mConnectionError\u001b[0m: HTTPSConnectionPool(host='instagram.fcai15-1.fna.fbcdn.net', port=443): Max retries exceeded with url: /v/t51.2885-15/302576359_167428445869701_3772278768708746504_n.webp?stp=dst-jpg_e35&cb=2d435ae8-326fec31&_nc_ht=instagram.fcai15-1.fna.fbcdn.net&_nc_cat=1&_nc_ohc=AlxokZhqm6IAX-ru5Mf&edm=AGyKU4gBAAAA&ccb=7-5&ig_cache_key=MjkxODY5ODQzMjczNTExNzkwMQ%3D%3D.2-ccb7-5&oh=00_AT9Ox4AkCJ31XmZnFBw18IxR1MW-h6RBeqnxoHoFsAPMDg&oe=631A411D&_nc_sid=4cb768 (Caused by NewConnectionError('<urllib3.connection.HTTPSConnection object at 0x00000198E3B59670>: Failed to establish a new connection: [Errno 11001] getaddrinfo failed'))"
     ]
    }
   ],
   "source": [
    "requests.get('https://instagram.fcai15-1.fna.fbcdn.net/v/t51.2885-15/302576359_167428445869701_3772278768708746504_n.webp?stp=dst-jpg_e35&cb=2d435ae8-326fec31&_nc_ht=instagram.fcai15-1.fna.fbcdn.net&_nc_cat=1&_nc_ohc=AlxokZhqm6IAX-ru5Mf&edm=AGyKU4gBAAAA&ccb=7-5&ig_cache_key=MjkxODY5ODQzMjczNTExNzkwMQ%3D%3D.2-ccb7-5&oh=00_AT9Ox4AkCJ31XmZnFBw18IxR1MW-h6RBeqnxoHoFsAPMDg&oe=631A411D&_nc_sid=4cb768')"
   ]
  },
  {
   "cell_type": "code",
   "execution_count": null,
   "id": "4dc2e1c5",
   "metadata": {},
   "outputs": [],
   "source": []
  }
 ],
 "metadata": {
  "kernelspec": {
   "display_name": "Python 3 (ipykernel)",
   "language": "python",
   "name": "python3"
  },
  "language_info": {
   "codemirror_mode": {
    "name": "ipython",
    "version": 3
   },
   "file_extension": ".py",
   "mimetype": "text/x-python",
   "name": "python",
   "nbconvert_exporter": "python",
   "pygments_lexer": "ipython3",
   "version": "3.9.6"
  }
 },
 "nbformat": 4,
 "nbformat_minor": 5
}
