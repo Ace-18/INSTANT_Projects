{
 "cells": [
  {
   "cell_type": "code",
   "execution_count": 1,
   "id": "86028978",
   "metadata": {
    "ExecuteTime": {
     "end_time": "2022-12-18T19:09:19.392923Z",
     "start_time": "2022-12-18T19:09:18.659342Z"
    }
   },
   "outputs": [],
   "source": [
    "from selenium import webdriver\n",
    "from selenium.webdriver.common.by import By\n",
    "from selenium.webdriver.common.keys import Keys\n",
    "from selenium.webdriver.support.wait import WebDriverWait\n",
    "from selenium.webdriver.support import expected_conditions as EC\n",
    "\n",
    "import io\n",
    "from PIL import Image\n",
    "import time\n",
    "import os\n",
    "\n",
    "import wget"
   ]
  },
  {
   "cell_type": "code",
   "execution_count": 2,
   "id": "ec7b26f6",
   "metadata": {
    "ExecuteTime": {
     "end_time": "2022-12-18T19:09:49.702147Z",
     "start_time": "2022-12-18T19:09:21.562750Z"
    }
   },
   "outputs": [],
   "source": [
    "driver=webdriver.Chrome()\n",
    "driver.get(\"http://www.instagram.com\")\n",
    "\n",
    "username=WebDriverWait(driver,10).until(EC.element_to_be_clickable((By.CSS_SELECTOR,\"input[name='username']\")))\n",
    "password=WebDriverWait(driver,10).until(EC.element_to_be_clickable((By.CSS_SELECTOR,\"input[name='password']\")))\n",
    "\n",
    "#Entering username and password\n",
    "username.clear()\n",
    "username.send_keys('')\n",
    "password.clear()\n",
    "password.send_keys('')\n",
    "\n",
    "#Clicking Submit\n",
    "button= WebDriverWait(driver,2).until(EC.element_to_be_clickable((By.CSS_SELECTOR,\"button[type='submit']\"))).click()\n",
    "\n",
    "#Skipping the messages by clicking not now\n",
    "not_now = WebDriverWait(driver,10).until(EC.element_to_be_clickable((By.XPATH,'//button[contains(text(),\"Not Now\")]'))).click()\n",
    "try:\n",
    "    not_now1 = WebDriverWait(driver,10).until(EC.element_to_be_clickable((By.XPATH,'//button[contains(text(),\"Not Now\")]'))).click()\n",
    "except:\n",
    "    pass\n",
    "#Accessing the search box \n",
    "#searchbox = WebDriverWait(driver,10).until(EC.element_to_be_clickable((By.XPATH,'//input[@placeholder=\"Search\"]')))\n",
    "#searchbox = WebDriverWait(driver,10).until(EC.element_to_be_clickable((By.XPATH,'//div[text()=\"Search\"]')))"
   ]
  },
  {
   "cell_type": "code",
   "execution_count": 13,
   "id": "abb6adcc",
   "metadata": {
    "ExecuteTime": {
     "end_time": "2022-12-18T19:34:20.156059Z",
     "start_time": "2022-12-18T19:31:41.508562Z"
    }
   },
   "outputs": [
    {
     "name": "stdout",
     "output_type": "stream",
     "text": [
      "2 1\n",
      "54 2\n",
      "96 3\n",
      "132 4\n",
      "174 5\n",
      "216 6\n"
     ]
    }
   ],
   "source": [
    "for tag in ['cat','dog']:\n",
    "    driver.get(f\"https://www.instagram.com/explore/tags/{tag}/\")\n",
    "    \n",
    "    #used set in order to avoid duplication of images\n",
    "    images_links=set()\n",
    "    \n",
    "    counter=0\n",
    "    while len(images_links)<300 and counter<10:\n",
    "        for i in driver.find_elements(by=By.TAG_NAME,value='img'):\n",
    "            try:\n",
    "                images_links.add(i.get_attribute('src'))\n",
    "            except:\n",
    "                continue\n",
    "        \n",
    "        #scrolling down \n",
    "        for i in range(5):\n",
    "            driver.execute_script(\"window.scrollTo(0, document.body.scrollHeight);\")\n",
    "            time.sleep(5)\n",
    "\n",
    "        counter+=1\n",
    "        print(len(images_links),counter)\n",
    "    \n",
    "    #Saving Images\n",
    "    ##Creating folder for each tag\n",
    "    try:\n",
    "        os.mkdir(f'{tag}')\n",
    "    except:\n",
    "        pass\n",
    "    \n",
    "    for x,y in enumerate(images_links):\n",
    "        try:\n",
    "            save_as=os.path.join(tag,f'{tag}_{x}.jpg')\n",
    "            wget.download(y,save_as)\n",
    "        except:\n",
    "            pass\n"
   ]
  },
  {
   "cell_type": "code",
   "execution_count": 14,
   "id": "1622ef9b",
   "metadata": {
    "ExecuteTime": {
     "end_time": "2022-12-18T19:36:53.742639Z",
     "start_time": "2022-12-18T19:34:41.572447Z"
    }
   },
   "outputs": [
    {
     "name": "stdout",
     "output_type": "stream",
     "text": [
      "100% [............................................................................] 305645 / 30564547\n",
      "100% [............................................................................] 267029 / 267029172\n",
      "100% [............................................................................] 233700 / 233700"
     ]
    }
   ],
   "source": [
    "try:\n",
    "    os.mkdir(f'{tag}')\n",
    "except:\n",
    "    pass\n",
    "\n",
    "saved=0\n",
    "for x,y in enumerate(images_links):\n",
    "    try:\n",
    "        save_as=os.path.join(tag,f'{tag}_{x}.jpg')\n",
    "        wget.download(y,save_as)\n",
    "        saved+=1\n",
    "    except:\n",
    "        print(x)\n"
   ]
  }
 ],
 "metadata": {
  "kernelspec": {
   "display_name": "Python 3 (ipykernel)",
   "language": "python",
   "name": "python3"
  },
  "language_info": {
   "codemirror_mode": {
    "name": "ipython",
    "version": 3
   },
   "file_extension": ".py",
   "mimetype": "text/x-python",
   "name": "python",
   "nbconvert_exporter": "python",
   "pygments_lexer": "ipython3",
   "version": "3.9.6"
  }
 },
 "nbformat": 4,
 "nbformat_minor": 5
}
